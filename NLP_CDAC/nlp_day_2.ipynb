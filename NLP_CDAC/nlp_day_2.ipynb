{
 "cells": [
  {
   "cell_type": "markdown",
   "metadata": {
    "id": "pZkIXmHYIack"
   },
   "source": [
    "# Tokenization"
   ]
  },
  {
   "cell_type": "code",
   "execution_count": 1,
   "metadata": {
    "colab": {
     "base_uri": "https://localhost:8080/"
    },
    "executionInfo": {
     "elapsed": 87,
     "status": "ok",
     "timestamp": 1748609631711,
     "user": {
      "displayName": "Kishan Prakash",
      "userId": "00782312557775250381"
     },
     "user_tz": -330
    },
    "id": "dTrblohB4n_x",
    "outputId": "701cfc83-2a10-405d-db03-8a70648bc418"
   },
   "outputs": [
    {
     "name": "stdout",
     "output_type": "stream",
     "text": [
      "\n",
      "The European Union (EU) is a supranational political and economic union of 27 member states that are located primarily in Europe.[9][10] The union has a total area of 4,233,255 km2 (1,634,469 sq mi) and an estimated population of over 449 million as of 2024. The EU is often described as a sui generis political entity combining characteristics of both a federation and a confederation.[11][12]\n",
      "\n",
      "Containing 5.5% of the world population in 2023,[13] EU member states generated a nominal gross domestic product (GDP) of around €17.935 trillion in 2024, accounting for approximately one sixth of global economic output.[14] Its cornerstone, the Customs Union, paved the way to establishing an internal single market based on standardised legal framework and legislation that applies in all member states in those matters, and only those matters, where the states have agreed to act as one. EU policies aim to ensure the free movement of people, goods, services and capital within the internal market;[15] enact legislation in justice and home affairs; and maintain common policies on trade,[16] agriculture,[17] fisheries and regional development.[18] Passport controls have been abolished for travel within the Schengen Area.[19] The eurozone is a group composed of the 20 EU member states that have fully implemented the EU's economic and monetary union and use the euro currency. Through the Common Foreign and Security Policy, the union has developed a role in external relations and defence. It maintains permanent diplomatic missions throughout the world and represents itself at the United Nations, the World Trade Organization, the G7 and the G20. Due to its global influence, the European Union has been described by some scholars as an emerging superpower.[20][21][22]\n"
     ]
    }
   ],
   "source": [
    "eu_defn = \"\"\"\n",
    "The European Union (EU) is a supranational political and economic union of 27 member states that are located primarily in Europe.[9][10] The union has a total area of 4,233,255 km2 (1,634,469 sq mi) and an estimated population of over 449 million as of 2024. The EU is often described as a sui generis political entity combining characteristics of both a federation and a confederation.[11][12]\n",
    "\n",
    "Containing 5.5% of the world population in 2023,[13] EU member states generated a nominal gross domestic product (GDP) of around €17.935 trillion in 2024, accounting for approximately one sixth of global economic output.[14] Its cornerstone, the Customs Union, paved the way to establishing an internal single market based on standardised legal framework and legislation that applies in all member states in those matters, and only those matters, where the states have agreed to act as one. EU policies aim to ensure the free movement of people, goods, services and capital within the internal market;[15] enact legislation in justice and home affairs; and maintain common policies on trade,[16] agriculture,[17] fisheries and regional development.[18] Passport controls have been abolished for travel within the Schengen Area.[19] The eurozone is a group composed of the 20 EU member states that have fully implemented the EU's economic and monetary union and use the euro currency. Through the Common Foreign and Security Policy, the union has developed a role in external relations and defence. It maintains permanent diplomatic missions throughout the world and represents itself at the United Nations, the World Trade Organization, the G7 and the G20. Due to its global influence, the European Union has been described by some scholars as an emerging superpower.[20][21][22]\"\"\"\n",
    "\n",
    "print(eu_defn)\n"
   ]
  },
  {
   "cell_type": "code",
   "execution_count": 2,
   "metadata": {
    "colab": {
     "base_uri": "https://localhost:8080/"
    },
    "executionInfo": {
     "elapsed": 17,
     "status": "ok",
     "timestamp": 1748609667702,
     "user": {
      "displayName": "Kishan Prakash",
      "userId": "00782312557775250381"
     },
     "user_tz": -330
    },
    "id": "GIhyX0SjPv94",
    "outputId": "d44a1fc3-3f1b-474f-b4d5-a89dccac8d8b"
   },
   "outputs": [
    {
     "name": "stdout",
     "output_type": "stream",
     "text": [
      "\n",
      "The European Union (EU) is a supranational political and economic union of 27 member states that are located primarily in Europe\n"
     ]
    }
   ],
   "source": [
    "sentence_example_split = eu_defn.split('.')\n",
    "print(sentence_example_split[0])\n"
   ]
  },
  {
   "cell_type": "code",
   "execution_count": 3,
   "metadata": {
    "colab": {
     "base_uri": "https://localhost:8080/"
    },
    "executionInfo": {
     "elapsed": 13,
     "status": "ok",
     "timestamp": 1748609677188,
     "user": {
      "displayName": "Kishan Prakash",
      "userId": "00782312557775250381"
     },
     "user_tz": -330
    },
    "id": "eUByG1ROQh4O",
    "outputId": "31e868a7-0d29-4b42-a859-2942bf1bdb21"
   },
   "outputs": [
    {
     "name": "stdout",
     "output_type": "stream",
     "text": [
      "[9][10] The union has a total area of 4,233,255 km2 (1,634,469 sq mi) and an estimated population of over 449 million as of 2024\n"
     ]
    }
   ],
   "source": [
    "print(sentence_example_split[1])\n"
   ]
  },
  {
   "cell_type": "code",
   "execution_count": 4,
   "metadata": {
    "colab": {
     "base_uri": "https://localhost:8080/"
    },
    "executionInfo": {
     "elapsed": 26,
     "status": "ok",
     "timestamp": 1748609684130,
     "user": {
      "displayName": "Kishan Prakash",
      "userId": "00782312557775250381"
     },
     "user_tz": -330
    },
    "id": "drt5EyDMQkac",
    "outputId": "e6207c6f-3427-4f78-ed8a-f56f223bf2dc"
   },
   "outputs": [
    {
     "name": "stdout",
     "output_type": "stream",
     "text": [
      " The EU is often described as a sui generis political entity combining characteristics of both a federation and a confederation\n",
      "[11][12]\n",
      "\n",
      "Containing 5\n",
      "5% of the world population in 2023,[13] EU member states generated a nominal gross domestic product (GDP) of around €17\n"
     ]
    }
   ],
   "source": [
    "print(sentence_example_split[2])\n",
    "print(sentence_example_split[3])\n",
    "print(sentence_example_split[4])"
   ]
  },
  {
   "cell_type": "code",
   "execution_count": 5,
   "metadata": {
    "colab": {
     "base_uri": "https://localhost:8080/"
    },
    "executionInfo": {
     "elapsed": 51,
     "status": "ok",
     "timestamp": 1748609850755,
     "user": {
      "displayName": "Kishan Prakash",
      "userId": "00782312557775250381"
     },
     "user_tz": -330
    },
    "id": "Lc6izaygRMSt",
    "outputId": "30eb2674-c6b8-4b2f-8eaf-af798965e1c2"
   },
   "outputs": [
    {
     "name": "stderr",
     "output_type": "stream",
     "text": [
      "[nltk_data] Downloading package punkt_tab to\n",
      "[nltk_data]     C:\\Users\\kisha\\AppData\\Roaming\\nltk_data...\n",
      "[nltk_data]   Package punkt_tab is already up-to-date!\n"
     ]
    }
   ],
   "source": [
    "import nltk\n",
    "nltk.download('punkt_tab')\n",
    "\n",
    "sentence_example_nltk = nltk.sent_tokenize(eu_defn)"
   ]
  },
  {
   "cell_type": "code",
   "execution_count": 6,
   "metadata": {
    "colab": {
     "base_uri": "https://localhost:8080/"
    },
    "executionInfo": {
     "elapsed": 29,
     "status": "ok",
     "timestamp": 1748609855541,
     "user": {
      "displayName": "Kishan Prakash",
      "userId": "00782312557775250381"
     },
     "user_tz": -330
    },
    "id": "rn8LjuwWQMWG",
    "outputId": "9d7d51e5-63b7-4dcb-b1bc-c8d3ba9f064f"
   },
   "outputs": [
    {
     "name": "stdout",
     "output_type": "stream",
     "text": [
      "\n",
      "The European Union (EU) is a supranational political and economic union of 27 member states that are located primarily in Europe.\n",
      "[9][10] The union has a total area of 4,233,255 km2 (1,634,469 sq mi) and an estimated population of over 449 million as of 2024.\n",
      "The EU is often described as a sui generis political entity combining characteristics of both a federation and a confederation.\n",
      "[11][12]\n",
      "\n",
      "Containing 5.5% of the world population in 2023,[13] EU member states generated a nominal gross domestic product (GDP) of around €17.935 trillion in 2024, accounting for approximately one sixth of global economic output.\n",
      "[14] Its cornerstone, the Customs Union, paved the way to establishing an internal single market based on standardised legal framework and legislation that applies in all member states in those matters, and only those matters, where the states have agreed to act as one.\n"
     ]
    }
   ],
   "source": [
    "print(sentence_example_nltk[0])\n",
    "print(sentence_example_nltk[1])\n",
    "print(sentence_example_nltk[2])\n",
    "print(sentence_example_nltk[3])\n",
    "print(sentence_example_nltk[4])"
   ]
  },
  {
   "cell_type": "code",
   "execution_count": 7,
   "metadata": {
    "colab": {
     "base_uri": "https://localhost:8080/"
    },
    "executionInfo": {
     "elapsed": 17,
     "status": "ok",
     "timestamp": 1748610067455,
     "user": {
      "displayName": "Kishan Prakash",
      "userId": "00782312557775250381"
     },
     "user_tz": -330
    },
    "id": "NbDYbrKPQ942",
    "outputId": "34b37439-b1b0-4a9b-e625-57d8a3e9e775"
   },
   "outputs": [
    {
     "name": "stdout",
     "output_type": "stream",
     "text": [
      "Mannual split on '.' : \n",
      "1. The European Union (EU) is a supranational political and economic union of 27 member states that are located primarily in Europe\n",
      "2. [9][10] The union has a total area of 4,233,255 km2 (1,634,469 sq mi) and an estimated population of over 449 million as of 2024\n",
      "3. The EU is often described as a sui generis political entity combining characteristics of both a federation and a confederation\n",
      "4. [11][12]\n",
      "\n",
      "Containing 5\n",
      "5. 5% of the world population in 2023,[13] EU member states generated a nominal gross domestic product (GDP) of around €17\n",
      "6. 935 trillion in 2024, accounting for approximately one sixth of global economic output\n"
     ]
    }
   ],
   "source": [
    "print(\"Mannual split on '.' : \")\n",
    "\n",
    "for i, s in enumerate(sentence_example_split[:6], 1):\n",
    "    print(f\"{i}. {s.strip()}\")"
   ]
  },
  {
   "cell_type": "code",
   "execution_count": 8,
   "metadata": {
    "colab": {
     "base_uri": "https://localhost:8080/"
    },
    "executionInfo": {
     "elapsed": 15,
     "status": "ok",
     "timestamp": 1748610130899,
     "user": {
      "displayName": "Kishan Prakash",
      "userId": "00782312557775250381"
     },
     "user_tz": -330
    },
    "id": "0K8JkAyVSCqU",
    "outputId": "3cf5b827-e31f-42f3-be03-91e22e09ff3a"
   },
   "outputs": [
    {
     "name": "stdout",
     "output_type": "stream",
     "text": [
      "NLTK sent_tokenize output : \n",
      "1. \n",
      "The European Union (EU) is a supranational political and economic union of 27 member states that are located primarily in Europe.\n",
      "2. [9][10] The union has a total area of 4,233,255 km2 (1,634,469 sq mi) and an estimated population of over 449 million as of 2024.\n",
      "3. The EU is often described as a sui generis political entity combining characteristics of both a federation and a confederation.\n",
      "4. [11][12]\n",
      "\n",
      "Containing 5.5% of the world population in 2023,[13] EU member states generated a nominal gross domestic product (GDP) of around €17.935 trillion in 2024, accounting for approximately one sixth of global economic output.\n",
      "5. [14] Its cornerstone, the Customs Union, paved the way to establishing an internal single market based on standardised legal framework and legislation that applies in all member states in those matters, and only those matters, where the states have agreed to act as one.\n",
      "6. EU policies aim to ensure the free movement of people, goods, services and capital within the internal market;[15] enact legislation in justice and home affairs; and maintain common policies on trade,[16] agriculture,[17] fisheries and regional development.\n"
     ]
    }
   ],
   "source": [
    "print(\"NLTK sent_tokenize output : \")\n",
    "\n",
    "for i, s in enumerate(sentence_example_nltk[:6], 1):\n",
    "    print(f\"{i}. {s}\")"
   ]
  },
  {
   "cell_type": "code",
   "execution_count": 9,
   "metadata": {
    "colab": {
     "base_uri": "https://localhost:8080/"
    },
    "executionInfo": {
     "elapsed": 205,
     "status": "ok",
     "timestamp": 1748610631857,
     "user": {
      "displayName": "Kishan Prakash",
      "userId": "00782312557775250381"
     },
     "user_tz": -330
    },
    "id": "ookVQVkRSSKA",
    "outputId": "9346722e-f0dd-48b2-d206-038450b854a7"
   },
   "outputs": [
    {
     "name": "stdout",
     "output_type": "stream",
     "text": [
      "Preview of extracted text : \n",
      "ଷ୍ଟିଭେନ ପଲ ଜବ୍ସ ((/dʒɒbz/; ଫେବୃଆରୀ ୨୪, ୧୯୫୫ – ଅକ୍ଟୋବର ୫, ୨୦୧୧) ଜଣେ ଆମେରିକୀୟ କମ୍ପ୍ୟୁଟର ବିଜ୍ଞାନୀ ଥିଲେ । ସେ ଆପଲ କମ୍ପାନୀର ସହ ସ୍ଥାପକ ଓ ମୁଖ୍ୟ ଅଧ୍ୟକ୍ଷ ମଧ୍ୟ ଥିଲେ;pixar animation studios [୨]ର ମୁଖ୍ୟ ଅଧ୍ୟକ୍ଷ ; the Walt Disney companyର ନିୟଂତ୍ରକ ମଣ୍ଡଳିର ସଦସ୍ୟ ମଧ୍ୟ ଥିଲେ।ସେ NeXT.incର ଉଦ୍ଭାବକ ଓ ମୁଖ୍ୟ ଅଧକ୍ଷ ମଧ୍ୟ ଥିଲେ। ସେ ୧୯୭୦ micro computer revolutionର ଆଦିମ ଆବିଷକର୍ତା ଭାବେ ଜଣଶୁଣା। ତାଙ୍କ ଦେହାନ୍ତ ପରେ ତାଙ୍କ ଜୀବନୀ ଲେଖକ ତାଙ୍କୁ ବର୍ଣ୍ଣନା କରି ଲେଖିଛନ୍ତି ଯେ \"ତାଙ୍କ ପରିବର୍ତ୍ତନ ପାଇଁ ଆବେଗ ଏବଂ ଉତ୍ସାହ\"  ତାଙ୍କୁ 6ଟି ବଡ଼ କମ୍ପାନୀରେ \n"
     ]
    }
   ],
   "source": [
    "import requests\n",
    "from bs4 import BeautifulSoup\n",
    "\n",
    "url = \"https://or.wikipedia.org/wiki/%E0%AC%B7%E0%AD%8D%E0%AC%9F%E0%AC%BF%E0%AC%AD%E0%AD%8D_%E0%AC%9C%E0%AC%AC%E0%AD%8D%E0%AC%B8\"\n",
    "\n",
    "res = requests.get(url)\n",
    "soup = BeautifulSoup(res.content, 'html.parser')\n",
    "\n",
    "text = \" \".join(p.get_text() for p in soup.select('p'))\n",
    "\n",
    "print(\"Preview of extracted text : \")\n",
    "print(text[:500])"
   ]
  },
  {
   "cell_type": "code",
   "execution_count": 10,
   "metadata": {
    "colab": {
     "base_uri": "https://localhost:8080/"
    },
    "executionInfo": {
     "elapsed": 974,
     "status": "ok",
     "timestamp": 1748610830214,
     "user": {
      "displayName": "Kishan Prakash",
      "userId": "00782312557775250381"
     },
     "user_tz": -330
    },
    "id": "-KGrDmrAUBpw",
    "outputId": "39102af7-1829-441b-a743-8d98d7acc166"
   },
   "outputs": [
    {
     "name": "stdout",
     "output_type": "stream",
     "text": [
      "Number of sentences :  4\n"
     ]
    },
    {
     "name": "stderr",
     "output_type": "stream",
     "text": [
      "[nltk_data] Downloading package punkt to\n",
      "[nltk_data]     C:\\Users\\kisha\\AppData\\Roaming\\nltk_data...\n",
      "[nltk_data]   Package punkt is already up-to-date!\n"
     ]
    }
   ],
   "source": [
    "from nltk.tokenize import word_tokenize, sent_tokenize\n",
    "\n",
    "import nltk\n",
    "\n",
    "nltk.download('punkt')\n",
    "\n",
    "nltk_sentence = sent_tokenize(text)\n",
    "\n",
    "print(\"Number of sentences : \", len(nltk_sentence))"
   ]
  },
  {
   "cell_type": "code",
   "execution_count": 11,
   "metadata": {
    "colab": {
     "base_uri": "https://localhost:8080/"
    },
    "executionInfo": {
     "elapsed": 17,
     "status": "ok",
     "timestamp": 1748610875166,
     "user": {
      "displayName": "Kishan Prakash",
      "userId": "00782312557775250381"
     },
     "user_tz": -330
    },
    "id": "LEtkhdOwU8pO",
    "outputId": "05fe6fdd-0f27-46c1-dab8-e1160ab05c23"
   },
   "outputs": [
    {
     "name": "stdout",
     "output_type": "stream",
     "text": [
      "Number of words :  2174\n"
     ]
    }
   ],
   "source": [
    "nltk_word = word_tokenize(text)\n",
    "print(\"Number of words : \", len(nltk_word))"
   ]
  },
  {
   "cell_type": "code",
   "execution_count": 12,
   "metadata": {
    "colab": {
     "base_uri": "https://localhost:8080/"
    },
    "executionInfo": {
     "elapsed": 25393,
     "status": "ok",
     "timestamp": 1748611310025,
     "user": {
      "displayName": "Kishan Prakash",
      "userId": "00782312557775250381"
     },
     "user_tz": -330
    },
    "id": "uyypXtmyWqai",
    "outputId": "5caa1ddf-ee30-4e3d-a992-cfd60d44f3db"
   },
   "outputs": [
    {
     "name": "stdout",
     "output_type": "stream",
     "text": [
      "Collecting xx-ent-wiki-sm==3.8.0\n",
      "  Downloading https://github.com/explosion/spacy-models/releases/download/xx_ent_wiki_sm-3.8.0/xx_ent_wiki_sm-3.8.0-py3-none-any.whl (11.1 MB)\n",
      "     ---------------------------------------- 0.0/11.1 MB ? eta -:--:--\n",
      "     ---------------------------------------- 0.0/11.1 MB ? eta -:--:--\n",
      "     ---------------------------------------- 0.0/11.1 MB ? eta -:--:--\n",
      "     ---------------------------------------- 0.0/11.1 MB ? eta -:--:--\n",
      "      --------------------------------------- 0.3/11.1 MB ? eta -:--:--\n",
      "     - ------------------------------------- 0.5/11.1 MB 740.0 kB/s eta 0:00:15\n",
      "     - ------------------------------------- 0.5/11.1 MB 740.0 kB/s eta 0:00:15\n",
      "     - ------------------------------------- 0.5/11.1 MB 740.0 kB/s eta 0:00:15\n",
      "     -- ------------------------------------ 0.8/11.1 MB 597.4 kB/s eta 0:00:18\n",
      "     -- ------------------------------------ 0.8/11.1 MB 597.4 kB/s eta 0:00:18\n",
      "     -- ------------------------------------ 0.8/11.1 MB 597.4 kB/s eta 0:00:18\n",
      "     -- ------------------------------------ 0.8/11.1 MB 597.4 kB/s eta 0:00:18\n",
      "     --- ----------------------------------- 1.0/11.1 MB 466.1 kB/s eta 0:00:22\n",
      "     --- ----------------------------------- 1.0/11.1 MB 466.1 kB/s eta 0:00:22\n",
      "     ---- ---------------------------------- 1.3/11.1 MB 503.6 kB/s eta 0:00:20\n",
      "     ---- ---------------------------------- 1.3/11.1 MB 503.6 kB/s eta 0:00:20\n",
      "     ----- --------------------------------- 1.6/11.1 MB 494.4 kB/s eta 0:00:20\n",
      "     ----- --------------------------------- 1.6/11.1 MB 494.4 kB/s eta 0:00:20\n",
      "     ------ -------------------------------- 1.8/11.1 MB 533.3 kB/s eta 0:00:18\n",
      "     ------ -------------------------------- 1.8/11.1 MB 533.3 kB/s eta 0:00:18\n",
      "     ------- ------------------------------- 2.1/11.1 MB 550.5 kB/s eta 0:00:17\n",
      "     -------- ------------------------------ 2.4/11.1 MB 577.3 kB/s eta 0:00:16\n",
      "     -------- ------------------------------ 2.4/11.1 MB 577.3 kB/s eta 0:00:16\n",
      "     --------- ----------------------------- 2.6/11.1 MB 594.5 kB/s eta 0:00:15\n",
      "     --------- ----------------------------- 2.6/11.1 MB 594.5 kB/s eta 0:00:15\n",
      "     ---------- ---------------------------- 2.9/11.1 MB 597.7 kB/s eta 0:00:14\n",
      "     ---------- ---------------------------- 2.9/11.1 MB 597.7 kB/s eta 0:00:14\n",
      "     ----------- --------------------------- 3.1/11.1 MB 593.7 kB/s eta 0:00:14\n",
      "     ----------- --------------------------- 3.4/11.1 MB 610.9 kB/s eta 0:00:13\n",
      "     ----------- --------------------------- 3.4/11.1 MB 610.9 kB/s eta 0:00:13\n",
      "     ------------ -------------------------- 3.7/11.1 MB 626.5 kB/s eta 0:00:12\n",
      "     ------------ -------------------------- 3.7/11.1 MB 626.5 kB/s eta 0:00:12\n",
      "     ------------- ------------------------- 3.9/11.1 MB 627.6 kB/s eta 0:00:12\n",
      "     -------------- ------------------------ 4.2/11.1 MB 637.7 kB/s eta 0:00:11\n",
      "     -------------- ------------------------ 4.2/11.1 MB 637.7 kB/s eta 0:00:11\n",
      "     --------------- ----------------------- 4.5/11.1 MB 646.7 kB/s eta 0:00:11\n",
      "     ---------------- ---------------------- 4.7/11.1 MB 658.6 kB/s eta 0:00:10\n",
      "     ----------------- --------------------- 5.0/11.1 MB 666.2 kB/s eta 0:00:10\n",
      "     ----------------- --------------------- 5.0/11.1 MB 666.2 kB/s eta 0:00:10\n",
      "     ----------------- --------------------- 5.0/11.1 MB 666.2 kB/s eta 0:00:10\n",
      "     ------------------ -------------------- 5.2/11.1 MB 661.2 kB/s eta 0:00:09\n",
      "     ------------------- ------------------- 5.5/11.1 MB 671.4 kB/s eta 0:00:09\n",
      "     -------------------- ------------------ 5.8/11.1 MB 691.7 kB/s eta 0:00:08\n",
      "     ---------------------- ---------------- 6.3/11.1 MB 721.7 kB/s eta 0:00:07\n",
      "     ---------------------- ---------------- 6.3/11.1 MB 721.7 kB/s eta 0:00:07\n",
      "     ----------------------- --------------- 6.6/11.1 MB 720.5 kB/s eta 0:00:07\n",
      "     ----------------------- --------------- 6.8/11.1 MB 732.5 kB/s eta 0:00:06\n",
      "     ------------------------ -------------- 7.1/11.1 MB 746.5 kB/s eta 0:00:06\n",
      "     ------------------------- ------------- 7.3/11.1 MB 765.0 kB/s eta 0:00:05\n",
      "     -------------------------- ------------ 7.6/11.1 MB 776.1 kB/s eta 0:00:05\n",
      "     ---------------------------- ---------- 8.1/11.1 MB 802.6 kB/s eta 0:00:04\n",
      "     ----------------------------- --------- 8.4/11.1 MB 817.0 kB/s eta 0:00:04\n",
      "     ------------------------------ -------- 8.7/11.1 MB 834.9 kB/s eta 0:00:03\n",
      "     ------------------------------- ------- 8.9/11.1 MB 837.6 kB/s eta 0:00:03\n",
      "     --------------------------------- ----- 9.4/11.1 MB 865.3 kB/s eta 0:00:02\n",
      "     ---------------------------------- ---- 9.7/11.1 MB 877.3 kB/s eta 0:00:02\n",
      "     ----------------------------------- -- 10.2/11.1 MB 904.8 kB/s eta 0:00:01\n",
      "     ------------------------------------ - 10.7/11.1 MB 933.3 kB/s eta 0:00:01\n",
      "     -------------------------------------- 11.1/11.1 MB 949.9 kB/s eta 0:00:00\n",
      "Installing collected packages: xx-ent-wiki-sm\n",
      "Successfully installed xx-ent-wiki-sm-3.8.0\n",
      "\u001b[38;5;2m✔ Download and installation successful\u001b[0m\n",
      "You can now load the package via spacy.load('xx_ent_wiki_sm')\n"
     ]
    }
   ],
   "source": [
    "!python -m spacy download xx_ent_wiki_sm\n",
    "\n",
    "import spacy"
   ]
  },
  {
   "cell_type": "code",
   "execution_count": 13,
   "metadata": {
    "colab": {
     "base_uri": "https://localhost:8080/"
    },
    "executionInfo": {
     "elapsed": 8389,
     "status": "ok",
     "timestamp": 1748611322107,
     "user": {
      "displayName": "Kishan Prakash",
      "userId": "00782312557775250381"
     },
     "user_tz": -330
    },
    "id": "012RauY_VH3b",
    "outputId": "304bcdb1-8213-47ba-de11-f942fd901dbc"
   },
   "outputs": [
    {
     "name": "stdout",
     "output_type": "stream",
     "text": [
      "Number of sentences :  74\n"
     ]
    }
   ],
   "source": [
    "nlp = spacy.load('xx_ent_wiki_sm')\n",
    "\n",
    "nlp.add_pipe('sentencizer')\n",
    "\n",
    "doc = nlp(text)\n",
    "\n",
    "spacy_sentences = [sent.text for sent in doc.sents]\n",
    "\n",
    "print(\"Number of sentences : \", len(spacy_sentences))"
   ]
  },
  {
   "cell_type": "code",
   "execution_count": 14,
   "metadata": {
    "colab": {
     "base_uri": "https://localhost:8080/"
    },
    "executionInfo": {
     "elapsed": 7,
     "status": "ok",
     "timestamp": 1748611389174,
     "user": {
      "displayName": "Kishan Prakash",
      "userId": "00782312557775250381"
     },
     "user_tz": -330
    },
    "id": "Ao_InaUWW_s0",
    "outputId": "9e798d9a-191c-46d0-c570-ab6159651dcc"
   },
   "outputs": [
    {
     "data": {
      "text/plain": [
       "('ଷ୍ଟିଭେନ ପଲ ଜବ୍ସ ((/dʒɒbz/; ଫେବୃଆରୀ ୨୪, ୧୯୫୫ – ଅକ୍ଟୋବର ୫, ୨୦୧୧) ଜଣେ ଆମେରିକୀୟ କମ୍ପ୍ୟୁଟର ବିଜ୍ଞାନୀ ଥିଲେ ।',\n",
       " 'ସେ ଆପଲ କମ୍ପାନୀର ସହ ସ୍ଥାପକ ଓ ମୁଖ୍ୟ ଅଧ୍ୟକ୍ଷ ମଧ୍ୟ ଥିଲେ;pixar animation studios [୨]ର ମୁଖ୍ୟ ଅଧ୍ୟକ୍ଷ\\xa0; the Walt Disney companyର ନିୟଂତ୍ରକ ମଣ୍ଡଳିର ସଦସ୍ୟ ମଧ୍ୟ ଥିଲେ।ସେ NeXT.incର ଉଦ୍ଭାବକ ଓ ମୁଖ୍ୟ ଅଧକ୍ଷ ମଧ୍ୟ ଥିଲେ।')"
      ]
     },
     "execution_count": 14,
     "metadata": {},
     "output_type": "execute_result"
    }
   ],
   "source": [
    "spacy_sentences[0], spacy_sentences[1]"
   ]
  },
  {
   "cell_type": "code",
   "execution_count": 15,
   "metadata": {
    "colab": {
     "base_uri": "https://localhost:8080/"
    },
    "executionInfo": {
     "elapsed": 12,
     "status": "ok",
     "timestamp": 1748611354289,
     "user": {
      "displayName": "Kishan Prakash",
      "userId": "00782312557775250381"
     },
     "user_tz": -330
    },
    "id": "hPFy4kwoWBwc",
    "outputId": "e1b946e1-6cc2-4d25-ce8a-d7cbc6aab09c"
   },
   "outputs": [
    {
     "name": "stdout",
     "output_type": "stream",
     "text": [
      "Number of words :  2192\n"
     ]
    }
   ],
   "source": [
    "spacy_words = [token.text for token in doc]\n",
    "print(\"Number of words : \", len(spacy_words))"
   ]
  },
  {
   "cell_type": "markdown",
   "metadata": {
    "id": "8YZs28wIagRe"
   },
   "source": [
    "Tokenization for specific languages"
   ]
  },
  {
   "cell_type": "code",
   "execution_count": 16,
   "metadata": {
    "colab": {
     "base_uri": "https://localhost:8080/"
    },
    "executionInfo": {
     "elapsed": 1232,
     "status": "ok",
     "timestamp": 1748612710306,
     "user": {
      "displayName": "Kishan Prakash",
      "userId": "00782312557775250381"
     },
     "user_tz": -330
    },
    "id": "tMSSIrZQW81J",
    "outputId": "897186b7-a406-4cdb-d873-1b782f682dff"
   },
   "outputs": [
    {
     "name": "stdout",
     "output_type": "stream",
     "text": [
      "Sentence 1 : \"We're moving to L.A.!\"\n",
      "Tokens (8) : ['\"', 'We', \"'re\", 'moving', 'to', 'L.A.', '!', '\"']\n",
      "------------------------------------------------------------\n",
      "Sentence 2 : We are here to help! Send snail-mail, email support@cdac.in or lvisit us at http://www.cdac.in\n",
      "Tokens (18) : ['We', 'are', 'here', 'to', 'help', '!', 'Send', 'snail', '-', 'mail', ',', 'email', 'support@cdac.in', 'or', 'lvisit', 'us', 'at', 'http://www.cdac.in']\n",
      "------------------------------------------------------------\n",
      "Sentence 3 : A 5km ride cost $10.50\n",
      "Tokens (7) : ['A', '5', 'km', 'ride', 'cost', '$', '10.50']\n",
      "------------------------------------------------------------\n",
      "Sentence 4 : Let's visit St. Louis in the U.S. next year.\n",
      "Tokens (11) : ['Let', \"'s\", 'visit', 'St.', 'Louis', 'in', 'the', 'U.S.', 'next', 'year', '.']\n",
      "------------------------------------------------------------\n"
     ]
    }
   ],
   "source": [
    "nlp = spacy.load('en_core_web_sm')\n",
    "\n",
    "example = [\n",
    "    \"\\\"We're moving to L.A.!\\\"\",\n",
    "    \"We are here to help! Send snail-mail, email support@cdac.in or lvisit us at http://www.cdac.in\",\n",
    "    \"A 5km ride cost $10.50\",\n",
    "    \"Let's visit St. Louis in the U.S. next year.\"\n",
    "]\n",
    "\n",
    "for i, sentence in enumerate(example, 1):\n",
    "\n",
    "    doc = nlp(sentence)\n",
    "\n",
    "    tokens = [token.text for token in doc]\n",
    "\n",
    "    print(f\"Sentence {i} : {sentence}\")\n",
    "    print(f\"Tokens ({len(tokens)}) : {tokens}\")\n",
    "    print(\"-\" *60)"
   ]
  },
  {
   "cell_type": "code",
   "execution_count": 17,
   "metadata": {
    "colab": {
     "base_uri": "https://localhost:8080/"
    },
    "executionInfo": {
     "elapsed": 274,
     "status": "ok",
     "timestamp": 1748612891048,
     "user": {
      "displayName": "Kishan Prakash",
      "userId": "00782312557775250381"
     },
     "user_tz": -330
    },
    "id": "A1Qfmv2bcHmF",
    "outputId": "6d77270c-2807-46ad-cffd-166489a125cb"
   },
   "outputs": [
    {
     "name": "stdout",
     "output_type": "stream",
     "text": [
      "Text : \"We're moving to L.A.!\"\n",
      "['``', 'We', \"'re\", 'moving', 'to', 'L.A.', '!', \"''\"]\n",
      "No of tokens : 8\n",
      "\n",
      "Text : We are here to help! Send snail-mail, email support@cdac.in or lvisit us at http://www.cdac.in\n",
      "['We', 'are', 'here', 'to', 'help', '!', 'Send', 'snail-mail', ',', 'email', 'support', '@', 'cdac.in', 'or', 'lvisit', 'us', 'at', 'http', ':', '//www.cdac.in']\n",
      "No of tokens : 20\n",
      "\n",
      "Text : A 5km ride cost $10.50\n",
      "['A', '5km', 'ride', 'cost', '$', '10.50']\n",
      "No of tokens : 6\n",
      "\n",
      "Text : Let's visit St. Louis in the U.S. next year.\n",
      "['Let', \"'s\", 'visit', 'St.', 'Louis', 'in', 'the', 'U.S.', 'next', 'year', '.']\n",
      "No of tokens : 11\n",
      "\n"
     ]
    },
    {
     "name": "stderr",
     "output_type": "stream",
     "text": [
      "[nltk_data] Downloading package punkt to\n",
      "[nltk_data]     C:\\Users\\kisha\\AppData\\Roaming\\nltk_data...\n",
      "[nltk_data]   Package punkt is already up-to-date!\n"
     ]
    }
   ],
   "source": [
    "import nltk\n",
    "from nltk.tokenize import word_tokenize\n",
    "nltk.download('punkt')\n",
    "\n",
    "for text in example:\n",
    "    print(f\"Text : {text}\")\n",
    "\n",
    "    tokens = word_tokenize(text)\n",
    "\n",
    "    print(tokens)\n",
    "\n",
    "    print(f\"No of tokens : {len(tokens)}\\n\")"
   ]
  },
  {
   "cell_type": "markdown",
   "metadata": {
    "id": "sBSz9rz5i70u"
   },
   "source": [
    "Pipeline"
   ]
  },
  {
   "cell_type": "code",
   "execution_count": 18,
   "metadata": {
    "colab": {
     "base_uri": "https://localhost:8080/"
    },
    "executionInfo": {
     "elapsed": 315,
     "status": "ok",
     "timestamp": 1748614906208,
     "user": {
      "displayName": "Kishan Prakash",
      "userId": "00782312557775250381"
     },
     "user_tz": -330
    },
    "id": "cbr8xLAljY_V",
    "outputId": "50574289-5dd5-4186-d3d3-f114c4f1b793"
   },
   "outputs": [
    {
     "name": "stderr",
     "output_type": "stream",
     "text": [
      "[nltk_data] Downloading package punkt to\n",
      "[nltk_data]     C:\\Users\\kisha\\AppData\\Roaming\\nltk_data...\n",
      "[nltk_data]   Package punkt is already up-to-date!\n",
      "[nltk_data] Downloading package averaged_perceptron_tagger to\n",
      "[nltk_data]     C:\\Users\\kisha\\AppData\\Roaming\\nltk_data...\n",
      "[nltk_data]   Package averaged_perceptron_tagger is already up-to-\n",
      "[nltk_data]       date!\n",
      "[nltk_data] Downloading package maxent_ne_chunker to\n",
      "[nltk_data]     C:\\Users\\kisha\\AppData\\Roaming\\nltk_data...\n",
      "[nltk_data]   Unzipping chunkers\\maxent_ne_chunker.zip.\n",
      "[nltk_data] Downloading package words to\n",
      "[nltk_data]     C:\\Users\\kisha\\AppData\\Roaming\\nltk_data...\n",
      "[nltk_data]   Unzipping corpora\\words.zip.\n",
      "[nltk_data] Downloading package averaged_perceptron_tagger_eng to\n",
      "[nltk_data]     C:\\Users\\kisha\\AppData\\Roaming\\nltk_data...\n",
      "[nltk_data]   Package averaged_perceptron_tagger_eng is already up-to-\n",
      "[nltk_data]       date!\n",
      "[nltk_data] Downloading package maxent_ne_chunker_tab to\n",
      "[nltk_data]     C:\\Users\\kisha\\AppData\\Roaming\\nltk_data...\n",
      "[nltk_data]   Unzipping chunkers\\maxent_ne_chunker_tab.zip.\n"
     ]
    },
    {
     "data": {
      "text/plain": [
       "True"
      ]
     },
     "execution_count": 18,
     "metadata": {},
     "output_type": "execute_result"
    }
   ],
   "source": [
    "import nltk\n",
    "from nltk import word_tokenize, sent_tokenize, pos_tag, ne_chunk\n",
    "from nltk.tree import Tree\n",
    "\n",
    "nltk.download('punkt')\n",
    "nltk.download('averaged_perceptron_tagger')\n",
    "nltk.download('maxent_ne_chunker')\n",
    "nltk.download('words')\n",
    "nltk.download('averaged_perceptron_tagger_eng')\n",
    "nltk.download('maxent_ne_chunker_tab')"
   ]
  },
  {
   "cell_type": "code",
   "execution_count": 19,
   "metadata": {
    "colab": {
     "base_uri": "https://localhost:8080/"
    },
    "executionInfo": {
     "elapsed": 473,
     "status": "ok",
     "timestamp": 1748615028375,
     "user": {
      "displayName": "Kishan Prakash",
      "userId": "00782312557775250381"
     },
     "user_tz": -330
    },
    "id": "Mvufcs3Bjb_L",
    "outputId": "5e6462e7-b602-465d-dda5-090370ae2e88"
   },
   "outputs": [
    {
     "name": "stdout",
     "output_type": "stream",
     "text": [
      "['Apple was founded by Steve Jobs in California.', 'He emailed support@apple.com from L.A.']\n",
      "-------------------------------------\n",
      "['Apple', 'was', 'founded', 'by', 'Steve', 'Jobs', 'in', 'California', '.', 'He', 'emailed', 'support', '@', 'apple.com', 'from', 'L.A', '.']\n",
      "-------------------------------------\n",
      "[('Apple', 'NNP'), ('was', 'VBD'), ('founded', 'VBN'), ('by', 'IN'), ('Steve', 'NNP'), ('Jobs', 'NNP'), ('in', 'IN'), ('California', 'NNP'), ('.', '.'), ('He', 'PRP'), ('emailed', 'VBD'), ('support', 'NN'), ('@', 'NNP'), ('apple.com', 'NN'), ('from', 'IN'), ('L.A', 'NNP'), ('.', '.')]\n",
      "-------------------------------------\n",
      "(S\n",
      "  (PERSON Apple/NNP)\n",
      "  was/VBD\n",
      "  founded/VBN\n",
      "  by/IN\n",
      "  (PERSON Steve/NNP Jobs/NNP)\n",
      "  in/IN\n",
      "  (GPE California/NNP)\n",
      "  ./.\n",
      "  He/PRP\n",
      "  emailed/VBD\n",
      "  support/NN\n",
      "  @/NNP\n",
      "  apple.com/NN\n",
      "  from/IN\n",
      "  L.A/NNP\n",
      "  ./.)\n"
     ]
    }
   ],
   "source": [
    "text = \"Apple was founded by Steve Jobs in California. He emailed support@apple.com from L.A.\"\n",
    "\n",
    "sentences = sent_tokenize(text)\n",
    "print(sentences)\n",
    "print(\"-------------------------------------\")\n",
    "\n",
    "tokens = word_tokenize(text)\n",
    "print(tokens)\n",
    "print(\"-------------------------------------\")\n",
    "\n",
    "pos_tags = pos_tag(tokens)\n",
    "print(pos_tags)\n",
    "print(\"-------------------------------------\")\n",
    "\n",
    "ne_tree = ne_chunk(pos_tags)\n",
    "print(ne_tree)"
   ]
  },
  {
   "cell_type": "code",
   "execution_count": 20,
   "metadata": {
    "colab": {
     "base_uri": "https://localhost:8080/"
    },
    "executionInfo": {
     "elapsed": 11,
     "status": "ok",
     "timestamp": 1748615373528,
     "user": {
      "displayName": "Kishan Prakash",
      "userId": "00782312557775250381"
     },
     "user_tz": -330
    },
    "id": "diejKYFYjb-I",
    "outputId": "07ba2730-bfc8-413f-df9c-15cd9984ea51"
   },
   "outputs": [
    {
     "name": "stdout",
     "output_type": "stream",
     "text": [
      "===== NLTK NLP Pipeline =====\n",
      "Sentences(2) :  ['Apple was founded by Steve Jobs in California.', 'He emailed support@apple.com from L.A.']\n",
      "Tokens(17) :  ['Apple', 'was', 'founded', 'by', 'Steve', 'Jobs', 'in', 'California', '.', 'He', 'emailed', 'support', '@', 'apple.com', 'from', 'L.A', '.']\n",
      "POS Tags(17) :  [('Apple', 'NNP'), ('was', 'VBD'), ('founded', 'VBN'), ('by', 'IN'), ('Steve', 'NNP'), ('Jobs', 'NNP'), ('in', 'IN'), ('California', 'NNP'), ('.', '.'), ('He', 'PRP'), ('emailed', 'VBD'), ('support', 'NN'), ('@', 'NNP'), ('apple.com', 'NN'), ('from', 'IN'), ('L.A', 'NNP'), ('.', '.')]\n",
      "Named Entities(3) :  [('Apple', 'PERSON'), ('Steve Jobs', 'PERSON'), ('California', 'GPE')]\n",
      "\n",
      "Pipeline Stages : ['Tokenizer', 'POS Tagger', 'Chunker/NER'] \n"
     ]
    }
   ],
   "source": [
    "named_entities = []\n",
    "\n",
    "for subtree in ne_tree:\n",
    "\n",
    "    if isinstance(subtree, Tree):\n",
    "\n",
    "        entity = ' '.join(token for token, pos in subtree.leaves())\n",
    "\n",
    "        label = subtree.label()\n",
    "\n",
    "        named_entities.append((entity, label))\n",
    "\n",
    "print(\"===== NLTK NLP Pipeline =====\")\n",
    "\n",
    "print(f\"Sentences({len(sentences)}) : \", sentences)\n",
    "print(f\"Tokens({len(tokens)}) : \", tokens)\n",
    "print(f\"POS Tags({len(pos_tags)}) : \", pos_tags)\n",
    "print(f\"Named Entities({len(named_entities)}) : \", named_entities)\n",
    "print(\"\\nPipeline Stages : ['Tokenizer', 'POS Tagger', 'Chunker/NER'] \")"
   ]
  },
  {
   "cell_type": "code",
   "execution_count": 21,
   "metadata": {
    "colab": {
     "base_uri": "https://localhost:8080/"
    },
    "executionInfo": {
     "elapsed": 1683,
     "status": "ok",
     "timestamp": 1748615522470,
     "user": {
      "displayName": "Kishan Prakash",
      "userId": "00782312557775250381"
     },
     "user_tz": -330
    },
    "id": "0KYaPiYYjb5i",
    "outputId": "e3cc806d-ff16-4a1d-b2c0-0e5bdf03259d"
   },
   "outputs": [
    {
     "name": "stdout",
     "output_type": "stream",
     "text": [
      "Pipeline components :  ['tok2vec', 'tagger', 'parser', 'attribute_ruler', 'lemmatizer', 'ner']\n",
      "Component Names :  ['tok2vec', 'tagger', 'parser', 'attribute_ruler', 'lemmatizer', 'ner']\n"
     ]
    }
   ],
   "source": [
    "import spacy\n",
    "\n",
    "from spacy import displacy, explain\n",
    "\n",
    "nlp = spacy.load('en_core_web_sm')\n",
    "\n",
    "print(\"Pipeline components : \", nlp.pipe_names)\n",
    "\n",
    "print(\"Component Names : \", nlp.pipe_names)"
   ]
  },
  {
   "cell_type": "code",
   "execution_count": 22,
   "metadata": {
    "colab": {
     "base_uri": "https://localhost:8080/"
    },
    "executionInfo": {
     "elapsed": 36,
     "status": "ok",
     "timestamp": 1748615636347,
     "user": {
      "displayName": "Kishan Prakash",
      "userId": "00782312557775250381"
     },
     "user_tz": -330
    },
    "id": "YucNiB8-m2DD",
    "outputId": "9f7cdb03-6b0b-4203-c9f8-9e4473048c06"
   },
   "outputs": [
    {
     "name": "stdout",
     "output_type": "stream",
     "text": [
      "Sentensizer added.\n",
      "Pipeline components :  ['tok2vec', 'tagger', 'sentencizer', 'parser', 'attribute_ruler', 'lemmatizer', 'ner']\n"
     ]
    }
   ],
   "source": [
    "if \"sentencizer\" not in nlp.pipe_names:\n",
    "\n",
    "\n",
    "    nlp.add_pipe(\"sentencizer\", before=\"parser\")\n",
    "\n",
    "    print(\"Sentensizer added.\")\n",
    "\n",
    "    print(\"Pipeline components : \", nlp.pipe_names)"
   ]
  },
  {
   "cell_type": "code",
   "execution_count": 23,
   "metadata": {
    "colab": {
     "base_uri": "https://localhost:8080/"
    },
    "executionInfo": {
     "elapsed": 17,
     "status": "ok",
     "timestamp": 1748615955498,
     "user": {
      "displayName": "Kishan Prakash",
      "userId": "00782312557775250381"
     },
     "user_tz": -330
    },
    "id": "FAgyz4e2nSPP",
    "outputId": "480b17bd-55ca-42a9-aa57-5afdb93ef580"
   },
   "outputs": [
    {
     "name": "stdout",
     "output_type": "stream",
     "text": [
      "\n",
      "Tokens : \n",
      "['Apple', 'was', 'founded', 'by', 'Steve', 'Jobs', 'in', 'California', '.', 'He', 'emailed', 'support@apple.com', 'from', 'L.A.']\n",
      "\n",
      "Sentences : \n",
      "['Apple was founded by Steve Jobs in California.', 'He emailed support@apple.com from L.A.']\n",
      "\n",
      "Explanation : \n",
      "VBZ :  verb, 3rd person singular present\n",
      "nsubj :  nominal subject\n",
      "ORG :  Companies, agencies, institutions, etc.\n"
     ]
    }
   ],
   "source": [
    "text = \"Apple was founded by Steve Jobs in California. He emailed support@apple.com from L.A.\"\n",
    "\n",
    "doc = nlp(text)\n",
    "\n",
    "print(\"\\nTokens : \")\n",
    "print([token.text for token in doc])\n",
    "\n",
    "print(\"\\nSentences : \")\n",
    "print([sent.text for sent in doc.sents])\n",
    "\n",
    "\n",
    "print(\"\\nExplanation : \")\n",
    "print(\"VBZ : \", explain(\"VBZ\"))\n",
    "print(\"nsubj : \", explain(\"nsubj\"))\n",
    "print(\"ORG : \", explain(\"ORG\"))\n",
    "\n",
    "\n"
   ]
  },
  {
   "cell_type": "code",
   "execution_count": 25,
   "metadata": {},
   "outputs": [],
   "source": [
    "from IPython.display import display, HTML"
   ]
  },
  {
   "cell_type": "code",
   "execution_count": 26,
   "metadata": {},
   "outputs": [
    {
     "data": {
      "text/html": [
       "<div class=\"entities\" style=\"line-height: 2.5; direction: ltr\">\n",
       "<mark class=\"entity\" style=\"background: #7aecec; padding: 0.45em 0.6em; margin: 0 0.25em; line-height: 1; border-radius: 0.35em;\">\n",
       "    Apple\n",
       "    <span style=\"font-size: 0.8em; font-weight: bold; line-height: 1; border-radius: 0.35em; vertical-align: middle; margin-left: 0.5rem\">ORG</span>\n",
       "</mark>\n",
       " was founded by \n",
       "<mark class=\"entity\" style=\"background: #aa9cfc; padding: 0.45em 0.6em; margin: 0 0.25em; line-height: 1; border-radius: 0.35em;\">\n",
       "    Steve Jobs\n",
       "    <span style=\"font-size: 0.8em; font-weight: bold; line-height: 1; border-radius: 0.35em; vertical-align: middle; margin-left: 0.5rem\">PERSON</span>\n",
       "</mark>\n",
       " in \n",
       "<mark class=\"entity\" style=\"background: #feca74; padding: 0.45em 0.6em; margin: 0 0.25em; line-height: 1; border-radius: 0.35em;\">\n",
       "    California\n",
       "    <span style=\"font-size: 0.8em; font-weight: bold; line-height: 1; border-radius: 0.35em; vertical-align: middle; margin-left: 0.5rem\">GPE</span>\n",
       "</mark>\n",
       ". He emailed support@apple.com from \n",
       "<mark class=\"entity\" style=\"background: #feca74; padding: 0.45em 0.6em; margin: 0 0.25em; line-height: 1; border-radius: 0.35em;\">\n",
       "    L.A.\n",
       "    <span style=\"font-size: 0.8em; font-weight: bold; line-height: 1; border-radius: 0.35em; vertical-align: middle; margin-left: 0.5rem\">GPE</span>\n",
       "</mark>\n",
       "</div>"
      ],
      "text/plain": [
       "<IPython.core.display.HTML object>"
      ]
     },
     "metadata": {},
     "output_type": "display_data"
    }
   ],
   "source": [
    "from spacy import displacy\n",
    "from IPython.display import display, HTML\n",
    "\n",
    "html = displacy.render(doc, style=\"ent\", jupyter=False)\n",
    "display(HTML(html))"
   ]
  },
  {
   "cell_type": "code",
   "execution_count": 27,
   "metadata": {
    "colab": {
     "base_uri": "https://localhost:8080/",
     "height": 52
    },
    "executionInfo": {
     "elapsed": 23,
     "status": "ok",
     "timestamp": 1748615991625,
     "user": {
      "displayName": "Kishan Prakash",
      "userId": "00782312557775250381"
     },
     "user_tz": -330
    },
    "id": "GSJhLewJogLE",
    "outputId": "b73e6c7b-6295-4e55-dc7a-b746bfc2f949"
   },
   "outputs": [],
   "source": [
    "# displacy.render(doc, style=\"ent\")"
   ]
  },
  {
   "cell_type": "code",
   "execution_count": 28,
   "metadata": {
    "colab": {
     "base_uri": "https://localhost:8080/"
    },
    "executionInfo": {
     "elapsed": 49,
     "status": "ok",
     "timestamp": 1748616084283,
     "user": {
      "displayName": "Kishan Prakash",
      "userId": "00782312557775250381"
     },
     "user_tz": -330
    },
    "id": "sbA53x4doo_h",
    "outputId": "7f092143-c252-42fc-9429-13dda3df4d57"
   },
   "outputs": [
    {
     "name": "stdout",
     "output_type": "stream",
     "text": [
      "\n",
      "Final Summary : \n",
      "Total components : 7\n",
      "NER Present : True\n"
     ]
    }
   ],
   "source": [
    "print(\"\\nFinal Summary : \")\n",
    "print(f\"Total components : {len(nlp.pipe_names)}\")\n",
    "print(f\"NER Present : {'ner' in nlp.pipe_names}\")\n"
   ]
  },
  {
   "cell_type": "code",
   "execution_count": null,
   "metadata": {
    "id": "87Bs7T2_o_nB"
   },
   "outputs": [],
   "source": []
  }
 ],
 "metadata": {
  "colab": {
   "authorship_tag": "ABX9TyMFDaqAB8D5CeCOp6rLHu3d",
   "provenance": []
  },
  "kernelspec": {
   "display_name": "nlp_env",
   "language": "python",
   "name": "python3"
  },
  "language_info": {
   "codemirror_mode": {
    "name": "ipython",
    "version": 3
   },
   "file_extension": ".py",
   "mimetype": "text/x-python",
   "name": "python",
   "nbconvert_exporter": "python",
   "pygments_lexer": "ipython3",
   "version": "3.13.5"
  }
 },
 "nbformat": 4,
 "nbformat_minor": 0
}
