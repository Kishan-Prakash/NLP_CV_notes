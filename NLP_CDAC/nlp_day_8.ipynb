{
 "cells": [
  {
   "cell_type": "code",
   "execution_count": 1,
   "metadata": {
    "colab": {
     "base_uri": "https://localhost:8080/"
    },
    "executionInfo": {
     "elapsed": 3915,
     "status": "ok",
     "timestamp": 1749203871532,
     "user": {
      "displayName": "Kishan Prakash",
      "userId": "00782312557775250381"
     },
     "user_tz": -330
    },
    "id": "gd7dC3iLGgig",
    "outputId": "ae1e7098-1a36-4c5b-caf9-c76b607e214b"
   },
   "outputs": [
    {
     "name": "stdout",
     "output_type": "stream",
     "text": [
      "         S        \n",
      "      ___|____     \n",
      "     NP       VP  \n",
      "  ___|___     |    \n",
      "Det      N    V   \n",
      " |       |    |    \n",
      "The     cat sleeps\n",
      "\n"
     ]
    }
   ],
   "source": [
    "# Creating Statistical parsing tree using CFG\n",
    "\n",
    "import nltk\n",
    "from nltk import CFG\n",
    "\n",
    "grammar = CFG.fromstring(\"\"\"\n",
    "    S -> NP VP\n",
    "    NP -> Det N\n",
    "    VP -> V\n",
    "    Det -> 'The'\n",
    "    N -> 'cat'\n",
    "    V -> 'sleeps'\n",
    "\"\"\")\n",
    "\n",
    "parser = nltk.ChartParser(grammar)\n",
    "\n",
    "sentence = [\"The\", \"cat\", \"sleeps\"]\n",
    "\n",
    "for tree in parser.parse(sentence):\n",
    "    tree.pretty_print()"
   ]
  },
  {
   "cell_type": "code",
   "execution_count": 2,
   "metadata": {
    "colab": {
     "base_uri": "https://localhost:8080/"
    },
    "executionInfo": {
     "elapsed": 7,
     "status": "ok",
     "timestamp": 1749203871542,
     "user": {
      "displayName": "Kishan Prakash",
      "userId": "00782312557775250381"
     },
     "user_tz": -330
    },
    "id": "H-zmGzP4XU33",
    "outputId": "afefa03e-60ed-4438-b495-662406d75f18"
   },
   "outputs": [
    {
     "name": "stdout",
     "output_type": "stream",
     "text": [
      "         S        \n",
      "      ___|____     \n",
      "     NP       VP  \n",
      "  ___|___     |    \n",
      "Det      N    V   \n",
      " |       |    |    \n",
      "The     cat sleeps\n",
      "\n"
     ]
    }
   ],
   "source": [
    "# Now PCFG with probabilities\n",
    "\n",
    "from nltk import PCFG\n",
    "\n",
    "grammar = PCFG.fromstring(\"\"\"\n",
    "    S -> NP VP [1.0]\n",
    "    NP -> Det N [0.9] | Name [0.1]\n",
    "    VP -> V [0.5] | V NP [0.5]\n",
    "    Det -> 'The' [1.0]\n",
    "    N -> 'cat' [0.5] | 'dog' [0.5]\n",
    "    V -> 'sleeps' [0.5] | 'barks' [0.5]\n",
    "    Name -> 'John' [1.0]\n",
    "\"\"\")\n",
    "\n",
    "parser = nltk.ViterbiParser(grammar)\n",
    "\n",
    "sentence = [\"The\", \"cat\", \"sleeps\"]\n",
    "\n",
    "for tree in parser.parse(sentence):\n",
    "    tree.pretty_print()"
   ]
  },
  {
   "cell_type": "code",
   "execution_count": 3,
   "metadata": {
    "colab": {
     "base_uri": "https://localhost:8080/"
    },
    "executionInfo": {
     "elapsed": 17,
     "status": "ok",
     "timestamp": 1749203871571,
     "user": {
      "displayName": "Kishan Prakash",
      "userId": "00782312557775250381"
     },
     "user_tz": -330
    },
    "id": "TfqExeI1ZVVh",
    "outputId": "20a2f25d-0b9c-45cf-89cf-db866ae5b639"
   },
   "outputs": [
    {
     "name": "stdout",
     "output_type": "stream",
     "text": [
      "Rule-based prediction for new news stories : \n",
      "Description: The company reported a significant increase in quarterly profits.\n",
      "Predicted Category: business\n",
      "\n",
      "Description: A new curriculum will be introduced in all state schools.\n",
      "Predicted Category: education\n",
      "\n",
      "Description: The latest movie release has broken all box office records.\n",
      "Predicted Category: entertainment\n",
      "\n",
      "Description: The football team secured a last-minute victory in the finals.\n",
      "Predicted Category: sports\n",
      "\n",
      "Description: Innovations in AI are changing the face of the tech industry.\n",
      "Predicted Category: unknown\n",
      "\n"
     ]
    }
   ],
   "source": [
    "# Text cataforization: Patttern based using re\n",
    "\n",
    "import re\n",
    "\n",
    "rules  = {\n",
    "\n",
    "    'business': r'\\b(company|market|stock|profit|revenue|economy)\\b',\n",
    "\n",
    "    'education': r'\\b(school student|university|curriculum|exam)\\b',\n",
    "\n",
    "    'entertainment': r'\\b(movie|music|film|actor|show|drama)\\b',\n",
    "\n",
    "    'sports': r'\\b(game|match|team|tournament|score|goal)\\b',\n",
    "\n",
    "    'technology': r'\\b(technology|AI|software|computer|gadget|device)\\b'\n",
    "}\n",
    "\n",
    "def rule_based_predict(text):\n",
    "\n",
    "    for category, pattern in rules.items():\n",
    "\n",
    "        if re.search(pattern, text.lower()):\n",
    "\n",
    "            return category\n",
    "\n",
    "    return 'unknown'\n",
    "\n",
    "new_descriptions = [\n",
    "\n",
    "    \"The company reported a significant increase in quarterly profits.\",\n",
    "\n",
    "    \"A new curriculum will be introduced in all state schools.\",\n",
    "\n",
    "    \"The latest movie release has broken all box office records.\",\n",
    "\n",
    "    \"The football team secured a last-minute victory in the finals.\",\n",
    "\n",
    "    \"Innovations in AI are changing the face of the tech industry.\"\n",
    "]\n",
    "\n",
    "\n",
    "print(\"Rule-based prediction for new news stories : \")\n",
    "\n",
    "for desc in new_descriptions:\n",
    "\n",
    "    pred = rule_based_predict(desc)\n",
    "\n",
    "    print(f\"Description: {desc}\")\n",
    "\n",
    "    print(f\"Predicted Category: {pred}\\n\")"
   ]
  },
  {
   "cell_type": "code",
   "execution_count": 18,
   "metadata": {
    "executionInfo": {
     "elapsed": 42,
     "status": "ok",
     "timestamp": 1749203871614,
     "user": {
      "displayName": "Kishan Prakash",
      "userId": "00782312557775250381"
     },
     "user_tz": -330
    },
    "id": "WIZIKctsoSxR"
   },
   "outputs": [],
   "source": [
    "# Text catagorization using naive bayes\n",
    "\n",
    "import pandas as pd\n",
    "import numpy as np\n",
    "import matplotlib.pyplot as plt\n",
    "from sklearn.model_selection import train_test_split\n",
    "from sklearn.feature_extraction.text import CountVectorizer, TfidfVectorizer\n",
    "from sklearn.naive_bayes import MultinomialNB\n",
    "from sklearn.metrics import accuracy_score, classification_report, classification_report, confusion_matrix\n"
   ]
  },
  {
   "cell_type": "code",
   "execution_count": 19,
   "metadata": {
    "colab": {
     "base_uri": "https://localhost:8080/"
    },
    "executionInfo": {
     "elapsed": 21411,
     "status": "ok",
     "timestamp": 1749203893035,
     "user": {
      "displayName": "Kishan Prakash",
      "userId": "00782312557775250381"
     },
     "user_tz": -330
    },
    "id": "8n227GdrovuJ",
    "outputId": "0fd0f1ae-4c95-4419-a970-6af47c9a7de9"
   },
   "outputs": [],
   "source": [
    "# # Install dependencies as needed:\n",
    "# # pip install kagglehub[pandas-datasets]\n",
    "# import kagglehub\n",
    "# from kagglehub import KaggleDatasetAdapter\n",
    "# import pandas as pd # Import pandas\n",
    "\n",
    "# # Set the path to the files you'd like to load\n",
    "# file_paths = [\n",
    "#     \"business_data.csv\",\n",
    "#     \"education_data.csv\",\n",
    "#     \"entertainment_data.csv\",\n",
    "#     \"sports_data.csv\",\n",
    "#     \"technology_data.csv\"\n",
    "# ]\n",
    "\n",
    "# # Create a dictionary to store individual DataFrames\n",
    "# dfs = {}\n",
    "\n",
    "# # Load each file individually and store the DataFrame in the dictionary\n",
    "# for file_path in file_paths:\n",
    "#     # Load the latest version for each file\n",
    "#     df_single = kagglehub.load_dataset(\n",
    "#       KaggleDatasetAdapter.PANDAS,\n",
    "#       \"banuprakashv/news-articles-classification-dataset-for-nlp-and-ml\",\n",
    "#       file_path, # Pass a single file path (string)\n",
    "#       # Provide any additional arguments like\n",
    "#       # sql_query or pandas_kwargs. See the\n",
    "#       # documenation for more information:\n",
    "#       # https://github.com/Kaggle/kagglehub/blob/main/README.md#kaggledatasetadapterpandas\n",
    "#     )\n",
    "#     # Store the DataFrame in the dictionary using the filename as the key\n",
    "#     dfs[file_path] = df_single\n",
    "\n",
    "# # Now you can access each DataFrame using its filename as the key\n",
    "# # For example, to access the business data:\n",
    "# # business_df = dfs[\"business_data.csv\"]\n",
    "\n",
    "# # You can print the head of each DataFrame to verify\n",
    "# print(\"First 5 records of each DataFrame:\")\n",
    "# for file_path, df in dfs.items():\n",
    "#     print(f\"\\n--- {file_path} ---\")\n",
    "#     print(df.head())"
   ]
  },
  {
   "cell_type": "code",
   "execution_count": 20,
   "metadata": {},
   "outputs": [],
   "source": [
    "# import os\n",
    "# file_paths = [\n",
    "#     \"business_data.csv\",\n",
    "#     \"education_data.csv\",\n",
    "#     \"entertainment_data.csv\",\n",
    "#     \"sports_data.csv\",\n",
    "#     \"technology_data.csv\"\n",
    "# ]\n",
    "\n",
    "# # Optional: Add a 'category' column based on file names\n",
    "# dataframes = []\n",
    "# for file in file_paths:\n",
    "#     df = pd.read_csv(file)\n",
    "#     df[\"category\"] = os.path.splitext(file)[0].replace(\"_data\", \"\")  # Add a category label\n",
    "#     dataframes.append(df)\n",
    "\n",
    "# # Combine all into one DataFrame\n",
    "# dfs = pd.concat(dataframes, ignore_index=True)\n",
    "\n",
    "# # Preview the combined data\n",
    "# print(dfs.head())"
   ]
  },
  {
   "cell_type": "code",
   "execution_count": 21,
   "metadata": {},
   "outputs": [
    {
     "name": "stdout",
     "output_type": "stream",
     "text": [
      "                                           headlines  \\\n",
      "0  Nirmala Sitharaman to equal Morarji Desai’s re...   \n",
      "1  ‘Will densify network, want to be at least no....   \n",
      "2  Air India group to induct an aircraft every si...   \n",
      "3  Red Sea woes: Exporters seek increased credit ...   \n",
      "4  Air India group to induct a plane every 6 days...   \n",
      "\n",
      "                                         description  \\\n",
      "0  With the presentation of the interim budget on...   \n",
      "1  'In terms of market share, we aim to double it...   \n",
      "2  Air India currently has 117 operational aircra...   \n",
      "3  Rising attacks forced shippers to consider the...   \n",
      "4  Apart from fleet expansion, 2024 will also see...   \n",
      "\n",
      "                                             content  \\\n",
      "0  Sitharaman, the first full-time woman finance ...   \n",
      "1  The merger of Tata group’s budget airlines Air...   \n",
      "2  The Air India group plans to induct one aircra...   \n",
      "3  Indian exporters have asked the central govern...   \n",
      "4  The Air India group plans to induct one aircra...   \n",
      "\n",
      "                                                 url  category  \n",
      "0  https://indianexpress.com/article/business/bud...  business  \n",
      "1  https://indianexpress.com/article/business/avi...  business  \n",
      "2  https://indianexpress.com/article/business/avi...  business  \n",
      "3  https://indianexpress.com/article/business/red...  business  \n",
      "4  https://indianexpress.com/article/business/avi...  business  \n"
     ]
    }
   ],
   "source": [
    "import pandas as pd\n",
    "\n",
    "# List of your CSV files\n",
    "file_paths = [\n",
    "    \"business_data.csv\",\n",
    "    \"education_data.csv\",\n",
    "    \"entertainment_data.csv\",\n",
    "    \"sports_data.csv\",\n",
    "    \"technology_data.csv\"\n",
    "]\n",
    "\n",
    "# Read and combine them\n",
    "dfs = pd.concat([pd.read_csv(file) for file in file_paths], ignore_index=True)\n",
    "\n",
    "# Save to a new CSV\n",
    "dfs.to_csv(\"combined_output.csv\", index=False)\n",
    "\n",
    "dfs = pd.read_csv(\"combined_output.csv\")\n",
    "# Display the first few rows of the combined DataFrame\n",
    "print(dfs.head())"
   ]
  },
  {
   "cell_type": "code",
   "execution_count": null,
   "metadata": {
    "colab": {
     "base_uri": "https://localhost:8080/"
    },
    "executionInfo": {
     "elapsed": 57,
     "status": "ok",
     "timestamp": 1749203893106,
     "user": {
      "displayName": "Kishan Prakash",
      "userId": "00782312557775250381"
     },
     "user_tz": -330
    },
    "id": "7w1mdJrJrCRD",
    "outputId": "59b12b20-93d2-4d7a-ad60-b3f9f88f7e38"
   },
   "outputs": [],
   "source": []
  },
  {
   "cell_type": "code",
   "execution_count": 22,
   "metadata": {
    "executionInfo": {
     "elapsed": 3,
     "status": "ok",
     "timestamp": 1749203893111,
     "user": {
      "displayName": "Kishan Prakash",
      "userId": "00782312557775250381"
     },
     "user_tz": -330
    },
    "id": "r15lZbF4qBH-"
   },
   "outputs": [],
   "source": [
    "files = {\n",
    "    \"business_data.csv\":'business',\n",
    "    \"education_data.csv\":'education',\n",
    "    \"entertainment_data.csv\":'entertainment',\n",
    "    \"sports_data.csv\":'sports',\n",
    "    \"technology_data.csv\":'technology'\n",
    "}"
   ]
  },
  {
   "cell_type": "code",
   "execution_count": 23,
   "metadata": {
    "executionInfo": {
     "elapsed": 2,
     "status": "ok",
     "timestamp": 1749203893116,
     "user": {
      "displayName": "Kishan Prakash",
      "userId": "00782312557775250381"
     },
     "user_tz": -330
    },
    "id": "ULutUBGbqYSY"
   },
   "outputs": [],
   "source": [
    "# all_data = []\n",
    "\n",
    "# for files, category in files.items():\n",
    "#     df = pd.read_csv(files)\n",
    "#     df = df[['description']].dropna()\n",
    "#     df['category'] = category\n",
    "#     all_data.append(df)\n",
    "\n",
    "# data = pd.concat(all_data, ignore_index=True)"
   ]
  },
  {
   "cell_type": "code",
   "execution_count": 25,
   "metadata": {
    "executionInfo": {
     "elapsed": 210,
     "status": "ok",
     "timestamp": 1749203893329,
     "user": {
      "displayName": "Kishan Prakash",
      "userId": "00782312557775250381"
     },
     "user_tz": -330
    },
    "id": "ddVUFdY3rGqC"
   },
   "outputs": [],
   "source": [
    "data =   dfs  #pd.concat(dfs, ignore_index=True)\n",
    "\n",
    "vectorizer = TfidfVectorizer()\n",
    "\n",
    "X = vectorizer.fit_transform(data['description'])\n",
    "\n",
    "y = data['category']\n",
    "\n",
    "X_train, X_test, y_train, y_test = train_test_split(X, y, test_size=0.2, random_state=42)"
   ]
  },
  {
   "cell_type": "code",
   "execution_count": 26,
   "metadata": {
    "colab": {
     "base_uri": "https://localhost:8080/",
     "height": 80
    },
    "executionInfo": {
     "elapsed": 114,
     "status": "ok",
     "timestamp": 1749203893456,
     "user": {
      "displayName": "Kishan Prakash",
      "userId": "00782312557775250381"
     },
     "user_tz": -330
    },
    "id": "ZDNWlSedrxla",
    "outputId": "b098abbe-eecd-4853-c4ad-1c2d922b711a"
   },
   "outputs": [
    {
     "data": {
      "text/html": [
       "<style>#sk-container-id-1 {\n",
       "  /* Definition of color scheme common for light and dark mode */\n",
       "  --sklearn-color-text: #000;\n",
       "  --sklearn-color-text-muted: #666;\n",
       "  --sklearn-color-line: gray;\n",
       "  /* Definition of color scheme for unfitted estimators */\n",
       "  --sklearn-color-unfitted-level-0: #fff5e6;\n",
       "  --sklearn-color-unfitted-level-1: #f6e4d2;\n",
       "  --sklearn-color-unfitted-level-2: #ffe0b3;\n",
       "  --sklearn-color-unfitted-level-3: chocolate;\n",
       "  /* Definition of color scheme for fitted estimators */\n",
       "  --sklearn-color-fitted-level-0: #f0f8ff;\n",
       "  --sklearn-color-fitted-level-1: #d4ebff;\n",
       "  --sklearn-color-fitted-level-2: #b3dbfd;\n",
       "  --sklearn-color-fitted-level-3: cornflowerblue;\n",
       "\n",
       "  /* Specific color for light theme */\n",
       "  --sklearn-color-text-on-default-background: var(--sg-text-color, var(--theme-code-foreground, var(--jp-content-font-color1, black)));\n",
       "  --sklearn-color-background: var(--sg-background-color, var(--theme-background, var(--jp-layout-color0, white)));\n",
       "  --sklearn-color-border-box: var(--sg-text-color, var(--theme-code-foreground, var(--jp-content-font-color1, black)));\n",
       "  --sklearn-color-icon: #696969;\n",
       "\n",
       "  @media (prefers-color-scheme: dark) {\n",
       "    /* Redefinition of color scheme for dark theme */\n",
       "    --sklearn-color-text-on-default-background: var(--sg-text-color, var(--theme-code-foreground, var(--jp-content-font-color1, white)));\n",
       "    --sklearn-color-background: var(--sg-background-color, var(--theme-background, var(--jp-layout-color0, #111)));\n",
       "    --sklearn-color-border-box: var(--sg-text-color, var(--theme-code-foreground, var(--jp-content-font-color1, white)));\n",
       "    --sklearn-color-icon: #878787;\n",
       "  }\n",
       "}\n",
       "\n",
       "#sk-container-id-1 {\n",
       "  color: var(--sklearn-color-text);\n",
       "}\n",
       "\n",
       "#sk-container-id-1 pre {\n",
       "  padding: 0;\n",
       "}\n",
       "\n",
       "#sk-container-id-1 input.sk-hidden--visually {\n",
       "  border: 0;\n",
       "  clip: rect(1px 1px 1px 1px);\n",
       "  clip: rect(1px, 1px, 1px, 1px);\n",
       "  height: 1px;\n",
       "  margin: -1px;\n",
       "  overflow: hidden;\n",
       "  padding: 0;\n",
       "  position: absolute;\n",
       "  width: 1px;\n",
       "}\n",
       "\n",
       "#sk-container-id-1 div.sk-dashed-wrapped {\n",
       "  border: 1px dashed var(--sklearn-color-line);\n",
       "  margin: 0 0.4em 0.5em 0.4em;\n",
       "  box-sizing: border-box;\n",
       "  padding-bottom: 0.4em;\n",
       "  background-color: var(--sklearn-color-background);\n",
       "}\n",
       "\n",
       "#sk-container-id-1 div.sk-container {\n",
       "  /* jupyter's `normalize.less` sets `[hidden] { display: none; }`\n",
       "     but bootstrap.min.css set `[hidden] { display: none !important; }`\n",
       "     so we also need the `!important` here to be able to override the\n",
       "     default hidden behavior on the sphinx rendered scikit-learn.org.\n",
       "     See: https://github.com/scikit-learn/scikit-learn/issues/21755 */\n",
       "  display: inline-block !important;\n",
       "  position: relative;\n",
       "}\n",
       "\n",
       "#sk-container-id-1 div.sk-text-repr-fallback {\n",
       "  display: none;\n",
       "}\n",
       "\n",
       "div.sk-parallel-item,\n",
       "div.sk-serial,\n",
       "div.sk-item {\n",
       "  /* draw centered vertical line to link estimators */\n",
       "  background-image: linear-gradient(var(--sklearn-color-text-on-default-background), var(--sklearn-color-text-on-default-background));\n",
       "  background-size: 2px 100%;\n",
       "  background-repeat: no-repeat;\n",
       "  background-position: center center;\n",
       "}\n",
       "\n",
       "/* Parallel-specific style estimator block */\n",
       "\n",
       "#sk-container-id-1 div.sk-parallel-item::after {\n",
       "  content: \"\";\n",
       "  width: 100%;\n",
       "  border-bottom: 2px solid var(--sklearn-color-text-on-default-background);\n",
       "  flex-grow: 1;\n",
       "}\n",
       "\n",
       "#sk-container-id-1 div.sk-parallel {\n",
       "  display: flex;\n",
       "  align-items: stretch;\n",
       "  justify-content: center;\n",
       "  background-color: var(--sklearn-color-background);\n",
       "  position: relative;\n",
       "}\n",
       "\n",
       "#sk-container-id-1 div.sk-parallel-item {\n",
       "  display: flex;\n",
       "  flex-direction: column;\n",
       "}\n",
       "\n",
       "#sk-container-id-1 div.sk-parallel-item:first-child::after {\n",
       "  align-self: flex-end;\n",
       "  width: 50%;\n",
       "}\n",
       "\n",
       "#sk-container-id-1 div.sk-parallel-item:last-child::after {\n",
       "  align-self: flex-start;\n",
       "  width: 50%;\n",
       "}\n",
       "\n",
       "#sk-container-id-1 div.sk-parallel-item:only-child::after {\n",
       "  width: 0;\n",
       "}\n",
       "\n",
       "/* Serial-specific style estimator block */\n",
       "\n",
       "#sk-container-id-1 div.sk-serial {\n",
       "  display: flex;\n",
       "  flex-direction: column;\n",
       "  align-items: center;\n",
       "  background-color: var(--sklearn-color-background);\n",
       "  padding-right: 1em;\n",
       "  padding-left: 1em;\n",
       "}\n",
       "\n",
       "\n",
       "/* Toggleable style: style used for estimator/Pipeline/ColumnTransformer box that is\n",
       "clickable and can be expanded/collapsed.\n",
       "- Pipeline and ColumnTransformer use this feature and define the default style\n",
       "- Estimators will overwrite some part of the style using the `sk-estimator` class\n",
       "*/\n",
       "\n",
       "/* Pipeline and ColumnTransformer style (default) */\n",
       "\n",
       "#sk-container-id-1 div.sk-toggleable {\n",
       "  /* Default theme specific background. It is overwritten whether we have a\n",
       "  specific estimator or a Pipeline/ColumnTransformer */\n",
       "  background-color: var(--sklearn-color-background);\n",
       "}\n",
       "\n",
       "/* Toggleable label */\n",
       "#sk-container-id-1 label.sk-toggleable__label {\n",
       "  cursor: pointer;\n",
       "  display: flex;\n",
       "  width: 100%;\n",
       "  margin-bottom: 0;\n",
       "  padding: 0.5em;\n",
       "  box-sizing: border-box;\n",
       "  text-align: center;\n",
       "  align-items: start;\n",
       "  justify-content: space-between;\n",
       "  gap: 0.5em;\n",
       "}\n",
       "\n",
       "#sk-container-id-1 label.sk-toggleable__label .caption {\n",
       "  font-size: 0.6rem;\n",
       "  font-weight: lighter;\n",
       "  color: var(--sklearn-color-text-muted);\n",
       "}\n",
       "\n",
       "#sk-container-id-1 label.sk-toggleable__label-arrow:before {\n",
       "  /* Arrow on the left of the label */\n",
       "  content: \"▸\";\n",
       "  float: left;\n",
       "  margin-right: 0.25em;\n",
       "  color: var(--sklearn-color-icon);\n",
       "}\n",
       "\n",
       "#sk-container-id-1 label.sk-toggleable__label-arrow:hover:before {\n",
       "  color: var(--sklearn-color-text);\n",
       "}\n",
       "\n",
       "/* Toggleable content - dropdown */\n",
       "\n",
       "#sk-container-id-1 div.sk-toggleable__content {\n",
       "  display: none;\n",
       "  text-align: left;\n",
       "  /* unfitted */\n",
       "  background-color: var(--sklearn-color-unfitted-level-0);\n",
       "}\n",
       "\n",
       "#sk-container-id-1 div.sk-toggleable__content.fitted {\n",
       "  /* fitted */\n",
       "  background-color: var(--sklearn-color-fitted-level-0);\n",
       "}\n",
       "\n",
       "#sk-container-id-1 div.sk-toggleable__content pre {\n",
       "  margin: 0.2em;\n",
       "  border-radius: 0.25em;\n",
       "  color: var(--sklearn-color-text);\n",
       "  /* unfitted */\n",
       "  background-color: var(--sklearn-color-unfitted-level-0);\n",
       "}\n",
       "\n",
       "#sk-container-id-1 div.sk-toggleable__content.fitted pre {\n",
       "  /* unfitted */\n",
       "  background-color: var(--sklearn-color-fitted-level-0);\n",
       "}\n",
       "\n",
       "#sk-container-id-1 input.sk-toggleable__control:checked~div.sk-toggleable__content {\n",
       "  /* Expand drop-down */\n",
       "  display: block;\n",
       "  width: 100%;\n",
       "  overflow: visible;\n",
       "}\n",
       "\n",
       "#sk-container-id-1 input.sk-toggleable__control:checked~label.sk-toggleable__label-arrow:before {\n",
       "  content: \"▾\";\n",
       "}\n",
       "\n",
       "/* Pipeline/ColumnTransformer-specific style */\n",
       "\n",
       "#sk-container-id-1 div.sk-label input.sk-toggleable__control:checked~label.sk-toggleable__label {\n",
       "  color: var(--sklearn-color-text);\n",
       "  background-color: var(--sklearn-color-unfitted-level-2);\n",
       "}\n",
       "\n",
       "#sk-container-id-1 div.sk-label.fitted input.sk-toggleable__control:checked~label.sk-toggleable__label {\n",
       "  background-color: var(--sklearn-color-fitted-level-2);\n",
       "}\n",
       "\n",
       "/* Estimator-specific style */\n",
       "\n",
       "/* Colorize estimator box */\n",
       "#sk-container-id-1 div.sk-estimator input.sk-toggleable__control:checked~label.sk-toggleable__label {\n",
       "  /* unfitted */\n",
       "  background-color: var(--sklearn-color-unfitted-level-2);\n",
       "}\n",
       "\n",
       "#sk-container-id-1 div.sk-estimator.fitted input.sk-toggleable__control:checked~label.sk-toggleable__label {\n",
       "  /* fitted */\n",
       "  background-color: var(--sklearn-color-fitted-level-2);\n",
       "}\n",
       "\n",
       "#sk-container-id-1 div.sk-label label.sk-toggleable__label,\n",
       "#sk-container-id-1 div.sk-label label {\n",
       "  /* The background is the default theme color */\n",
       "  color: var(--sklearn-color-text-on-default-background);\n",
       "}\n",
       "\n",
       "/* On hover, darken the color of the background */\n",
       "#sk-container-id-1 div.sk-label:hover label.sk-toggleable__label {\n",
       "  color: var(--sklearn-color-text);\n",
       "  background-color: var(--sklearn-color-unfitted-level-2);\n",
       "}\n",
       "\n",
       "/* Label box, darken color on hover, fitted */\n",
       "#sk-container-id-1 div.sk-label.fitted:hover label.sk-toggleable__label.fitted {\n",
       "  color: var(--sklearn-color-text);\n",
       "  background-color: var(--sklearn-color-fitted-level-2);\n",
       "}\n",
       "\n",
       "/* Estimator label */\n",
       "\n",
       "#sk-container-id-1 div.sk-label label {\n",
       "  font-family: monospace;\n",
       "  font-weight: bold;\n",
       "  display: inline-block;\n",
       "  line-height: 1.2em;\n",
       "}\n",
       "\n",
       "#sk-container-id-1 div.sk-label-container {\n",
       "  text-align: center;\n",
       "}\n",
       "\n",
       "/* Estimator-specific */\n",
       "#sk-container-id-1 div.sk-estimator {\n",
       "  font-family: monospace;\n",
       "  border: 1px dotted var(--sklearn-color-border-box);\n",
       "  border-radius: 0.25em;\n",
       "  box-sizing: border-box;\n",
       "  margin-bottom: 0.5em;\n",
       "  /* unfitted */\n",
       "  background-color: var(--sklearn-color-unfitted-level-0);\n",
       "}\n",
       "\n",
       "#sk-container-id-1 div.sk-estimator.fitted {\n",
       "  /* fitted */\n",
       "  background-color: var(--sklearn-color-fitted-level-0);\n",
       "}\n",
       "\n",
       "/* on hover */\n",
       "#sk-container-id-1 div.sk-estimator:hover {\n",
       "  /* unfitted */\n",
       "  background-color: var(--sklearn-color-unfitted-level-2);\n",
       "}\n",
       "\n",
       "#sk-container-id-1 div.sk-estimator.fitted:hover {\n",
       "  /* fitted */\n",
       "  background-color: var(--sklearn-color-fitted-level-2);\n",
       "}\n",
       "\n",
       "/* Specification for estimator info (e.g. \"i\" and \"?\") */\n",
       "\n",
       "/* Common style for \"i\" and \"?\" */\n",
       "\n",
       ".sk-estimator-doc-link,\n",
       "a:link.sk-estimator-doc-link,\n",
       "a:visited.sk-estimator-doc-link {\n",
       "  float: right;\n",
       "  font-size: smaller;\n",
       "  line-height: 1em;\n",
       "  font-family: monospace;\n",
       "  background-color: var(--sklearn-color-background);\n",
       "  border-radius: 1em;\n",
       "  height: 1em;\n",
       "  width: 1em;\n",
       "  text-decoration: none !important;\n",
       "  margin-left: 0.5em;\n",
       "  text-align: center;\n",
       "  /* unfitted */\n",
       "  border: var(--sklearn-color-unfitted-level-1) 1pt solid;\n",
       "  color: var(--sklearn-color-unfitted-level-1);\n",
       "}\n",
       "\n",
       ".sk-estimator-doc-link.fitted,\n",
       "a:link.sk-estimator-doc-link.fitted,\n",
       "a:visited.sk-estimator-doc-link.fitted {\n",
       "  /* fitted */\n",
       "  border: var(--sklearn-color-fitted-level-1) 1pt solid;\n",
       "  color: var(--sklearn-color-fitted-level-1);\n",
       "}\n",
       "\n",
       "/* On hover */\n",
       "div.sk-estimator:hover .sk-estimator-doc-link:hover,\n",
       ".sk-estimator-doc-link:hover,\n",
       "div.sk-label-container:hover .sk-estimator-doc-link:hover,\n",
       ".sk-estimator-doc-link:hover {\n",
       "  /* unfitted */\n",
       "  background-color: var(--sklearn-color-unfitted-level-3);\n",
       "  color: var(--sklearn-color-background);\n",
       "  text-decoration: none;\n",
       "}\n",
       "\n",
       "div.sk-estimator.fitted:hover .sk-estimator-doc-link.fitted:hover,\n",
       ".sk-estimator-doc-link.fitted:hover,\n",
       "div.sk-label-container:hover .sk-estimator-doc-link.fitted:hover,\n",
       ".sk-estimator-doc-link.fitted:hover {\n",
       "  /* fitted */\n",
       "  background-color: var(--sklearn-color-fitted-level-3);\n",
       "  color: var(--sklearn-color-background);\n",
       "  text-decoration: none;\n",
       "}\n",
       "\n",
       "/* Span, style for the box shown on hovering the info icon */\n",
       ".sk-estimator-doc-link span {\n",
       "  display: none;\n",
       "  z-index: 9999;\n",
       "  position: relative;\n",
       "  font-weight: normal;\n",
       "  right: .2ex;\n",
       "  padding: .5ex;\n",
       "  margin: .5ex;\n",
       "  width: min-content;\n",
       "  min-width: 20ex;\n",
       "  max-width: 50ex;\n",
       "  color: var(--sklearn-color-text);\n",
       "  box-shadow: 2pt 2pt 4pt #999;\n",
       "  /* unfitted */\n",
       "  background: var(--sklearn-color-unfitted-level-0);\n",
       "  border: .5pt solid var(--sklearn-color-unfitted-level-3);\n",
       "}\n",
       "\n",
       ".sk-estimator-doc-link.fitted span {\n",
       "  /* fitted */\n",
       "  background: var(--sklearn-color-fitted-level-0);\n",
       "  border: var(--sklearn-color-fitted-level-3);\n",
       "}\n",
       "\n",
       ".sk-estimator-doc-link:hover span {\n",
       "  display: block;\n",
       "}\n",
       "\n",
       "/* \"?\"-specific style due to the `<a>` HTML tag */\n",
       "\n",
       "#sk-container-id-1 a.estimator_doc_link {\n",
       "  float: right;\n",
       "  font-size: 1rem;\n",
       "  line-height: 1em;\n",
       "  font-family: monospace;\n",
       "  background-color: var(--sklearn-color-background);\n",
       "  border-radius: 1rem;\n",
       "  height: 1rem;\n",
       "  width: 1rem;\n",
       "  text-decoration: none;\n",
       "  /* unfitted */\n",
       "  color: var(--sklearn-color-unfitted-level-1);\n",
       "  border: var(--sklearn-color-unfitted-level-1) 1pt solid;\n",
       "}\n",
       "\n",
       "#sk-container-id-1 a.estimator_doc_link.fitted {\n",
       "  /* fitted */\n",
       "  border: var(--sklearn-color-fitted-level-1) 1pt solid;\n",
       "  color: var(--sklearn-color-fitted-level-1);\n",
       "}\n",
       "\n",
       "/* On hover */\n",
       "#sk-container-id-1 a.estimator_doc_link:hover {\n",
       "  /* unfitted */\n",
       "  background-color: var(--sklearn-color-unfitted-level-3);\n",
       "  color: var(--sklearn-color-background);\n",
       "  text-decoration: none;\n",
       "}\n",
       "\n",
       "#sk-container-id-1 a.estimator_doc_link.fitted:hover {\n",
       "  /* fitted */\n",
       "  background-color: var(--sklearn-color-fitted-level-3);\n",
       "}\n",
       "\n",
       ".estimator-table summary {\n",
       "    padding: .5rem;\n",
       "    font-family: monospace;\n",
       "    cursor: pointer;\n",
       "}\n",
       "\n",
       ".estimator-table details[open] {\n",
       "    padding-left: 0.1rem;\n",
       "    padding-right: 0.1rem;\n",
       "    padding-bottom: 0.3rem;\n",
       "}\n",
       "\n",
       ".estimator-table .parameters-table {\n",
       "    margin-left: auto !important;\n",
       "    margin-right: auto !important;\n",
       "}\n",
       "\n",
       ".estimator-table .parameters-table tr:nth-child(odd) {\n",
       "    background-color: #fff;\n",
       "}\n",
       "\n",
       ".estimator-table .parameters-table tr:nth-child(even) {\n",
       "    background-color: #f6f6f6;\n",
       "}\n",
       "\n",
       ".estimator-table .parameters-table tr:hover {\n",
       "    background-color: #e0e0e0;\n",
       "}\n",
       "\n",
       ".estimator-table table td {\n",
       "    border: 1px solid rgba(106, 105, 104, 0.232);\n",
       "}\n",
       "\n",
       ".user-set td {\n",
       "    color:rgb(255, 94, 0);\n",
       "    text-align: left;\n",
       "}\n",
       "\n",
       ".user-set td.value pre {\n",
       "    color:rgb(255, 94, 0) !important;\n",
       "    background-color: transparent !important;\n",
       "}\n",
       "\n",
       ".default td {\n",
       "    color: black;\n",
       "    text-align: left;\n",
       "}\n",
       "\n",
       ".user-set td i,\n",
       ".default td i {\n",
       "    color: black;\n",
       "}\n",
       "\n",
       ".copy-paste-icon {\n",
       "    background-image: url(data:image/svg+xml;base64,PHN2ZyB4bWxucz0iaHR0cDovL3d3dy53My5vcmcvMjAwMC9zdmciIHZpZXdCb3g9IjAgMCA0NDggNTEyIj48IS0tIUZvbnQgQXdlc29tZSBGcmVlIDYuNy4yIGJ5IEBmb250YXdlc29tZSAtIGh0dHBzOi8vZm9udGF3ZXNvbWUuY29tIExpY2Vuc2UgLSBodHRwczovL2ZvbnRhd2Vzb21lLmNvbS9saWNlbnNlL2ZyZWUgQ29weXJpZ2h0IDIwMjUgRm9udGljb25zLCBJbmMuLS0+PHBhdGggZD0iTTIwOCAwTDMzMi4xIDBjMTIuNyAwIDI0LjkgNS4xIDMzLjkgMTQuMWw2Ny45IDY3LjljOSA5IDE0LjEgMjEuMiAxNC4xIDMzLjlMNDQ4IDMzNmMwIDI2LjUtMjEuNSA0OC00OCA0OGwtMTkyIDBjLTI2LjUgMC00OC0yMS41LTQ4LTQ4bDAtMjg4YzAtMjYuNSAyMS41LTQ4IDQ4LTQ4ek00OCAxMjhsODAgMCAwIDY0LTY0IDAgMCAyNTYgMTkyIDAgMC0zMiA2NCAwIDAgNDhjMCAyNi41LTIxLjUgNDgtNDggNDhMNDggNTEyYy0yNi41IDAtNDgtMjEuNS00OC00OEwwIDE3NmMwLTI2LjUgMjEuNS00OCA0OC00OHoiLz48L3N2Zz4=);\n",
       "    background-repeat: no-repeat;\n",
       "    background-size: 14px 14px;\n",
       "    background-position: 0;\n",
       "    display: inline-block;\n",
       "    width: 14px;\n",
       "    height: 14px;\n",
       "    cursor: pointer;\n",
       "}\n",
       "</style><body><div id=\"sk-container-id-1\" class=\"sk-top-container\"><div class=\"sk-text-repr-fallback\"><pre>MultinomialNB()</pre><b>In a Jupyter environment, please rerun this cell to show the HTML representation or trust the notebook. <br />On GitHub, the HTML representation is unable to render, please try loading this page with nbviewer.org.</b></div><div class=\"sk-container\" hidden><div class=\"sk-item\"><div class=\"sk-estimator fitted sk-toggleable\"><input class=\"sk-toggleable__control sk-hidden--visually\" id=\"sk-estimator-id-1\" type=\"checkbox\" checked><label for=\"sk-estimator-id-1\" class=\"sk-toggleable__label fitted sk-toggleable__label-arrow\"><div><div>MultinomialNB</div></div><div><a class=\"sk-estimator-doc-link fitted\" rel=\"noreferrer\" target=\"_blank\" href=\"https://scikit-learn.org/1.7/modules/generated/sklearn.naive_bayes.MultinomialNB.html\">?<span>Documentation for MultinomialNB</span></a><span class=\"sk-estimator-doc-link fitted\">i<span>Fitted</span></span></div></label><div class=\"sk-toggleable__content fitted\" data-param-prefix=\"\">\n",
       "        <div class=\"estimator-table\">\n",
       "            <details>\n",
       "                <summary>Parameters</summary>\n",
       "                <table class=\"parameters-table\">\n",
       "                  <tbody>\n",
       "                    \n",
       "        <tr class=\"default\">\n",
       "            <td><i class=\"copy-paste-icon\"\n",
       "                 onclick=\"copyToClipboard('alpha',\n",
       "                          this.parentElement.nextElementSibling)\"\n",
       "            ></i></td>\n",
       "            <td class=\"param\">alpha&nbsp;</td>\n",
       "            <td class=\"value\">1.0</td>\n",
       "        </tr>\n",
       "    \n",
       "\n",
       "        <tr class=\"default\">\n",
       "            <td><i class=\"copy-paste-icon\"\n",
       "                 onclick=\"copyToClipboard('force_alpha',\n",
       "                          this.parentElement.nextElementSibling)\"\n",
       "            ></i></td>\n",
       "            <td class=\"param\">force_alpha&nbsp;</td>\n",
       "            <td class=\"value\">True</td>\n",
       "        </tr>\n",
       "    \n",
       "\n",
       "        <tr class=\"default\">\n",
       "            <td><i class=\"copy-paste-icon\"\n",
       "                 onclick=\"copyToClipboard('fit_prior',\n",
       "                          this.parentElement.nextElementSibling)\"\n",
       "            ></i></td>\n",
       "            <td class=\"param\">fit_prior&nbsp;</td>\n",
       "            <td class=\"value\">True</td>\n",
       "        </tr>\n",
       "    \n",
       "\n",
       "        <tr class=\"default\">\n",
       "            <td><i class=\"copy-paste-icon\"\n",
       "                 onclick=\"copyToClipboard('class_prior',\n",
       "                          this.parentElement.nextElementSibling)\"\n",
       "            ></i></td>\n",
       "            <td class=\"param\">class_prior&nbsp;</td>\n",
       "            <td class=\"value\">None</td>\n",
       "        </tr>\n",
       "    \n",
       "                  </tbody>\n",
       "                </table>\n",
       "            </details>\n",
       "        </div>\n",
       "    </div></div></div></div></div><script>function copyToClipboard(text, element) {\n",
       "    // Get the parameter prefix from the closest toggleable content\n",
       "    const toggleableContent = element.closest('.sk-toggleable__content');\n",
       "    const paramPrefix = toggleableContent ? toggleableContent.dataset.paramPrefix : '';\n",
       "    const fullParamName = paramPrefix ? `${paramPrefix}${text}` : text;\n",
       "\n",
       "    const originalStyle = element.style;\n",
       "    const computedStyle = window.getComputedStyle(element);\n",
       "    const originalWidth = computedStyle.width;\n",
       "    const originalHTML = element.innerHTML.replace('Copied!', '');\n",
       "\n",
       "    navigator.clipboard.writeText(fullParamName)\n",
       "        .then(() => {\n",
       "            element.style.width = originalWidth;\n",
       "            element.style.color = 'green';\n",
       "            element.innerHTML = \"Copied!\";\n",
       "\n",
       "            setTimeout(() => {\n",
       "                element.innerHTML = originalHTML;\n",
       "                element.style = originalStyle;\n",
       "            }, 2000);\n",
       "        })\n",
       "        .catch(err => {\n",
       "            console.error('Failed to copy:', err);\n",
       "            element.style.color = 'red';\n",
       "            element.innerHTML = \"Failed!\";\n",
       "            setTimeout(() => {\n",
       "                element.innerHTML = originalHTML;\n",
       "                element.style = originalStyle;\n",
       "            }, 2000);\n",
       "        });\n",
       "    return false;\n",
       "}\n",
       "\n",
       "document.querySelectorAll('.fa-regular.fa-copy').forEach(function(element) {\n",
       "    const toggleableContent = element.closest('.sk-toggleable__content');\n",
       "    const paramPrefix = toggleableContent ? toggleableContent.dataset.paramPrefix : '';\n",
       "    const paramName = element.parentElement.nextElementSibling.textContent.trim();\n",
       "    const fullParamName = paramPrefix ? `${paramPrefix}${paramName}` : paramName;\n",
       "\n",
       "    element.setAttribute('title', fullParamName);\n",
       "});\n",
       "</script></body>"
      ],
      "text/plain": [
       "MultinomialNB()"
      ]
     },
     "execution_count": 26,
     "metadata": {},
     "output_type": "execute_result"
    }
   ],
   "source": [
    "model = MultinomialNB()\n",
    "\n",
    "model.fit(X_train, y_train)"
   ]
  },
  {
   "cell_type": "code",
   "execution_count": 27,
   "metadata": {
    "colab": {
     "base_uri": "https://localhost:8080/"
    },
    "executionInfo": {
     "elapsed": 23,
     "status": "ok",
     "timestamp": 1749203893456,
     "user": {
      "displayName": "Kishan Prakash",
      "userId": "00782312557775250381"
     },
     "user_tz": -330
    },
    "id": "yo4AdSKvsH3h",
    "outputId": "3d08b5dd-e986-45da-ea74-76d0ea1a2ff4"
   },
   "outputs": [
    {
     "name": "stdout",
     "output_type": "stream",
     "text": [
      "               precision    recall  f1-score   support\n",
      "\n",
      "     business       0.89      0.91      0.90       410\n",
      "    education       0.96      0.92      0.94       393\n",
      "entertainment       0.96      0.96      0.96       395\n",
      "       sports       0.94      0.95      0.95       415\n",
      "   technology       0.90      0.90      0.90       387\n",
      "\n",
      "     accuracy                           0.93      2000\n",
      "    macro avg       0.93      0.93      0.93      2000\n",
      " weighted avg       0.93      0.93      0.93      2000\n",
      "\n"
     ]
    }
   ],
   "source": [
    "y_pred = model.predict(X_test)\n",
    "\n",
    "print(classification_report(y_test, y_pred))"
   ]
  },
  {
   "cell_type": "code",
   "execution_count": 28,
   "metadata": {
    "colab": {
     "base_uri": "https://localhost:8080/"
    },
    "executionInfo": {
     "elapsed": 16,
     "status": "ok",
     "timestamp": 1749203893457,
     "user": {
      "displayName": "Kishan Prakash",
      "userId": "00782312557775250381"
     },
     "user_tz": -330
    },
    "id": "eH7U7UZRsKY-",
    "outputId": "fb4104f5-1ad8-4ee9-b725-3b931cf1c668"
   },
   "outputs": [
    {
     "name": "stdout",
     "output_type": "stream",
     "text": [
      "1. Actual : sports           Predicted : sports\n",
      "2. Actual : entertainment    Predicted : entertainment\n",
      "3. Actual : business         Predicted : business\n",
      "4. Actual : entertainment    Predicted : entertainment\n",
      "5. Actual : entertainment    Predicted : entertainment\n",
      "6. Actual : sports           Predicted : sports\n",
      "7. Actual : business         Predicted : business\n",
      "8. Actual : entertainment    Predicted : entertainment\n",
      "9. Actual : sports           Predicted : sports\n",
      "10. Actual : business         Predicted : business\n",
      "11. Actual : education        Predicted : education\n",
      "12. Actual : sports           Predicted : business\n",
      "13. Actual : entertainment    Predicted : entertainment\n",
      "14. Actual : entertainment    Predicted : entertainment\n",
      "15. Actual : education        Predicted : education\n",
      "16. Actual : sports           Predicted : sports\n",
      "17. Actual : business         Predicted : technology\n",
      "18. Actual : technology       Predicted : technology\n",
      "19. Actual : sports           Predicted : sports\n",
      "20. Actual : technology       Predicted : technology\n",
      "21. Actual : technology       Predicted : technology\n",
      "22. Actual : education        Predicted : education\n",
      "23. Actual : entertainment    Predicted : entertainment\n",
      "24. Actual : technology       Predicted : technology\n",
      "25. Actual : entertainment    Predicted : entertainment\n"
     ]
    }
   ],
   "source": [
    "y_test_sample = y_test[:25].reset_index(drop=True)\n",
    "\n",
    "y_pred_sample = y_pred[:25]\n",
    "\n",
    "for i in range(len(y_test_sample)):\n",
    "\n",
    "    print(f\"{i+1}. Actual : {y_test_sample[i]:<15}  Predicted : {y_pred_sample[i]}\")\n",
    "\n"
   ]
  },
  {
   "cell_type": "code",
   "execution_count": 29,
   "metadata": {
    "colab": {
     "base_uri": "https://localhost:8080/"
    },
    "executionInfo": {
     "elapsed": 10,
     "status": "ok",
     "timestamp": 1749203893463,
     "user": {
      "displayName": "Kishan Prakash",
      "userId": "00782312557775250381"
     },
     "user_tz": -330
    },
    "id": "aUM6AlL6sgpn",
    "outputId": "7352a876-f945-4f00-eed2-f5ecb265632c"
   },
   "outputs": [
    {
     "name": "stdout",
     "output_type": "stream",
     "text": [
      "               business  education  entertainment  sports  technology\n",
      "business            372          9              4       5          20\n",
      "education            13        362              0       8          10\n",
      "entertainment         3          0            378       9           5\n",
      "sports                4          0             11     396           4\n",
      "technology           26          5              2       4         350\n"
     ]
    }
   ],
   "source": [
    "files = {\n",
    "    \"business_data.csv\":'business',\n",
    "    \"education_data.csv\":'education',\n",
    "    \"entertainment_data.csv\":'entertainment',\n",
    "    \"sports_data.csv\":'sports',\n",
    "    \"technology_data.csv\":'technology'\n",
    "}\n",
    "\n",
    "cm = confusion_matrix(y_test, y_pred, labels = list(files.values()))\n",
    "\n",
    "print(pd.DataFrame(cm, index=files.values(), columns=files.values()))"
   ]
  },
  {
   "cell_type": "code",
   "execution_count": 30,
   "metadata": {
    "colab": {
     "base_uri": "https://localhost:8080/",
     "height": 607
    },
    "executionInfo": {
     "elapsed": 510,
     "status": "ok",
     "timestamp": 1749203893974,
     "user": {
      "displayName": "Kishan Prakash",
      "userId": "00782312557775250381"
     },
     "user_tz": -330
    },
    "id": "V0zxot2Nt_cQ",
    "outputId": "ae5a3f1a-488e-4a06-8ba1-13774a6ec34e"
   },
   "outputs": [
    {
     "data": {
      "image/png": "[encoded data removed]",
      "text/plain": [
       "<Figure size 800x600 with 2 Axes>"
      ]
     },
     "metadata": {},
     "output_type": "display_data"
    }
   ],
   "source": [
    "import seaborn as sns\n",
    "\n",
    "plt.figure(figsize=(8, 6))\n",
    "sns.heatmap(cm, annot=True, fmt='d', cmap='Blues', xticklabels=files.values(), yticklabels=files.values())\n",
    "plt.xlabel('Predicted')\n",
    "plt.ylabel('Actual')\n",
    "plt.title('Confusion Matrix')\n",
    "plt.tight_layout()\n",
    "plt.show()"
   ]
  },
  {
   "cell_type": "code",
   "execution_count": 31,
   "metadata": {
    "colab": {
     "base_uri": "https://localhost:8080/"
    },
    "executionInfo": {
     "elapsed": 21,
     "status": "ok",
     "timestamp": 1749203893985,
     "user": {
      "displayName": "Kishan Prakash",
      "userId": "00782312557775250381"
     },
     "user_tz": -330
    },
    "id": "V0U6XZkvuISP",
    "outputId": "47b2bf9e-78ce-4a7d-ce73-ebf3dd468284"
   },
   "outputs": [
    {
     "name": "stdout",
     "output_type": "stream",
     "text": [
      "Description: The company reported a significant increase in quaterly profits. ----> Predicted Category: business\n",
      "\n",
      "Description: A new curriculum will be introduced in all state schools. ----> Predicted Category: education\n",
      "\n",
      "Description: The latest movie release has broken all box office records. ----> Predicted Category: entertainment\n",
      "\n",
      "Description: The football team secured a last-minute victory in the finals. ----> Predicted Category: sports\n",
      "\n",
      "Description: Innovations in AI are changing the face of the tech industry. ----> Predicted Category: technology\n",
      "\n"
     ]
    }
   ],
   "source": [
    "#predict on 5 new unseen news description\n",
    "new_descriptions = [\n",
    "    \"The company reported a significant increase in quaterly profits.\",\n",
    "    \"A new curriculum will be introduced in all state schools.\",\n",
    "    \"The latest movie release has broken all box office records.\",\n",
    "    \"The football team secured a last-minute victory in the finals.\",\n",
    "    \"Innovations in AI are changing the face of the tech industry.\"\n",
    "]\n",
    "\n",
    "new_X = vectorizer.transform(new_descriptions)\n",
    "\n",
    "new_pred = model.predict(new_X)\n",
    "\n",
    "for desc, pred in zip(new_descriptions, new_pred):\n",
    "    print(f\"Description: {desc} ----> Predicted Category: {pred}\\n\")"
   ]
  },
  {
   "cell_type": "code",
   "execution_count": 32,
   "metadata": {
    "colab": {
     "base_uri": "https://localhost:8080/"
    },
    "executionInfo": {
     "elapsed": 9,
     "status": "ok",
     "timestamp": 1749203893995,
     "user": {
      "displayName": "Kishan Prakash",
      "userId": "00782312557775250381"
     },
     "user_tz": -330
    },
    "id": "dksjuJYRue1z",
    "outputId": "57c8d080-6dea-49a2-d639-ea62ba4737f7"
   },
   "outputs": [
    {
     "name": "stdout",
     "output_type": "stream",
     "text": [
      "\n",
      "Centroid for class 'positive' : \n",
      "[0.35355339 0.         0.35355339 0.         0.         0.\n",
      " 0.30880719 0.         0.30880719 0.         0.24346713]\n",
      "\n",
      "Centroid for class 'negative' : \n",
      "[0.         0.25       0.         0.25       0.25       0.30880719\n",
      " 0.         0.25       0.         0.30880719 0.24346713]\n",
      "\n",
      "Distance from new text to centroids : \n",
      "{'positive': np.float64(0.9089420842914386), 'negative': np.float64(0.9388543610356126)}\n",
      "\n",
      "Predicted label : positive\n"
     ]
    }
   ],
   "source": [
    "# Centroid based classificaton uing eclidean disrttnace concept\n",
    "\n",
    "from sklearn.feature_extraction.text import TfidfVectorizer\n",
    "from sklearn.metrics.pairwise import euclidean_distances\n",
    "import numpy as np\n",
    "\n",
    "texts = [\"I love this product1\", \"This is terible.\", \"Absolutely amazing\",\"Not good at all\"]\n",
    "\n",
    "labels = [\"positive\",\"negative\",\"positive\",\"negative\"]\n",
    "\n",
    "vectorizer = TfidfVectorizer()\n",
    "\n",
    "X = vectorizer.fit_transform(texts)\n",
    "\n",
    "class_centroids = {}\n",
    "unique_label = set(labels)\n",
    "\n",
    "for label in unique_label:\n",
    "\n",
    "    class_indices = [i for i, lbl in enumerate(labels) if lbl == label]\n",
    "\n",
    "    class_vectors = X[class_indices].toarray()\n",
    "\n",
    "    class_centroids[label] = np.mean(class_vectors, axis=0)\n",
    "\n",
    "new_text = ['This product is amazing!']\n",
    "\n",
    "new_vector = vectorizer.transform(new_text).toarray()\n",
    "\n",
    "distances = {\n",
    "    label: euclidean_distances([centroid], new_vector)[0][0]\n",
    "    for label, centroid in class_centroids.items()\n",
    "}\n",
    "\n",
    "predicted_label = min(distances, key=distances.get)\n",
    "\n",
    "for label, centroid in class_centroids.items():\n",
    "\n",
    "    print(f\"\\nCentroid for class '{label}' : \\n{centroid}\")\n",
    "\n",
    "print(f\"\\nDistance from new text to centroids : \\n{distances}\")\n",
    "\n",
    "print(f\"\\nPredicted label : {predicted_label}\")\n",
    "\n"
   ]
  },
  {
   "cell_type": "code",
   "execution_count": 33,
   "metadata": {
    "colab": {
     "base_uri": "https://localhost:8080/"
    },
    "executionInfo": {
     "elapsed": 8,
     "status": "ok",
     "timestamp": 1749203894017,
     "user": {
      "displayName": "Kishan Prakash",
      "userId": "00782312557775250381"
     },
     "user_tz": -330
    },
    "id": "NiTPIze-12iF",
    "outputId": "b53d0299-f53a-4167-e270-394af7407bf5"
   },
   "outputs": [
    {
     "name": "stdout",
     "output_type": "stream",
     "text": [
      "\n",
      "Centroid for class 'positive' : \n",
      "[0.35355339 0.         0.35355339 0.         0.         0.\n",
      " 0.30880719 0.         0.30880719 0.         0.24346713]\n",
      "\n",
      "Centroid for class 'negative' : \n",
      "[0.         0.25       0.         0.25       0.25       0.30880719\n",
      " 0.         0.25       0.         0.30880719 0.24346713]\n",
      "\n",
      "Cosine similarities from new text to centroids : \n",
      "{'positive': np.float64(0.9089420842914386), 'negative': np.float64(0.9388543610356126)}\n",
      "\n",
      "Predicted label : negative\n"
     ]
    }
   ],
   "source": [
    "# Centroid based classificaton using cosine similarity\n",
    "\n",
    "from sklearn.feature_extraction.text import TfidfVectorizer\n",
    "from sklearn.metrics.pairwise import cosine_similarity\n",
    "import numpy as np\n",
    "\n",
    "texts = [\"I love this product1\", \"This is terible.\", \"Absolutely amazing\",\"Not good at all\"]\n",
    "\n",
    "labels = [\"positive\",\"negative\",\"positive\",\"negative\"]\n",
    "\n",
    "vectorizer = TfidfVectorizer()\n",
    "\n",
    "X = vectorizer.fit_transform(texts)\n",
    "\n",
    "class_centroids = {}\n",
    "unique_label = set(labels)\n",
    "\n",
    "for label in unique_label:\n",
    "\n",
    "    class_indices = [i for i, lbl in enumerate(labels) if lbl == label]\n",
    "\n",
    "    class_vectors = X[class_indices].toarray()\n",
    "\n",
    "    class_centroids[label] = np.mean(class_vectors, axis=0)\n",
    "\n",
    "new_text = ['This product is amazing!']\n",
    "\n",
    "new_vector = vectorizer.transform(new_text).toarray()\n",
    "\n",
    "similarities = {\n",
    "    label: cosine_similarity([centroid], new_vector)[0][0]\n",
    "    for label, centroid in class_centroids.items()\n",
    "}\n",
    "\n",
    "predicted_label = max(distances, key=distances.get)\n",
    "\n",
    "for label, centroid in class_centroids.items():\n",
    "\n",
    "    print(f\"\\nCentroid for class '{label}' : \\n{centroid}\")\n",
    "\n",
    "print(f\"\\nCosine similarities from new text to centroids : \\n{distances}\")\n",
    "\n",
    "print(f\"\\nPredicted label : {predicted_label}\")\n",
    "\n"
   ]
  },
  {
   "cell_type": "code",
   "execution_count": 34,
   "metadata": {
    "colab": {
     "base_uri": "https://localhost:8080/"
    },
    "executionInfo": {
     "elapsed": 673,
     "status": "ok",
     "timestamp": 1749203894688,
     "user": {
      "displayName": "Kishan Prakash",
      "userId": "00782312557775250381"
     },
     "user_tz": -330
    },
    "id": "bIWdDqVh28nU",
    "outputId": "bd9b812c-a700-41a1-d837-612662f7cb33"
   },
   "outputs": [
    {
     "name": "stderr",
     "output_type": "stream",
     "text": [
      "[nltk_data] Downloading package wordnet to\n",
      "[nltk_data]     C:\\Users\\dai.STUDENTSDC\\AppData\\Roaming\\nltk_data...\n",
      "[nltk_data] Downloading package framenet_v17 to\n",
      "[nltk_data]     C:\\Users\\dai.STUDENTSDC\\AppData\\Roaming\\nltk_data...\n",
      "[nltk_data]   Unzipping corpora\\framenet_v17.zip.\n",
      "[nltk_data] Downloading package propbank to\n",
      "[nltk_data]     C:\\Users\\dai.STUDENTSDC\\AppData\\Roaming\\nltk_data...\n"
     ]
    },
    {
     "data": {
      "text/plain": [
       "True"
      ]
     },
     "execution_count": 34,
     "metadata": {},
     "output_type": "execute_result"
    }
   ],
   "source": [
    "# Lexicon using nltk corpora\n",
    "\n",
    "import nltk\n",
    "from nltk.corpus import wordnet, framenet as fn\n",
    "from nltk.corpus import propbank\n",
    "from nltk.corpus.reader.verbnet import VerbnetCorpusReader\n",
    "\n",
    "nltk.download('wordnet')\n",
    "nltk.download('framenet_v17')\n",
    "nltk.download('propbank')"
   ]
  },
  {
   "cell_type": "code",
   "execution_count": 35,
   "metadata": {
    "colab": {
     "base_uri": "https://localhost:8080/"
    },
    "executionInfo": {
     "elapsed": 3951,
     "status": "ok",
     "timestamp": 1749203898636,
     "user": {
      "displayName": "Kishan Prakash",
      "userId": "00782312557775250381"
     },
     "user_tz": -330
    },
    "id": "CZWZemsVgYyE",
    "outputId": "d032110e-c40c-483f-f3cd-75d50a941865"
   },
   "outputs": [
    {
     "name": "stdout",
     "output_type": "stream",
     "text": [
      "Wordnet example : \n",
      "Synonyms  :  ['happy', 'felicitous', 'happy', 'glad', 'happy', 'happy', 'well-chosen']\n"
     ]
    }
   ],
   "source": [
    "print(\"Wordnet example : \")\n",
    "\n",
    "synonyms = wordnet.synsets('happy')\n",
    "\n",
    "print(\"Synonyms  : \", [lemma.name() for synset in synonyms for lemma in synset.lemmas()])"
   ]
  },
  {
   "cell_type": "code",
   "execution_count": 36,
   "metadata": {
    "colab": {
     "base_uri": "https://localhost:8080/"
    },
    "executionInfo": {
     "elapsed": 22,
     "status": "ok",
     "timestamp": 1749203898659,
     "user": {
      "displayName": "Kishan Prakash",
      "userId": "00782312557775250381"
     },
     "user_tz": -330
    },
    "id": "hLvaCigxg9bD",
    "outputId": "0e56d4f9-e695-45b2-e099-d96c849322c1"
   },
   "outputs": [
    {
     "name": "stdout",
     "output_type": "stream",
     "text": [
      "Antonyms :  ['unhappy']\n"
     ]
    }
   ],
   "source": [
    "antonyms = []\n",
    "\n",
    "for syn in wordnet.synsets('happy'):\n",
    "\n",
    "    for lemma in syn.lemmas():\n",
    "\n",
    "        if lemma.antonyms():\n",
    "\n",
    "            antonyms.append(lemma.antonyms()[0].name())\n",
    "\n",
    "print(\"Antonyms : \", antonyms)"
   ]
  },
  {
   "cell_type": "code",
   "execution_count": 37,
   "metadata": {
    "colab": {
     "base_uri": "https://localhost:8080/"
    },
    "executionInfo": {
     "elapsed": 5029,
     "status": "ok",
     "timestamp": 1749203903690,
     "user": {
      "displayName": "Kishan Prakash",
      "userId": "00782312557775250381"
     },
     "user_tz": -330
    },
    "id": "4aRDOXWZhH9j",
    "outputId": "04a2dbb0-5cd8-414a-9cac-0476aca9e249"
   },
   "outputs": [
    {
     "name": "stdout",
     "output_type": "stream",
     "text": [
      "\n",
      "FrameNet Examples : \n",
      "Frame Name: Emotion_directed\n",
      "Frame Definition: The adjectives and nouns in this frame describe an Experiencer who is feeling or experiencing a particular emotional response to a Stimulus or about a Topic.  There can also be a Circumstances under which the response occurs or a Reason that the Stimulus evokes the particular response in the Experiencer.  'Mr. Whiskers is upset that there are no more cat treats.' 'The furious parent stormed into the office.' 'Franz gets infuriated at the thought of his ex-wife remarried.' ' She flashed a jubilant smile.' \n",
      "Frame Name: Luck\n",
      "Frame Definition: A State_of_affairs is evaluated as good (or bad), against a background assumption that previously, the State_of_affairs was thought to be unlikely to occur. The State_of_affairs holds for a particular Protagonist.  'He is a lucky gambler.'\n"
     ]
    }
   ],
   "source": [
    "# Framenet :Retriving Frames for \"happy\"\n",
    "\n",
    "print(\"\\nFrameNet Examples : \")\n",
    "\n",
    "frames = fn.frames_by_lemma(\"happy\")\n",
    "\n",
    "if frames:\n",
    "\n",
    "    for frame in frames[:3]:\n",
    "\n",
    "        print(f\"Frame Name: {frame.name}\")\n",
    "\n",
    "        print(f\"Frame Definition: {frame.definition}\")\n",
    "\n",
    "else:\n",
    "\n",
    "    print(\"No frames found for 'happy'\")"
   ]
  },
  {
   "cell_type": "code",
   "execution_count": 38,
   "metadata": {
    "colab": {
     "base_uri": "https://localhost:8080/"
    },
    "executionInfo": {
     "elapsed": 4562,
     "status": "ok",
     "timestamp": 1749203908254,
     "user": {
      "displayName": "Kishan Prakash",
      "userId": "00782312557775250381"
     },
     "user_tz": -330
    },
    "id": "5AhOAvoBiDlh",
    "outputId": "883e4107-ada0-4462-886d-9424e407c825"
   },
   "outputs": [
    {
     "name": "stdout",
     "output_type": "stream",
     "text": [
      "\n",
      "PropBank Examples : \n",
      "Roleset ID : abandon.01\n",
      " Arg0 : \n",
      " Arg1 : \n",
      " Arg2 : \n",
      "Roleset ID : abandon.02\n",
      " Arg0 : \n",
      " Arg1 : \n",
      " Arg2 : \n",
      "Roleset ID : abandon.03\n",
      " Arg0 : \n",
      " Arg1 : \n",
      " Arg2 : \n",
      "\n",
      "Filtering instances of specific verb.....\n",
      "\n",
      "Found 374 instances for verb 'run'\n",
      "Sentence ID : wsj_0027.mrg, Roleset : run.01\n",
      "Sentence ID : wsj_0034.mrg, Roleset : run.05\n"
     ]
    }
   ],
   "source": [
    "# PropBank: Rolesets : Result in XML , need to parse it\n",
    "\n",
    "print(\"\\nPropBank Examples : \")\n",
    "\n",
    "try:\n",
    "\n",
    "    rolesets = propbank.rolesets()\n",
    "\n",
    "    for roleset in rolesets[:3]:\n",
    "\n",
    "        roleset_id = roleset.attrib.get('id','N/A')\n",
    "\n",
    "        print(f\"Roleset ID : {roleset_id}\")\n",
    "\n",
    "        roles = roleset.findall('roles/role')\n",
    "\n",
    "        for role in roles:\n",
    "\n",
    "            n = role.attrib.get('n','?')\n",
    "\n",
    "            dscr = role.attrib.get('dscr','')\n",
    "\n",
    "            print(f\" Arg{n} : {dscr}\")\n",
    "\n",
    "    if propbank.instances():\n",
    "\n",
    "        print(\"\\nFiltering instances of specific verb.....\")\n",
    "\n",
    "        target_verb = \"run\"\n",
    "\n",
    "        instances = propbank.instances()\n",
    "\n",
    "        filtered = [inst for inst in instances if inst.roleset.startswith(f\"{target_verb}.\")]\n",
    "\n",
    "        print(f\"\\nFound {len(filtered)} instances for verb '{target_verb}'\")\n",
    "\n",
    "        for inst in filtered[:2]:\n",
    "\n",
    "            print(f\"Sentence ID : {inst.fileid}, Roleset : {inst.roleset}\")\n",
    "\n",
    "except Exception as e:\n",
    "\n",
    "    print(f\"An error occurred :\")"
   ]
  },
  {
   "cell_type": "code",
   "execution_count": 39,
   "metadata": {
    "colab": {
     "base_uri": "https://localhost:8080/"
    },
    "executionInfo": {
     "elapsed": 3704,
     "status": "ok",
     "timestamp": 1749203911974,
     "user": {
      "displayName": "Kishan Prakash",
      "userId": "00782312557775250381"
     },
     "user_tz": -330
    },
    "id": "z_PAsndkllpi",
    "outputId": "0bf4f6ac-3ed5-4c11-d283-1f6ec993b457"
   },
   "outputs": [
    {
     "name": "stdout",
     "output_type": "stream",
     "text": [
      "Collecting pyspellchecker\n",
      "  Downloading pyspellchecker-0.8.3-py3-none-any.whl (7.2 MB)\n",
      "Installing collected packages: pyspellchecker\n",
      "Successfully installed pyspellchecker-0.8.3\n"
     ]
    }
   ],
   "source": [
    "!pip install pyspellchecker"
   ]
  },
  {
   "cell_type": "code",
   "execution_count": 47,
   "metadata": {},
   "outputs": [
    {
     "name": "stdout",
     "output_type": "stream",
     "text": [
      "Requirement already satisfied: spellchecker in c:\\programdata\\anaconda3\\lib\\site-packages (0.4)\n",
      "Requirement already satisfied: setuptools in c:\\programdata\\anaconda3\\lib\\site-packages (from spellchecker) (50.3.1.post20201107)\n",
      "Requirement already satisfied: inexactsearch in c:\\programdata\\anaconda3\\lib\\site-packages (from spellchecker) (1.0.2)\n",
      "Requirement already satisfied: silpa-common>=0.3 in c:\\programdata\\anaconda3\\lib\\site-packages (from inexactsearch->spellchecker) (0.3)\n",
      "Requirement already satisfied: soundex>=1.0 in c:\\programdata\\anaconda3\\lib\\site-packages (from inexactsearch->spellchecker) (1.1.3)\n"
     ]
    }
   ],
   "source": [
    "!pip install spellchecker"
   ]
  },
  {
   "cell_type": "code",
   "execution_count": 49,
   "metadata": {
    "colab": {
     "base_uri": "https://localhost:8080/"
    },
    "executionInfo": {
     "elapsed": 1346,
     "status": "ok",
     "timestamp": 1749203913339,
     "user": {
      "displayName": "Kishan Prakash",
      "userId": "00782312557775250381"
     },
     "user_tz": -330
    },
    "id": "5dD_qIrslqc9",
    "outputId": "618c3e29-9fea-4332-d859-d8fbcb945735"
   },
   "outputs": [
    {
     "name": "stderr",
     "output_type": "stream",
     "text": [
      "[nltk_data] Downloading package wordnet to\n",
      "[nltk_data]     C:\\Users\\dai.STUDENTSDC\\AppData\\Roaming\\nltk_data...\n",
      "[nltk_data]   Package wordnet is already up-to-date!\n",
      "[nltk_data] Downloading package omw-1.4 to\n",
      "[nltk_data]     C:\\Users\\dai.STUDENTSDC\\AppData\\Roaming\\nltk_data...\n"
     ]
    },
    {
     "name": "stdout",
     "output_type": "stream",
     "text": [
      "Spell Check Correction : \n",
      " - Original : misteak\n",
      "   Best Suggestion : mistake\n",
      "   Other candidates : {'mister', 'misters', 'mistreat', 'mishear', 'steak', 'misdeal', 'mislead', 'misread', 'misspeak', 'mistral', 'misted', 'mistook', 'misteach', 'mistake'}\n",
      " - Original : speling\n",
      "   Best Suggestion : spelling\n",
      "   Other candidates : {'spelling', 'spewing', 'spieling', 'seeling'}\n"
     ]
    }
   ],
   "source": [
    "from spellchecker import SpellChecker\n",
    "import nltk\n",
    "from nltk.corpus import wordnet\n",
    "\n",
    "nltk.download('wordnet')\n",
    "nltk.download('omw-1.4')\n",
    "\n",
    "spell = SpellChecker()\n",
    "\n",
    "words = ['speling','correct','misteak']\n",
    "\n",
    "misspelled = spell.unknown(words)\n",
    "\n",
    "print(\"Spell Check Correction : \")\n",
    "\n",
    "for word in misspelled:\n",
    "\n",
    "    print(f\" - Original : {word}\")\n",
    "    print(f\"   Best Suggestion : {spell.correction(word)}\")\n",
    "    print(f\"   Other candidates : {spell.candidates(word)}\")"
   ]
  },
  {
   "cell_type": "code",
   "execution_count": 50,
   "metadata": {
    "colab": {
     "base_uri": "https://localhost:8080/"
    },
    "executionInfo": {
     "elapsed": 16,
     "status": "ok",
     "timestamp": 1749203913357,
     "user": {
      "displayName": "Kishan Prakash",
      "userId": "00782312557775250381"
     },
     "user_tz": -330
    },
    "id": "HKdCk77-m9R9",
    "outputId": "8e8b523a-9e21-4c00-ac30-250de4109778"
   },
   "outputs": [
    {
     "name": "stdout",
     "output_type": "stream",
     "text": [
      "\n",
      "Example sentence : \n",
      " - a happy smile\n",
      " - spent many happy days on the beach\n",
      " - a happy marriage\n"
     ]
    }
   ],
   "source": [
    "# Example sentence of a word\n",
    "\n",
    "word =\"happy\"\n",
    "\n",
    "synonyms = wordnet.synsets(word)\n",
    "\n",
    "print(\"\\nExample sentence : \")\n",
    "\n",
    "for example in synonyms[0].examples():\n",
    "\n",
    "    print(f\" - {example}\")"
   ]
  },
  {
   "cell_type": "code",
   "execution_count": 51,
   "metadata": {
    "colab": {
     "base_uri": "https://localhost:8080/"
    },
    "executionInfo": {
     "elapsed": 3293,
     "status": "ok",
     "timestamp": 1749203916661,
     "user": {
      "displayName": "Kishan Prakash",
      "userId": "00782312557775250381"
     },
     "user_tz": -330
    },
    "id": "XNlGH24NrHiE",
    "outputId": "0a62d453-1b75-47c1-dfab-8f000710cdd5"
   },
   "outputs": [
    {
     "name": "stdout",
     "output_type": "stream",
     "text": [
      "Collecting indic-transliteration\n",
      "  Downloading indic_transliteration-2.3.69-py3-none-any.whl (155 kB)\n",
      "Collecting typer\n",
      "  Downloading typer-0.16.0-py3-none-any.whl (46 kB)\n",
      "Collecting roman\n",
      "  Downloading roman-4.2-py3-none-any.whl (5.5 kB)\n",
      "Requirement already satisfied: backports.functools-lru-cache in c:\\programdata\\anaconda3\\lib\\site-packages (from indic-transliteration) (1.6.1)\n",
      "Requirement already satisfied: toml in c:\\programdata\\anaconda3\\lib\\site-packages (from indic-transliteration) (0.10.1)\n",
      "Requirement already satisfied: regex in c:\\programdata\\anaconda3\\lib\\site-packages (from indic-transliteration) (2020.10.15)\n",
      "Collecting click>=8.0.0\n",
      "  Using cached click-8.1.8-py3-none-any.whl (98 kB)\n",
      "Collecting shellingham>=1.3.0\n",
      "  Downloading shellingham-1.5.4-py2.py3-none-any.whl (9.8 kB)\n",
      "Requirement already satisfied: typing-extensions>=3.7.4.3 in c:\\users\\dai.studentsdc\\appdata\\roaming\\python\\python38\\site-packages (from typer->indic-transliteration) (4.13.0)\n",
      "Collecting rich>=10.11.0\n",
      "  Downloading rich-14.0.0-py3-none-any.whl (243 kB)\n",
      "Requirement already satisfied: colorama; platform_system == \"Windows\" in c:\\programdata\\anaconda3\\lib\\site-packages (from click>=8.0.0->typer->indic-transliteration) (0.4.4)\n",
      "Collecting markdown-it-py>=2.2.0\n",
      "  Downloading markdown_it_py-3.0.0-py3-none-any.whl (87 kB)\n",
      "Collecting pygments<3.0.0,>=2.13.0\n",
      "  Downloading pygments-2.19.2-py3-none-any.whl (1.2 MB)\n",
      "Collecting mdurl~=0.1\n",
      "  Downloading mdurl-0.1.2-py3-none-any.whl (10.0 kB)\n",
      "Installing collected packages: click, shellingham, mdurl, markdown-it-py, pygments, rich, typer, roman, indic-transliteration\n",
      "  Attempting uninstall: click\n",
      "    Found existing installation: click 7.1.2\n",
      "    Uninstalling click-7.1.2:\n"
     ]
    },
    {
     "name": "stderr",
     "output_type": "stream",
     "text": [
      "ERROR: Could not install packages due to an EnvironmentError: [WinError 5] Access is denied: 'c:\\\\programdata\\\\anaconda3\\\\lib\\\\site-packages\\\\click-7.1.2.dist-info\\\\INSTALLER'\n",
      "Consider using the `--user` option or check the permissions.\n",
      "\n"
     ]
    }
   ],
   "source": [
    "!pip install indic-transliteration"
   ]
  },
  {
   "cell_type": "code",
   "execution_count": 53,
   "metadata": {
    "colab": {
     "base_uri": "https://localhost:8080/"
    },
    "executionInfo": {
     "elapsed": 12,
     "status": "ok",
     "timestamp": 1749204013971,
     "user": {
      "displayName": "Kishan Prakash",
      "userId": "00782312557775250381"
     },
     "user_tz": -330
    },
    "id": "pODCjx1tnn-M",
    "outputId": "79925537-1cba-4817-fcc1-ad7c49db0963"
   },
   "outputs": [
    {
     "name": "stdout",
     "output_type": "stream",
     "text": [
      " Hindi : नमस्ते दुनिया\n",
      " ITRANS : namaste duniyA\n",
      " IAST : namaste duniyā\n",
      "\n",
      " Bengali : নমস্কার বিশ্ব\n",
      " ITRANS : namaskAra vishva\n",
      " IAST : namaskāra viśva\n",
      "\n",
      " Tamil : வணக்கம் உலகம்\n",
      " ITRANS : vaNaghghaM ulaghaM\n",
      " IAST : vaṇaghghaṃ ulaghaṃ\n",
      "\n",
      " Telugu : నమస్తే ప్రపంచం\n",
      " ITRANS : namaste prapaMchaM\n",
      " IAST : namaste prapaṃcaṃ\n",
      "\n",
      " Marathi : नमस्कार जगा\n",
      " ITRANS : namaskAra jagA\n",
      " IAST : namaskāra jagā\n",
      "\n",
      " Kannada : ನಮಸ್ಕಾರ ಜಗತ್ತು\n",
      " ITRANS : namaskAra jagattu\n",
      " IAST : namaskāra jagattu\n",
      "\n"
     ]
    }
   ],
   "source": [
    "# Transliteration\n",
    "\n",
    "from indic_transliteration import sanscript\n",
    "\n",
    "from indic_transliteration.sanscript import transliterate\n",
    "\n",
    "texts = {\n",
    "\n",
    "    \"Hindi\": \"नमस्ते दुनिया\",\n",
    "\n",
    "    \"Bengali\": \"নমস্কার বিশ্ব\",\n",
    "\n",
    "    \"Tamil\": \"வணக்கம் உலகம்\",\n",
    "\n",
    "    \"Telugu\": \"నమస్తే ప్రపంచం\",\n",
    "\n",
    "    \"Marathi\": \"नमस्कार जगा\",\n",
    "\n",
    "    \"Kannada\": \"ನಮಸ್ಕಾರ ಜಗತ್ತು\"\n",
    "}\n",
    "\n",
    "# Map language name to the correct script constant in sanscript\n",
    "\n",
    "lang_to_script = {\n",
    "\n",
    "    \"Hindi\": sanscript.DEVANAGARI,\n",
    "\n",
    "    \"Bengali\": sanscript.BENGALI,\n",
    "\n",
    "    \"Tamil\": sanscript.TAMIL,\n",
    "\n",
    "    \"Telugu\": sanscript.TELUGU,\n",
    "\n",
    "    \"Marathi\": sanscript.DEVANAGARI,\n",
    "\n",
    "    \"Kannada\": sanscript.KANNADA\n",
    "}\n",
    "\n",
    "for lang, text in texts.items():\n",
    "\n",
    "    src_scripts = lang_to_script[lang]\n",
    "\n",
    "    itrans = transliterate(text, src_scripts, sanscript.ITRANS)\n",
    "\n",
    "    iast = transliterate(text, src_scripts, sanscript.IAST)\n",
    "\n",
    "    print(f\" {lang} : {text}\")\n",
    "    print(f\" ITRANS : {itrans}\")\n",
    "    print(f\" IAST : {iast}\")\n",
    "    print()"
   ]
  },
  {
   "cell_type": "code",
   "execution_count": 54,
   "metadata": {
    "colab": {
     "base_uri": "https://localhost:8080/"
    },
    "executionInfo": {
     "elapsed": 4419,
     "status": "ok",
     "timestamp": 1749204153386,
     "user": {
      "displayName": "Kishan Prakash",
      "userId": "00782312557775250381"
     },
     "user_tz": -330
    },
    "id": "irt-5IWnsOv9",
    "outputId": "1ba6ebb9-1194-465c-b797-37c36b4ae8ae"
   },
   "outputs": [
    {
     "name": "stdout",
     "output_type": "stream",
     "text": [
      "Collecting language_tool_python\n",
      "  Downloading language_tool_python-2.8.2-py3-none-any.whl (36 kB)\n",
      "Requirement already satisfied: requests in c:\\programdata\\anaconda3\\lib\\site-packages (from language_tool_python) (2.24.0)\n",
      "Requirement already satisfied: tqdm in c:\\programdata\\anaconda3\\lib\\site-packages (from language_tool_python) (4.50.2)\n",
      "Requirement already satisfied: pip in c:\\programdata\\anaconda3\\lib\\site-packages (from language_tool_python) (20.2.4)\n",
      "Requirement already satisfied: wheel in c:\\programdata\\anaconda3\\lib\\site-packages (from language_tool_python) (0.35.1)\n",
      "Requirement already satisfied: urllib3!=1.25.0,!=1.25.1,<1.26,>=1.21.1 in c:\\programdata\\anaconda3\\lib\\site-packages (from requests->language_tool_python) (1.25.11)\n",
      "Requirement already satisfied: chardet<4,>=3.0.2 in c:\\programdata\\anaconda3\\lib\\site-packages (from requests->language_tool_python) (3.0.4)\n",
      "Requirement already satisfied: idna<3,>=2.5 in c:\\programdata\\anaconda3\\lib\\site-packages (from requests->language_tool_python) (2.10)\n",
      "Requirement already satisfied: certifi>=2017.4.17 in c:\\programdata\\anaconda3\\lib\\site-packages (from requests->language_tool_python) (2020.6.20)\n",
      "Installing collected packages: language-tool-python\n",
      "Successfully installed language-tool-python-2.8.2\n"
     ]
    }
   ],
   "source": [
    "!pip install language_tool_python"
   ]
  },
  {
   "cell_type": "code",
   "execution_count": 55,
   "metadata": {
    "colab": {
     "base_uri": "https://localhost:8080/"
    },
    "executionInfo": {
     "elapsed": 21702,
     "status": "ok",
     "timestamp": 1749204392086,
     "user": {
      "displayName": "Kishan Prakash",
      "userId": "00782312557775250381"
     },
     "user_tz": -330
    },
    "id": "DeEuXGMItEfY",
    "outputId": "e65186dc-7a89-4dcf-abd0-813b59081898"
   },
   "outputs": [
    {
     "name": "stderr",
     "output_type": "stream",
     "text": [
      "Sudo is disabled on this machine. To enable it, go to the \u001b]8;;ms-settings:developers\u001b\\Developer Settings page\u001b]8;;\u001b\\ in the Settings app\n",
      "Sudo is disabled on this machine. To enable it, go to the \u001b]8;;ms-settings:developers\u001b\\Developer Settings page\u001b]8;;\u001b\\ in the Settings app\n",
      "java version \"23.0.2\" 2025-01-21\n",
      "Java(TM) SE Runtime Environment (build 23.0.2+7-58)\n",
      "Java HotSpot(TM) 64-Bit Server VM (build 23.0.2+7-58, mixed mode, sharing)\n"
     ]
    }
   ],
   "source": [
    "!sudo apt update\n",
    "!sudo apt install openjdk-17-jdk -y\n",
    "!java -version"
   ]
  },
  {
   "cell_type": "code",
   "execution_count": 57,
   "metadata": {
    "colab": {
     "base_uri": "https://localhost:8080/"
    },
    "executionInfo": {
     "elapsed": 34130,
     "status": "ok",
     "timestamp": 1749204433521,
     "user": {
      "displayName": "Kishan Prakash",
      "userId": "00782312557775250381"
     },
     "user_tz": -330
    },
    "id": "reFcqraFrB9k",
    "outputId": "62fd47fe-8eb4-4672-fb9f-f95e83f7a464"
   },
   "outputs": [
    {
     "name": "stderr",
     "output_type": "stream",
     "text": [
      "Downloading LanguageTool latest: 100%|██████████| 252M/252M [00:12<00:00, 19.5MB/s] \n",
      "Unzipping C:\\Users\\DAI~1.STU\\AppData\\Local\\Temp\\tmp10q0a3b4.zip to C:\\Users\\dai.STUDENTSDC\\.cache\\language_tool_python.\n",
      "Downloaded https://internal1.languagetool.org/snapshots/LanguageTool-latest-snapshot.zip to C:\\Users\\dai.STUDENTSDC\\.cache\\language_tool_python.\n"
     ]
    },
    {
     "name": "stdout",
     "output_type": "stream",
     "text": [
      "Issue : ‘Everyday’ is an adjective. Did you mean “every day”?\n",
      "Suggested correction : ['every day']\n"
     ]
    }
   ],
   "source": [
    "# Grammar Check\n",
    "\n",
    "import language_tool_python\n",
    "\n",
    "tool = language_tool_python.LanguageTool(\"en\")\n",
    "\n",
    "text = \"I come to C-DAC everyday.\"\n",
    "\n",
    "matches = tool.check(text)\n",
    "\n",
    "for match in matches:\n",
    "\n",
    "    print(f\"Issue : {match.message}\")\n",
    "    print(f\"Suggested correction : {match.replacements}\")"
   ]
  },
  {
   "cell_type": "code",
   "execution_count": 58,
   "metadata": {
    "colab": {
     "base_uri": "https://localhost:8080/"
    },
    "executionInfo": {
     "elapsed": 201618,
     "status": "ok",
     "timestamp": 1749204986683,
     "user": {
      "displayName": "Kishan Prakash",
      "userId": "00782312557775250381"
     },
     "user_tz": -330
    },
    "id": "4FFnHHvxuneV",
    "outputId": "79f5c9d3-8fb8-45d6-f9a7-719039ea7c7e"
   },
   "outputs": [
    {
     "name": "stdout",
     "output_type": "stream",
     "text": [
      "Requirement already satisfied: transformers in c:\\programdata\\anaconda3\\lib\\site-packages (4.46.3)\n",
      "Requirement already satisfied: torch in c:\\programdata\\anaconda3\\lib\\site-packages (2.4.1)\n",
      "Requirement already satisfied: safetensors>=0.4.1 in c:\\programdata\\anaconda3\\lib\\site-packages (from transformers) (0.5.3)\n",
      "Requirement already satisfied: tqdm>=4.27 in c:\\programdata\\anaconda3\\lib\\site-packages (from transformers) (4.50.2)\n",
      "Requirement already satisfied: filelock in c:\\programdata\\anaconda3\\lib\\site-packages (from transformers) (3.0.12)\n",
      "Requirement already satisfied: packaging>=20.0 in c:\\programdata\\anaconda3\\lib\\site-packages (from transformers) (20.4)\n",
      "Requirement already satisfied: tokenizers<0.21,>=0.20 in c:\\programdata\\anaconda3\\lib\\site-packages (from transformers) (0.20.3)\n",
      "Requirement already satisfied: huggingface-hub<1.0,>=0.23.2 in c:\\programdata\\anaconda3\\lib\\site-packages (from transformers) (0.32.4)\n",
      "Requirement already satisfied: numpy>=1.17 in c:\\programdata\\anaconda3\\lib\\site-packages (from transformers) (1.19.2)\n",
      "Requirement already satisfied: regex!=2019.12.17 in c:\\programdata\\anaconda3\\lib\\site-packages (from transformers) (2020.10.15)\n",
      "Requirement already satisfied: requests in c:\\programdata\\anaconda3\\lib\\site-packages (from transformers) (2.24.0)\n",
      "Requirement already satisfied: pyyaml>=5.1 in c:\\programdata\\anaconda3\\lib\\site-packages (from transformers) (5.3.1)\n",
      "Requirement already satisfied: typing-extensions>=4.8.0 in c:\\users\\dai.studentsdc\\appdata\\roaming\\python\\python38\\site-packages (from torch) (4.13.0)\n",
      "Requirement already satisfied: sympy in c:\\programdata\\anaconda3\\lib\\site-packages (from torch) (1.6.2)\n",
      "Requirement already satisfied: fsspec in c:\\programdata\\anaconda3\\lib\\site-packages (from torch) (0.8.3)\n",
      "Requirement already satisfied: jinja2 in c:\\programdata\\anaconda3\\lib\\site-packages (from torch) (2.11.2)\n",
      "Requirement already satisfied: networkx in c:\\programdata\\anaconda3\\lib\\site-packages (from torch) (2.5)\n",
      "Requirement already satisfied: pyparsing>=2.0.2 in c:\\programdata\\anaconda3\\lib\\site-packages (from packaging>=20.0->transformers) (2.4.7)\n",
      "Requirement already satisfied: six in c:\\programdata\\anaconda3\\lib\\site-packages (from packaging>=20.0->transformers) (1.15.0)\n",
      "Requirement already satisfied: chardet<4,>=3.0.2 in c:\\programdata\\anaconda3\\lib\\site-packages (from requests->transformers) (3.0.4)\n",
      "Requirement already satisfied: idna<3,>=2.5 in c:\\programdata\\anaconda3\\lib\\site-packages (from requests->transformers) (2.10)\n",
      "Requirement already satisfied: certifi>=2017.4.17 in c:\\programdata\\anaconda3\\lib\\site-packages (from requests->transformers) (2020.6.20)\n",
      "Requirement already satisfied: urllib3!=1.25.0,!=1.25.1,<1.26,>=1.21.1 in c:\\programdata\\anaconda3\\lib\\site-packages (from requests->transformers) (1.25.11)\n",
      "Requirement already satisfied: mpmath>=0.19 in c:\\programdata\\anaconda3\\lib\\site-packages (from sympy->torch) (1.1.0)\n",
      "Requirement already satisfied: MarkupSafe>=0.23 in c:\\programdata\\anaconda3\\lib\\site-packages (from jinja2->torch) (1.1.1)\n",
      "Requirement already satisfied: decorator>=4.3.0 in c:\\programdata\\anaconda3\\lib\\site-packages (from networkx->torch) (4.4.2)\n"
     ]
    }
   ],
   "source": [
    "!pip install transformers torch"
   ]
  },
  {
   "cell_type": "code",
   "execution_count": 59,
   "metadata": {
    "colab": {
     "base_uri": "https://localhost:8080/",
     "height": 363,
     "referenced_widgets": [
      "8083e68580744b0f97f488eb4160517c",
      "3007493427ce4aa6b42e19e763edb2ba",
      "ad1c83b17dab4d718aedfc391884a012",
      "10063740858b4a3a91484208a867ab37",
      "63dc52b0f33e4c1a9bde32e738f5407f",
      "1d20237feac84b0097eddc5bfe65645b",
      "fc1ced43ad554f039d19526bb3150285",
      "3ca65a792c714b51af689a88341fcbf3",
      "b8d389c8573243fb95a190ed24a219e4",
      "7a7849d27712451eb2a39ab9ea80843f",
      "469930c3ba5d4374b7e24eff0f452274",
      "8c23574922b2444892088fcd043edbb7",
      "6d2ff805ebb44672b73383eeb9139608",
      "2b3ae6859ec34957b28166a346ee7271",
      "1fa57f9d1655455ebed030e7a9baf4e8",
      "7395701355354fc886b715eb57e73a6f",
      "176a3faf01c94e61b492747bbafc92e4",
      "5d2b74472bae4b8d95db94b79ec4dd97",
      "886a2cecdbd14b4593bc7707d5a7402a",
      "3fef32daa6b9453d8a910b24a360c5f9",
      "64188b8ceeec4e63b2f344ef94eaa43e",
      "1d42ec165192493ea9c3aab1b79f0e88",
      "537d452375c54b4db11c46508b367f0e",
      "85cef1f0647f4a0393b66e02412baa17",
      "c897385a4a324d0c8312752b4e25bdb9",
      "e5f31bfa667a465989002a8cfab5e289",
      "4bad418ccafe4ce1b08794c955fef58a",
      "d8ce9fc88161455bafc9057eec459cac",
      "c772eae3295343eca299894fd873b169",
      "a7e27c0ff06e43eea7bd4799c9ec1394",
      "2604e396b9f44bbfafcfb4b2cafcc09d",
      "bc621da9bb974296871b3f1dd899ce23",
      "111f86e025a44567bb82ab1cab5816e5",
      "bec64f0ccb094388876b5fe0ef3ea35a",
      "99c585ed291e458bb767b160f0380238",
      "e9d61aaaef48497783106c62b185465a",
      "676b25038ac147789addb6c09f295241",
      "d2bb8b65218e433c8b9fdc95413d5e00",
      "61a6b4032cd1461f94d3ea303b112c56",
      "3f0e5387a45d4539abd0645ca45298d0",
      "bf403f71a5c4480c83847064fd04c15b",
      "50c261a1a87842349973b508930818c4",
      "c17ad08ae92a47ed81bd61f93259e344",
      "2c463cabeacd4ae7b749d02ed3985097",
      "dca8115f5b224982841e75dfad260a13",
      "8bd3f5aeb6d249a79ccd53a3fd7fb7b1",
      "ba8c816612de476c90e06ac25c335310",
      "54d9947db0214144ab6b4b57161b383e",
      "1cdfde1b17094d48991809e2f94160c5",
      "3353feb347224ca8bc1923131fee5e00",
      "c21ec159d51f4557bd55b483127c23d0",
      "56459220320f42e1b7d997e4d4d21a93",
      "ac6f37065aeb481f8c7f56abed679453",
      "f94dc9a9ee894ef69f88eb74a0292d09",
      "6285c31fa1fb47e29406031686ce87ab",
      "63c54665950d47a79c2c79270ca8d09c",
      "468e8b55f35642138e7b470d10b3cf44",
      "ec95d7d2b64a4f349cb4a797df44e00d",
      "38e04de231ee491dab99a7ffb707c0b7",
      "1ef74353615649c0979af95e55af2964",
      "94e92f3dc373434a991da1d5b621a5f5",
      "9c5d23bf320145c5b84d078039032345",
      "97fb544562aa441681963c6c8c5d7bb3",
      "18f979ec0080426d838e3db8311ccaf7",
      "02d7c187119f48e288ba2bdfbbdc71b6",
      "65526d7d910c42daaa8d52ccc379903a",
      "8cf2147f36aa416588ed81dc9918a51a",
      "67bce39c72b64423a67ab4ea5b227fdf",
      "0724c9596ff8435aa3f63b73c8bc94d4",
      "623589189c414a34a276e9e3c8e1d838",
      "ff87916e29a24865b57c8ad4d60811e6",
      "e627382e6a7a41a7b28d7f1f23673262",
      "58b0854117b54adab7bc558dc39020bd",
      "528c4a3bf9c9415d9507430f4058f85c",
      "bfa306fc673c474aafc2b4a06aaabf61",
      "daf166b740704839af65fc5e5a21b68a",
      "baf20c73b81f4ba2bcaa7d66e2afb01e"
     ]
    },
    "executionInfo": {
     "elapsed": 58777,
     "status": "ok",
     "timestamp": 1749205196503,
     "user": {
      "displayName": "Kishan Prakash",
      "userId": "00782312557775250381"
     },
     "user_tz": -330
    },
    "id": "GhBaOIUes6lH",
    "outputId": "a3f53804-7729-45eb-801d-5612faa1f247"
   },
   "outputs": [
    {
     "data": {
      "application/vnd.jupyter.widget-view+json": {
       "model_id": "b3b9602b497e4743bb7dae7ef7c92dd0",
       "version_major": 2,
       "version_minor": 0
      },
      "text/plain": [
       "config.json:   0%|          | 0.00/665 [00:00<?, ?B/s]"
      ]
     },
     "metadata": {},
     "output_type": "display_data"
    },
    {
     "name": "stderr",
     "output_type": "stream",
     "text": [
      "From c:\\Users\\dai.STUDENTSDC\\.conda\\envs\\NLP\\Lib\\site-packages\\tf_keras\\src\\losses.py:2976: The name tf.losses.sparse_softmax_cross_entropy is deprecated. Please use tf.compat.v1.losses.sparse_softmax_cross_entropy instead.\n",
      "\n",
      "Xet Storage is enabled for this repo, but the 'hf_xet' package is not installed. Falling back to regular HTTP download. For better performance, install the package with: `pip install huggingface_hub[hf_xet]` or `pip install hf_xet`\n",
      "Xet Storage is enabled for this repo, but the 'hf_xet' package is not installed. Falling back to regular HTTP download. For better performance, install the package with: `pip install huggingface_hub[hf_xet]` or `pip install hf_xet`\n"
     ]
    },
    {
     "data": {
      "application/vnd.jupyter.widget-view+json": {
       "model_id": "97f0cc73fa3243b684624ae21ea095ca",
       "version_major": 2,
       "version_minor": 0
      },
      "text/plain": [
       "model.safetensors:   0%|          | 0.00/548M [00:00<?, ?B/s]"
      ]
     },
     "metadata": {},
     "output_type": "display_data"
    },
    {
     "data": {
      "application/vnd.jupyter.widget-view+json": {
       "model_id": "ce9ddcb286bc4827ad37fc319eafd2d6",
       "version_major": 2,
       "version_minor": 0
      },
      "text/plain": [
       "generation_config.json:   0%|          | 0.00/124 [00:00<?, ?B/s]"
      ]
     },
     "metadata": {},
     "output_type": "display_data"
    },
    {
     "data": {
      "application/vnd.jupyter.widget-view+json": {
       "model_id": "52300f4774404ee78e61306fcde79898",
       "version_major": 2,
       "version_minor": 0
      },
      "text/plain": [
       "tokenizer_config.json:   0%|          | 0.00/26.0 [00:00<?, ?B/s]"
      ]
     },
     "metadata": {},
     "output_type": "display_data"
    },
    {
     "data": {
      "application/vnd.jupyter.widget-view+json": {
       "model_id": "cf9fc004221945feba764d6bc4e11b2e",
       "version_major": 2,
       "version_minor": 0
      },
      "text/plain": [
       "vocab.json:   0%|          | 0.00/1.04M [00:00<?, ?B/s]"
      ]
     },
     "metadata": {},
     "output_type": "display_data"
    },
    {
     "data": {
      "application/vnd.jupyter.widget-view+json": {
       "model_id": "842dddcec17b46e7ac0a4ff1bea8db90",
       "version_major": 2,
       "version_minor": 0
      },
      "text/plain": [
       "merges.txt:   0%|          | 0.00/456k [00:00<?, ?B/s]"
      ]
     },
     "metadata": {},
     "output_type": "display_data"
    },
    {
     "data": {
      "application/vnd.jupyter.widget-view+json": {
       "model_id": "567bc380b061436f9a15e37397e2f23b",
       "version_major": 2,
       "version_minor": 0
      },
      "text/plain": [
       "tokenizer.json:   0%|          | 0.00/1.36M [00:00<?, ?B/s]"
      ]
     },
     "metadata": {},
     "output_type": "display_data"
    },
    {
     "name": "stderr",
     "output_type": "stream",
     "text": [
      "Device set to use cpu\n"
     ]
    }
   ],
   "source": [
    "# Text auto completion\n",
    "\n",
    "from transformers import pipeline\n",
    "\n",
    "generator = pipeline(\"text-generation\", model = \"gpt2\")\n",
    "\n",
    "def autocomplete(prompt, max_length = 50):\n",
    "\n",
    "    result = generator(prompt, max_length = max_length, num_return_sequences = 1, temperature=0.7, top_k = 50, pad_token_id = 50256)\n",
    "\n",
    "    print(result)\n",
    "\n",
    "    return result[0]['generated_text']\n"
   ]
  },
  {
   "cell_type": "code",
   "execution_count": 60,
   "metadata": {
    "colab": {
     "base_uri": "https://localhost:8080/"
    },
    "executionInfo": {
     "elapsed": 15992,
     "status": "ok",
     "timestamp": 1749205246712,
     "user": {
      "displayName": "Kishan Prakash",
      "userId": "00782312557775250381"
     },
     "user_tz": -330
    },
    "id": "-uIwSW0XwNfF",
    "outputId": "afcd4f33-55c3-4d9e-bc87-59e8c331081c"
   },
   "outputs": [
    {
     "name": "stderr",
     "output_type": "stream",
     "text": [
      "Truncation was not explicitly activated but `max_length` is provided a specific value, please use `truncation=True` to explicitly truncate examples to max length. Defaulting to 'longest_first' truncation strategy. If you encode pairs of sequences (GLUE-style) with the tokenizer you can select this strategy more precisely by providing a specific strategy to `truncation`.\n",
      "Both `max_new_tokens` (=256) and `max_length`(=50) seem to have been set. `max_new_tokens` will take precedence. Please refer to the documentation for more information. (https://huggingface.co/docs/transformers/main/en/main_classes/text_generation)\n"
     ]
    },
    {
     "name": "stdout",
     "output_type": "stream",
     "text": [
      "[{'generated_text': 'The difference between human inteligence and AI is often misunderstood. Some researchers have argued that human intelligence is inherently biased, and therefore not capable of acting independently. Others argued that human intelligence is capable of acting independently, and thus capable of using the information gleaned from computers to build more efficient and efficient intelligence systems. The evidence for the latter contention is overwhelming. In recent years, there has been a surge in the number of papers and papers about AI (and AI programs) that describe the difficulties of human intelligence. In this article, we present a few short articles from the past decade that challenge the belief that human intelligence is capable of acting independently, and what they suggest about the extent to which AI is capable of being used to build better and more efficient systems.\\n\\nThe difficulties of a human intelligence\\n\\nThe first major problem with human intelligence is its limitations. Most people, if they have the data, would not have access to it if it were not for this fact: it is not possible for a human being to perform a task in the absence of human intervention. As a result, we can expect to have a human intelligence to perform a task at the same speed with many other species. As this is the case, we should expect that humans will be able to do tasks faster than we can, and in'}]\n",
      "Auto complete :  The difference between human inteligence and AI is often misunderstood. Some researchers have argued that human intelligence is inherently biased, and therefore not capable of acting independently. Others argued that human intelligence is capable of acting independently, and thus capable of using the information gleaned from computers to build more efficient and efficient intelligence systems. The evidence for the latter contention is overwhelming. In recent years, there has been a surge in the number of papers and papers about AI (and AI programs) that describe the difficulties of human intelligence. In this article, we present a few short articles from the past decade that challenge the belief that human intelligence is capable of acting independently, and what they suggest about the extent to which AI is capable of being used to build better and more efficient systems.\n",
      "\n",
      "The difficulties of a human intelligence\n",
      "\n",
      "The first major problem with human intelligence is its limitations. Most people, if they have the data, would not have access to it if it were not for this fact: it is not possible for a human being to perform a task in the absence of human intervention. As a result, we can expect to have a human intelligence to perform a task at the same speed with many other species. As this is the case, we should expect that humans will be able to do tasks faster than we can, and in\n"
     ]
    }
   ],
   "source": [
    "prompt = \"The difference between human inteligence and AI\"\n",
    "\n",
    "print(\"Auto complete : \", autocomplete(prompt))"
   ]
  },
  {
   "cell_type": "code",
   "execution_count": 61,
   "metadata": {
    "colab": {
     "base_uri": "https://localhost:8080/"
    },
    "executionInfo": {
     "elapsed": 15254,
     "status": "ok",
     "timestamp": 1749205267783,
     "user": {
      "displayName": "Kishan Prakash",
      "userId": "00782312557775250381"
     },
     "user_tz": -330
    },
    "id": "1nWNg3oywOdH",
    "outputId": "ffc8d815-7a43-4039-b7f7-1cf306e24d41"
   },
   "outputs": [
    {
     "name": "stderr",
     "output_type": "stream",
     "text": [
      "Both `max_new_tokens` (=256) and `max_length`(=50) seem to have been set. `max_new_tokens` will take precedence. Please refer to the documentation for more information. (https://huggingface.co/docs/transformers/main/en/main_classes/text_generation)\n"
     ]
    },
    {
     "name": "stdout",
     "output_type": "stream",
     "text": [
      "[{'generated_text': 'Machine learning is \\xa0a way of understanding how to develop and use machine learning algorithms and how to build a better, more accurate understanding of what you are learning.\\nMachine learning is not only a way of understanding how to develop and use machine learning algorithms and how to build a better, more accurate understanding of what you are learning, but it is also a way to understand how to develop and use machine learning algorithms, building on existing knowledge.\\nThe problem is that machine learning algorithms may be very difficult to learn and understand, and the problem is that machine learning algorithms may be very difficult to understand and understand, because they are in fact incredibly complicated.\\nThe problem is that machine learning algorithms may be very difficult to learn and understand, and the problem is that machine learning algorithms may be very difficult to understand and understand, because they are in fact incredibly complicated.\\nSo, what is the problem with machine learning algorithms?\\nMachine learning algorithms are a tool to learn.\\nMachine learning algorithms are a tool to learn.\\nMachine learning algorithms are a tool to learn.\\nSo, what is the problem with machine learning algorithms?\\nMachine learning algorithms are a tool to learn.\\nSo, what is the problem with machine learning algorithms?\\nMachine learning algorithms are a tool to learn.\\n'}]\n",
      "Auto complete :  Machine learning is  a way of understanding how to develop and use machine learning algorithms and how to build a better, more accurate understanding of what you are learning.\n",
      "Machine learning is not only a way of understanding how to develop and use machine learning algorithms and how to build a better, more accurate understanding of what you are learning, but it is also a way to understand how to develop and use machine learning algorithms, building on existing knowledge.\n",
      "The problem is that machine learning algorithms may be very difficult to learn and understand, and the problem is that machine learning algorithms may be very difficult to understand and understand, because they are in fact incredibly complicated.\n",
      "The problem is that machine learning algorithms may be very difficult to learn and understand, and the problem is that machine learning algorithms may be very difficult to understand and understand, because they are in fact incredibly complicated.\n",
      "So, what is the problem with machine learning algorithms?\n",
      "Machine learning algorithms are a tool to learn.\n",
      "Machine learning algorithms are a tool to learn.\n",
      "Machine learning algorithms are a tool to learn.\n",
      "So, what is the problem with machine learning algorithms?\n",
      "Machine learning algorithms are a tool to learn.\n",
      "So, what is the problem with machine learning algorithms?\n",
      "Machine learning algorithms are a tool to learn.\n",
      "\n"
     ]
    }
   ],
   "source": [
    "prompt = \"Machine learning is \"\n",
    "\n",
    "print(\"Auto complete : \", autocomplete(prompt))"
   ]
  },
  {
   "cell_type": "code",
   "execution_count": 62,
   "metadata": {
    "colab": {
     "base_uri": "https://localhost:8080/"
    },
    "executionInfo": {
     "elapsed": 15862,
     "status": "ok",
     "timestamp": 1749205352429,
     "user": {
      "displayName": "Kishan Prakash",
      "userId": "00782312557775250381"
     },
     "user_tz": -330
    },
    "id": "nSW-2cr_wU0M",
    "outputId": "379aa1b4-516c-4cba-c3b1-68971e781da5"
   },
   "outputs": [
    {
     "name": "stderr",
     "output_type": "stream",
     "text": [
      "Both `max_new_tokens` (=256) and `max_length`(=50) seem to have been set. `max_new_tokens` will take precedence. Please refer to the documentation for more information. (https://huggingface.co/docs/transformers/main/en/main_classes/text_generation)\n"
     ]
    },
    {
     "name": "stdout",
     "output_type": "stream",
     "text": [
      "[{'generated_text': ' The future of AI is \\xa0to solve problems in a more efficient manner than human beings.\\n\"We are a species that can be programmed to respond to problems and solve them, but it is not the same as humans. For example, humans have been doing this for centuries, but we have not had the patience to learn from it. We can only learn from mistakes that we can use to solve problems. And when it comes to understanding and solving problems, we are not a species, we are the human species. That\\'s where the human approach is coming from. We are the human species because of the choices we make. We can choose to live our lives in a better way, but the consequences are greater. We are the human species because we can choose to have better lives. We are the human species because of the choices we make.\\n\"We can choose to have better lives, but the consequences are greater. We are the human species because of the choices we make. We are the human species because we have greater self-awareness and better communication skills than humans. We are the human species because we know how to communicate with other humans. We are the human species because we know how to understand other people\\'s problems. We are the human species because we can make better decisions without being'}]\n",
      "Auto complete :   The future of AI is  to solve problems in a more efficient manner than human beings.\n",
      "\"We are a species that can be programmed to respond to problems and solve them, but it is not the same as humans. For example, humans have been doing this for centuries, but we have not had the patience to learn from it. We can only learn from mistakes that we can use to solve problems. And when it comes to understanding and solving problems, we are not a species, we are the human species. That's where the human approach is coming from. We are the human species because of the choices we make. We can choose to live our lives in a better way, but the consequences are greater. We are the human species because we can choose to have better lives. We are the human species because of the choices we make.\n",
      "\"We can choose to have better lives, but the consequences are greater. We are the human species because of the choices we make. We are the human species because we have greater self-awareness and better communication skills than humans. We are the human species because we know how to communicate with other humans. We are the human species because we know how to understand other people's problems. We are the human species because we can make better decisions without being\n"
     ]
    }
   ],
   "source": [
    "prompt = \" The future of AI is \"\n",
    "\n",
    "print(\"Auto complete : \", autocomplete(prompt))"
   ]
  },
  {
   "cell_type": "code",
   "execution_count": 63,
   "metadata": {
    "colab": {
     "base_uri": "https://localhost:8080/"
    },
    "executionInfo": {
     "elapsed": 4227,
     "status": "ok",
     "timestamp": 1749206442137,
     "user": {
      "displayName": "Kishan Prakash",
      "userId": "00782312557775250381"
     },
     "user_tz": -330
    },
    "id": "4G713GxWzwZY",
    "outputId": "d2b9b948-8a4d-40a3-92f6-4b50d5c7a1bb"
   },
   "outputs": [
    {
     "data": {
      "application/vnd.jupyter.widget-view+json": {
       "model_id": "db332b3a78e741e4aff752d3a61f1e89",
       "version_major": 2,
       "version_minor": 0
      },
      "text/plain": [
       "config.json: 0.00B [00:00, ?B/s]"
      ]
     },
     "metadata": {},
     "output_type": "display_data"
    },
    {
     "name": "stderr",
     "output_type": "stream",
     "text": [
      "Xet Storage is enabled for this repo, but the 'hf_xet' package is not installed. Falling back to regular HTTP download. For better performance, install the package with: `pip install huggingface_hub[hf_xet]` or `pip install hf_xet`\n",
      "Xet Storage is enabled for this repo, but the 'hf_xet' package is not installed. Falling back to regular HTTP download. For better performance, install the package with: `pip install huggingface_hub[hf_xet]` or `pip install hf_xet`\n"
     ]
    },
    {
     "data": {
      "application/vnd.jupyter.widget-view+json": {
       "model_id": "51248614b50c4a02a4c7d57968b7108f",
       "version_major": 2,
       "version_minor": 0
      },
      "text/plain": [
       "model.safetensors:   0%|          | 0.00/1.63G [00:00<?, ?B/s]"
      ]
     },
     "metadata": {},
     "output_type": "display_data"
    },
    {
     "data": {
      "application/vnd.jupyter.widget-view+json": {
       "model_id": "ebb2b321284f47c889a89257b933a8ee",
       "version_major": 2,
       "version_minor": 0
      },
      "text/plain": [
       "tokenizer_config.json:   0%|          | 0.00/26.0 [00:00<?, ?B/s]"
      ]
     },
     "metadata": {},
     "output_type": "display_data"
    },
    {
     "data": {
      "application/vnd.jupyter.widget-view+json": {
       "model_id": "c4fad3ae15214bb78ab494749e40ebb8",
       "version_major": 2,
       "version_minor": 0
      },
      "text/plain": [
       "vocab.json: 0.00B [00:00, ?B/s]"
      ]
     },
     "metadata": {},
     "output_type": "display_data"
    },
    {
     "data": {
      "application/vnd.jupyter.widget-view+json": {
       "model_id": "8c4b40cbfedd48fba193b2dab4198088",
       "version_major": 2,
       "version_minor": 0
      },
      "text/plain": [
       "merges.txt: 0.00B [00:00, ?B/s]"
      ]
     },
     "metadata": {},
     "output_type": "display_data"
    },
    {
     "data": {
      "application/vnd.jupyter.widget-view+json": {
       "model_id": "80f5b5228e7a41bc9468d56fc124e999",
       "version_major": 2,
       "version_minor": 0
      },
      "text/plain": [
       "tokenizer.json: 0.00B [00:00, ?B/s]"
      ]
     },
     "metadata": {},
     "output_type": "display_data"
    },
    {
     "name": "stderr",
     "output_type": "stream",
     "text": [
      "Device set to use cpu\n"
     ]
    },
    {
     "name": "stdout",
     "output_type": "stream",
     "text": [
      "Predicted domain: technology (Confidence : 0.9874113202095032)\n"
     ]
    }
   ],
   "source": [
    "# domain identification\n",
    "\n",
    "classifier = pipeline(\"zero-shot-classification\", model = \"facebook/bart-large-mnli\")\n",
    "\n",
    "text = \"The new AI model surpasses human performance in language understanding.\"\n",
    "\n",
    "candidate_labels = [\"technology\",\"sports\", \"finance\",\"health\",\"education\"]\n",
    "\n",
    "result = classifier(text, candidate_labels)\n",
    "\n",
    "print(f\"Predicted domain: {result['labels'][0]} (Confidence : {result['scores'][0]})\")"
   ]
  },
  {
   "cell_type": "code",
   "execution_count": 64,
   "metadata": {
    "colab": {
     "base_uri": "https://localhost:8080/"
    },
    "executionInfo": {
     "elapsed": 3629,
     "status": "ok",
     "timestamp": 1749206623287,
     "user": {
      "displayName": "Kishan Prakash",
      "userId": "00782312557775250381"
     },
     "user_tz": -330
    },
    "id": "CZrQUqE80mlm",
    "outputId": "c2e3acbd-8b31-47be-cd59-fa087d09c56b"
   },
   "outputs": [
    {
     "name": "stdout",
     "output_type": "stream",
     "text": [
      "Top 3 predicted domain : \n",
      "personal (Confidence : 0.9429901838302612)\n",
      "psychology (Confidence : 0.03370288014411926)\n",
      "medicine (Confidence : 0.00874606054276228)\n"
     ]
    }
   ],
   "source": [
    "text = \"I was feeling a bit lonely yesterday.\"\n",
    "\n",
    "candidate_labels = [\"psychology\",\"medicine\", \"pharma\",\"personal\",\"family\"]\n",
    "\n",
    "result = classifier(text, candidate_labels)\n",
    "\n",
    "print(\"Top 3 predicted domain : \")\n",
    "\n",
    "for label, score in zip(result['labels'][:3], result['scores'][:3]):\n",
    "\n",
    "    print(f\"{label} (Confidence : {score})\")"
   ]
  },
  {
   "cell_type": "code",
   "execution_count": 65,
   "metadata": {
    "colab": {
     "base_uri": "https://localhost:8080/"
    },
    "executionInfo": {
     "elapsed": 5467,
     "status": "ok",
     "timestamp": 1749207415224,
     "user": {
      "displayName": "Kishan Prakash",
      "userId": "00782312557775250381"
     },
     "user_tz": -330
    },
    "id": "2rE84tkE1tRl",
    "outputId": "8cd6b1b6-caad-413d-e0b0-6c693b0528b8"
   },
   "outputs": [
    {
     "name": "stdout",
     "output_type": "stream",
     "text": [
      "Text : I love footbal and gaming. \n",
      "Predicted gender : male (Confidence : 0.7647196650505066\n",
      "\n",
      "Text : I enjoy shpping and fasgion. \n",
      "Predicted gender : female (Confidence : 0.5809084177017212\n",
      "\n",
      "Text : I work in the field of AI. \n",
      "Predicted gender : female (Confidence : 0.7784162759780884\n",
      "\n",
      "Text : I am a collage student. \n",
      "Predicted gender : female (Confidence : 0.5977951288223267\n",
      "\n",
      "Text : I am an AI trainer. \n",
      "Predicted gender : female (Confidence : 0.7123528718948364\n",
      "\n",
      "Text : I am a smartphone addict. \n",
      "Predicted gender : male (Confidence : 0.8212590217590332\n",
      "\n"
     ]
    }
   ],
   "source": [
    "labels = [\"male\",\"female\"]\n",
    "\n",
    "texts = [\n",
    "    \"I love footbal and gaming.\",\n",
    "    \"I enjoy shpping and fasgion.\",\n",
    "    \"I work in the field of AI.\",\n",
    "    \"I am a collage student.\",\n",
    "    \"I am an AI trainer.\",\n",
    "    \"I am a smartphone addict.\"\n",
    "]\n",
    "\n",
    "for text in texts:\n",
    "\n",
    "    result = classifier(text, candidate_labels=labels)\n",
    "\n",
    "    print(f\"Text : {text} \\nPredicted gender : {result['labels'][0]} (Confidence : {result['scores'][0]}\\n\")"
   ]
  },
  {
   "cell_type": "code",
   "execution_count": null,
   "metadata": {
    "id": "7ALxub6r4qLE"
   },
   "outputs": [],
   "source": []
  }
 ],
 "metadata": {
  "colab": {
   "authorship_tag": "ABX9TyPkPfX0bAkr2+ot51Zn/CSu",
   "provenance": []
  },
  "kernelspec": {
   "display_name": "NLP",
   "language": "python",
   "name": "python3"
  },
  "language_info": {
   "codemirror_mode": {
    "name": "ipython",
    "version": 3
   },
   "file_extension": ".py",
   "mimetype": "text/x-python",
   "name": "python",
   "nbconvert_exporter": "python",
   "pygments_lexer": "ipython3",
   "version": "3.11.0"
  },
  "widgets": {
   "application/vnd.jupyter.widget-state+json": {
    "02d7c187119f48e288ba2bdfbbdc71b6": {
     "model_module": "@jupyter-widgets/base",
     "model_module_version": "1.2.0",
     "model_name": "LayoutModel",
     "state": {
      "_model_module": "@jupyter-widgets/base",
      "_model_module_version": "1.2.0",
      "_model_name": "LayoutModel",
      "_view_count": null,
      "_view_module": "@jupyter-widgets/base",
      "_view_module_version": "1.2.0",
      "_view_name": "LayoutView",
      "align_content": null,
      "align_items": null,
      "align_self": null,
      "border": null,
      "bottom": null,
      "display": null,
      "flex": null,
      "flex_flow": null,
      "grid_area": null,
      "grid_auto_columns": null,
      "grid_auto_flow": null,
      "grid_auto_rows": null,
      "grid_column": null,
      "grid_gap": null,
      "grid_row": null,
      "grid_template_areas": null,
      "grid_template_columns": null,
      "grid_template_rows": null,
      "height": null,
      "justify_content": null,
      "justify_items": null,
      "left": null,
      "margin": null,
      "max_height": null,
      "max_width": null,
      "min_height": null,
      "min_width": null,
      "object_fit": null,
      "object_position": null,
      "order": null,
      "overflow": null,
      "overflow_x": null,
      "overflow_y": null,
      "padding": null,
      "right": null,
      "top": null,
      "visibility": null,
      "width": null
     }
    },
    "0724c9596ff8435aa3f63b73c8bc94d4": {
     "model_module": "@jupyter-widgets/controls",
     "model_module_version": "1.5.0",
     "model_name": "FloatProgressModel",
     "state": {
      "_dom_classes": [],
      "_model_module": "@jupyter-widgets/controls",
      "_model_module_version": "1.5.0",
      "_model_name": "FloatProgressModel",
      "_view_count": null,
      "_view_module": "@jupyter-widgets/controls",
      "_view_module_version": "1.5.0",
      "_view_name": "ProgressView",
      "bar_style": "success",
      "description": "",
      "description_tooltip": null,
      "layout": "IPY_MODEL_528c4a3bf9c9415d9507430f4058f85c",
      "max": 1355256,
      "min": 0,
      "orientation": "horizontal",
      "style": "IPY_MODEL_bfa306fc673c474aafc2b4a06aaabf61",
      "value": 1355256
     }
    },
    "10063740858b4a3a91484208a867ab37": {
     "model_module": "@jupyter-widgets/controls",
     "model_module_version": "1.5.0",
     "model_name": "HTMLModel",
     "state": {
      "_dom_classes": [],
      "_model_module": "@jupyter-widgets/controls",
      "_model_module_version": "1.5.0",
      "_model_name": "HTMLModel",
      "_view_count": null,
      "_view_module": "@jupyter-widgets/controls",
      "_view_module_version": "1.5.0",
      "_view_name": "HTMLView",
      "description": "",
      "description_tooltip": null,
      "layout": "IPY_MODEL_7a7849d27712451eb2a39ab9ea80843f",
      "placeholder": "​",
      "style": "IPY_MODEL_469930c3ba5d4374b7e24eff0f452274",
      "value": " 665/665 [00:00&lt;00:00, 13.6kB/s]"
     }
    },
    "111f86e025a44567bb82ab1cab5816e5": {
     "model_module": "@jupyter-widgets/controls",
     "model_module_version": "1.5.0",
     "model_name": "DescriptionStyleModel",
     "state": {
      "_model_module": "@jupyter-widgets/controls",
      "_model_module_version": "1.5.0",
      "_model_name": "DescriptionStyleModel",
      "_view_count": null,
      "_view_module": "@jupyter-widgets/base",
      "_view_module_version": "1.2.0",
      "_view_name": "StyleView",
      "description_width": ""
     }
    },
    "176a3faf01c94e61b492747bbafc92e4": {
     "model_module": "@jupyter-widgets/base",
     "model_module_version": "1.2.0",
     "model_name": "LayoutModel",
     "state": {
      "_model_module": "@jupyter-widgets/base",
      "_model_module_version": "1.2.0",
      "_model_name": "LayoutModel",
      "_view_count": null,
      "_view_module": "@jupyter-widgets/base",
      "_view_module_version": "1.2.0",
      "_view_name": "LayoutView",
      "align_content": null,
      "align_items": null,
      "align_self": null,
      "border": null,
      "bottom": null,
      "display": null,
      "flex": null,
      "flex_flow": null,
      "grid_area": null,
      "grid_auto_columns": null,
      "grid_auto_flow": null,
      "grid_auto_rows": null,
      "grid_column": null,
      "grid_gap": null,
      "grid_row": null,
      "grid_template_areas": null,
      "grid_template_columns": null,
      "grid_template_rows": null,
      "height": null,
      "justify_content": null,
      "justify_items": null,
      "left": null,
      "margin": null,
      "max_height": null,
      "max_width": null,
      "min_height": null,
      "min_width": null,
      "object_fit": null,
      "object_position": null,
      "order": null,
      "overflow": null,
      "overflow_x": null,
      "overflow_y": null,
      "padding": null,
      "right": null,
      "top": null,
      "visibility": null,
      "width": null
     }
    },
    "18f979ec0080426d838e3db8311ccaf7": {
     "model_module": "@jupyter-widgets/controls",
     "model_module_version": "1.5.0",
     "model_name": "ProgressStyleModel",
     "state": {
      "_model_module": "@jupyter-widgets/controls",
      "_model_module_version": "1.5.0",
      "_model_name": "ProgressStyleModel",
      "_view_count": null,
      "_view_module": "@jupyter-widgets/base",
      "_view_module_version": "1.2.0",
      "_view_name": "StyleView",
      "bar_color": null,
      "description_width": ""
     }
    },
    "1cdfde1b17094d48991809e2f94160c5": {
     "model_module": "@jupyter-widgets/base",
     "model_module_version": "1.2.0",
     "model_name": "LayoutModel",
     "state": {
      "_model_module": "@jupyter-widgets/base",
      "_model_module_version": "1.2.0",
      "_model_name": "LayoutModel",
      "_view_count": null,
      "_view_module": "@jupyter-widgets/base",
      "_view_module_version": "1.2.0",
      "_view_name": "LayoutView",
      "align_content": null,
      "align_items": null,
      "align_self": null,
      "border": null,
      "bottom": null,
      "display": null,
      "flex": null,
      "flex_flow": null,
      "grid_area": null,
      "grid_auto_columns": null,
      "grid_auto_flow": null,
      "grid_auto_rows": null,
      "grid_column": null,
      "grid_gap": null,
      "grid_row": null,
      "grid_template_areas": null,
      "grid_template_columns": null,
      "grid_template_rows": null,
      "height": null,
      "justify_content": null,
      "justify_items": null,
      "left": null,
      "margin": null,
      "max_height": null,
      "max_width": null,
      "min_height": null,
      "min_width": null,
      "object_fit": null,
      "object_position": null,
      "order": null,
      "overflow": null,
      "overflow_x": null,
      "overflow_y": null,
      "padding": null,
      "right": null,
      "top": null,
      "visibility": null,
      "width": null
     }
    },
    "1d20237feac84b0097eddc5bfe65645b": {
     "model_module": "@jupyter-widgets/base",
     "model_module_version": "1.2.0",
     "model_name": "LayoutModel",
     "state": {
      "_model_module": "@jupyter-widgets/base",
      "_model_module_version": "1.2.0",
      "_model_name": "LayoutModel",
      "_view_count": null,
      "_view_module": "@jupyter-widgets/base",
      "_view_module_version": "1.2.0",
      "_view_name": "LayoutView",
      "align_content": null,
      "align_items": null,
      "align_self": null,
      "border": null,
      "bottom": null,
      "display": null,
      "flex": null,
      "flex_flow": null,
      "grid_area": null,
      "grid_auto_columns": null,
      "grid_auto_flow": null,
      "grid_auto_rows": null,
      "grid_column": null,
      "grid_gap": null,
      "grid_row": null,
      "grid_template_areas": null,
      "grid_template_columns": null,
      "grid_template_rows": null,
      "height": null,
      "justify_content": null,
      "justify_items": null,
      "left": null,
      "margin": null,
      "max_height": null,
      "max_width": null,
      "min_height": null,
      "min_width": null,
      "object_fit": null,
      "object_position": null,
      "order": null,
      "overflow": null,
      "overflow_x": null,
      "overflow_y": null,
      "padding": null,
      "right": null,
      "top": null,
      "visibility": null,
      "width": null
     }
    },
    "1d42ec165192493ea9c3aab1b79f0e88": {
     "model_module": "@jupyter-widgets/controls",
     "model_module_version": "1.5.0",
     "model_name": "DescriptionStyleModel",
     "state": {
      "_model_module": "@jupyter-widgets/controls",
      "_model_module_version": "1.5.0",
      "_model_name": "DescriptionStyleModel",
      "_view_count": null,
      "_view_module": "@jupyter-widgets/base",
      "_view_module_version": "1.2.0",
      "_view_name": "StyleView",
      "description_width": ""
     }
    },
    "1ef74353615649c0979af95e55af2964": {
     "model_module": "@jupyter-widgets/base",
     "model_module_version": "1.2.0",
     "model_name": "LayoutModel",
     "state": {
      "_model_module": "@jupyter-widgets/base",
      "_model_module_version": "1.2.0",
      "_model_name": "LayoutModel",
      "_view_count": null,
      "_view_module": "@jupyter-widgets/base",
      "_view_module_version": "1.2.0",
      "_view_name": "LayoutView",
      "align_content": null,
      "align_items": null,
      "align_self": null,
      "border": null,
      "bottom": null,
      "display": null,
      "flex": null,
      "flex_flow": null,
      "grid_area": null,
      "grid_auto_columns": null,
      "grid_auto_flow": null,
      "grid_auto_rows": null,
      "grid_column": null,
      "grid_gap": null,
      "grid_row": null,
      "grid_template_areas": null,
      "grid_template_columns": null,
      "grid_template_rows": null,
      "height": null,
      "justify_content": null,
      "justify_items": null,
      "left": null,
      "margin": null,
      "max_height": null,
      "max_width": null,
      "min_height": null,
      "min_width": null,
      "object_fit": null,
      "object_position": null,
      "order": null,
      "overflow": null,
      "overflow_x": null,
      "overflow_y": null,
      "padding": null,
      "right": null,
      "top": null,
      "visibility": null,
      "width": null
     }
    },
    "1fa57f9d1655455ebed030e7a9baf4e8": {
     "model_module": "@jupyter-widgets/controls",
     "model_module_version": "1.5.0",
     "model_name": "HTMLModel",
     "state": {
      "_dom_classes": [],
      "_model_module": "@jupyter-widgets/controls",
      "_model_module_version": "1.5.0",
      "_model_name": "HTMLModel",
      "_view_count": null,
      "_view_module": "@jupyter-widgets/controls",
      "_view_module_version": "1.5.0",
      "_view_name": "HTMLView",
      "description": "",
      "description_tooltip": null,
      "layout": "IPY_MODEL_64188b8ceeec4e63b2f344ef94eaa43e",
      "placeholder": "​",
      "style": "IPY_MODEL_1d42ec165192493ea9c3aab1b79f0e88",
      "value": " 548M/548M [00:20&lt;00:00, 51.6MB/s]"
     }
    },
    "2604e396b9f44bbfafcfb4b2cafcc09d": {
     "model_module": "@jupyter-widgets/controls",
     "model_module_version": "1.5.0",
     "model_name": "ProgressStyleModel",
     "state": {
      "_model_module": "@jupyter-widgets/controls",
      "_model_module_version": "1.5.0",
      "_model_name": "ProgressStyleModel",
      "_view_count": null,
      "_view_module": "@jupyter-widgets/base",
      "_view_module_version": "1.2.0",
      "_view_name": "StyleView",
      "bar_color": null,
      "description_width": ""
     }
    },
    "2b3ae6859ec34957b28166a346ee7271": {
     "model_module": "@jupyter-widgets/controls",
     "model_module_version": "1.5.0",
     "model_name": "FloatProgressModel",
     "state": {
      "_dom_classes": [],
      "_model_module": "@jupyter-widgets/controls",
      "_model_module_version": "1.5.0",
      "_model_name": "FloatProgressModel",
      "_view_count": null,
      "_view_module": "@jupyter-widgets/controls",
      "_view_module_version": "1.5.0",
      "_view_name": "ProgressView",
      "bar_style": "success",
      "description": "",
      "description_tooltip": null,
      "layout": "IPY_MODEL_886a2cecdbd14b4593bc7707d5a7402a",
      "max": 548105171,
      "min": 0,
      "orientation": "horizontal",
      "style": "IPY_MODEL_3fef32daa6b9453d8a910b24a360c5f9",
      "value": 548105171
     }
    },
    "2c463cabeacd4ae7b749d02ed3985097": {
     "model_module": "@jupyter-widgets/controls",
     "model_module_version": "1.5.0",
     "model_name": "DescriptionStyleModel",
     "state": {
      "_model_module": "@jupyter-widgets/controls",
      "_model_module_version": "1.5.0",
      "_model_name": "DescriptionStyleModel",
      "_view_count": null,
      "_view_module": "@jupyter-widgets/base",
      "_view_module_version": "1.2.0",
      "_view_name": "StyleView",
      "description_width": ""
     }
    },
    "3007493427ce4aa6b42e19e763edb2ba": {
     "model_module": "@jupyter-widgets/controls",
     "model_module_version": "1.5.0",
     "model_name": "HTMLModel",
     "state": {
      "_dom_classes": [],
      "_model_module": "@jupyter-widgets/controls",
      "_model_module_version": "1.5.0",
      "_model_name": "HTMLModel",
      "_view_count": null,
      "_view_module": "@jupyter-widgets/controls",
      "_view_module_version": "1.5.0",
      "_view_name": "HTMLView",
      "description": "",
      "description_tooltip": null,
      "layout": "IPY_MODEL_1d20237feac84b0097eddc5bfe65645b",
      "placeholder": "​",
      "style": "IPY_MODEL_fc1ced43ad554f039d19526bb3150285",
      "value": "config.json: 100%"
     }
    },
    "3353feb347224ca8bc1923131fee5e00": {
     "model_module": "@jupyter-widgets/base",
     "model_module_version": "1.2.0",
     "model_name": "LayoutModel",
     "state": {
      "_model_module": "@jupyter-widgets/base",
      "_model_module_version": "1.2.0",
      "_model_name": "LayoutModel",
      "_view_count": null,
      "_view_module": "@jupyter-widgets/base",
      "_view_module_version": "1.2.0",
      "_view_name": "LayoutView",
      "align_content": null,
      "align_items": null,
      "align_self": null,
      "border": null,
      "bottom": null,
      "display": null,
      "flex": null,
      "flex_flow": null,
      "grid_area": null,
      "grid_auto_columns": null,
      "grid_auto_flow": null,
      "grid_auto_rows": null,
      "grid_column": null,
      "grid_gap": null,
      "grid_row": null,
      "grid_template_areas": null,
      "grid_template_columns": null,
      "grid_template_rows": null,
      "height": null,
      "justify_content": null,
      "justify_items": null,
      "left": null,
      "margin": null,
      "max_height": null,
      "max_width": null,
      "min_height": null,
      "min_width": null,
      "object_fit": null,
      "object_position": null,
      "order": null,
      "overflow": null,
      "overflow_x": null,
      "overflow_y": null,
      "padding": null,
      "right": null,
      "top": null,
      "visibility": null,
      "width": null
     }
    },
    "38e04de231ee491dab99a7ffb707c0b7": {
     "model_module": "@jupyter-widgets/controls",
     "model_module_version": "1.5.0",
     "model_name": "HTMLModel",
     "state": {
      "_dom_classes": [],
      "_model_module": "@jupyter-widgets/controls",
      "_model_module_version": "1.5.0",
      "_model_name": "HTMLModel",
      "_view_count": null,
      "_view_module": "@jupyter-widgets/controls",
      "_view_module_version": "1.5.0",
      "_view_name": "HTMLView",
      "description": "",
      "description_tooltip": null,
      "layout": "IPY_MODEL_02d7c187119f48e288ba2bdfbbdc71b6",
      "placeholder": "​",
      "style": "IPY_MODEL_65526d7d910c42daaa8d52ccc379903a",
      "value": " 456k/456k [00:00&lt;00:00, 30.3MB/s]"
     }
    },
    "3ca65a792c714b51af689a88341fcbf3": {
     "model_module": "@jupyter-widgets/base",
     "model_module_version": "1.2.0",
     "model_name": "LayoutModel",
     "state": {
      "_model_module": "@jupyter-widgets/base",
      "_model_module_version": "1.2.0",
      "_model_name": "LayoutModel",
      "_view_count": null,
      "_view_module": "@jupyter-widgets/base",
      "_view_module_version": "1.2.0",
      "_view_name": "LayoutView",
      "align_content": null,
      "align_items": null,
      "align_self": null,
      "border": null,
      "bottom": null,
      "display": null,
      "flex": null,
      "flex_flow": null,
      "grid_area": null,
      "grid_auto_columns": null,
      "grid_auto_flow": null,
      "grid_auto_rows": null,
      "grid_column": null,
      "grid_gap": null,
      "grid_row": null,
      "grid_template_areas": null,
      "grid_template_columns": null,
      "grid_template_rows": null,
      "height": null,
      "justify_content": null,
      "justify_items": null,
      "left": null,
      "margin": null,
      "max_height": null,
      "max_width": null,
      "min_height": null,
      "min_width": null,
      "object_fit": null,
      "object_position": null,
      "order": null,
      "overflow": null,
      "overflow_x": null,
      "overflow_y": null,
      "padding": null,
      "right": null,
      "top": null,
      "visibility": null,
      "width": null
     }
    },
    "3f0e5387a45d4539abd0645ca45298d0": {
     "model_module": "@jupyter-widgets/controls",
     "model_module_version": "1.5.0",
     "model_name": "DescriptionStyleModel",
     "state": {
      "_model_module": "@jupyter-widgets/controls",
      "_model_module_version": "1.5.0",
      "_model_name": "DescriptionStyleModel",
      "_view_count": null,
      "_view_module": "@jupyter-widgets/base",
      "_view_module_version": "1.2.0",
      "_view_name": "StyleView",
      "description_width": ""
     }
    },
    "3fef32daa6b9453d8a910b24a360c5f9": {
     "model_module": "@jupyter-widgets/controls",
     "model_module_version": "1.5.0",
     "model_name": "ProgressStyleModel",
     "state": {
      "_model_module": "@jupyter-widgets/controls",
      "_model_module_version": "1.5.0",
      "_model_name": "ProgressStyleModel",
      "_view_count": null,
      "_view_module": "@jupyter-widgets/base",
      "_view_module_version": "1.2.0",
      "_view_name": "StyleView",
      "bar_color": null,
      "description_width": ""
     }
    },
    "468e8b55f35642138e7b470d10b3cf44": {
     "model_module": "@jupyter-widgets/controls",
     "model_module_version": "1.5.0",
     "model_name": "HTMLModel",
     "state": {
      "_dom_classes": [],
      "_model_module": "@jupyter-widgets/controls",
      "_model_module_version": "1.5.0",
      "_model_name": "HTMLModel",
      "_view_count": null,
      "_view_module": "@jupyter-widgets/controls",
      "_view_module_version": "1.5.0",
      "_view_name": "HTMLView",
      "description": "",
      "description_tooltip": null,
      "layout": "IPY_MODEL_94e92f3dc373434a991da1d5b621a5f5",
      "placeholder": "​",
      "style": "IPY_MODEL_9c5d23bf320145c5b84d078039032345",
      "value": "merges.txt: 100%"
     }
    },
    "469930c3ba5d4374b7e24eff0f452274": {
     "model_module": "@jupyter-widgets/controls",
     "model_module_version": "1.5.0",
     "model_name": "DescriptionStyleModel",
     "state": {
      "_model_module": "@jupyter-widgets/controls",
      "_model_module_version": "1.5.0",
      "_model_name": "DescriptionStyleModel",
      "_view_count": null,
      "_view_module": "@jupyter-widgets/base",
      "_view_module_version": "1.2.0",
      "_view_name": "StyleView",
      "description_width": ""
     }
    },
    "4bad418ccafe4ce1b08794c955fef58a": {
     "model_module": "@jupyter-widgets/base",
     "model_module_version": "1.2.0",
     "model_name": "LayoutModel",
     "state": {
      "_model_module": "@jupyter-widgets/base",
      "_model_module_version": "1.2.0",
      "_model_name": "LayoutModel",
      "_view_count": null,
      "_view_module": "@jupyter-widgets/base",
      "_view_module_version": "1.2.0",
      "_view_name": "LayoutView",
      "align_content": null,
      "align_items": null,
      "align_self": null,
      "border": null,
      "bottom": null,
      "display": null,
      "flex": null,
      "flex_flow": null,
      "grid_area": null,
      "grid_auto_columns": null,
      "grid_auto_flow": null,
      "grid_auto_rows": null,
      "grid_column": null,
      "grid_gap": null,
      "grid_row": null,
      "grid_template_areas": null,
      "grid_template_columns": null,
      "grid_template_rows": null,
      "height": null,
      "justify_content": null,
      "justify_items": null,
      "left": null,
      "margin": null,
      "max_height": null,
      "max_width": null,
      "min_height": null,
      "min_width": null,
      "object_fit": null,
      "object_position": null,
      "order": null,
      "overflow": null,
      "overflow_x": null,
      "overflow_y": null,
      "padding": null,
      "right": null,
      "top": null,
      "visibility": null,
      "width": null
     }
    },
    "50c261a1a87842349973b508930818c4": {
     "model_module": "@jupyter-widgets/controls",
     "model_module_version": "1.5.0",
     "model_name": "ProgressStyleModel",
     "state": {
      "_model_module": "@jupyter-widgets/controls",
      "_model_module_version": "1.5.0",
      "_model_name": "ProgressStyleModel",
      "_view_count": null,
      "_view_module": "@jupyter-widgets/base",
      "_view_module_version": "1.2.0",
      "_view_name": "StyleView",
      "bar_color": null,
      "description_width": ""
     }
    },
    "528c4a3bf9c9415d9507430f4058f85c": {
     "model_module": "@jupyter-widgets/base",
     "model_module_version": "1.2.0",
     "model_name": "LayoutModel",
     "state": {
      "_model_module": "@jupyter-widgets/base",
      "_model_module_version": "1.2.0",
      "_model_name": "LayoutModel",
      "_view_count": null,
      "_view_module": "@jupyter-widgets/base",
      "_view_module_version": "1.2.0",
      "_view_name": "LayoutView",
      "align_content": null,
      "align_items": null,
      "align_self": null,
      "border": null,
      "bottom": null,
      "display": null,
      "flex": null,
      "flex_flow": null,
      "grid_area": null,
      "grid_auto_columns": null,
      "grid_auto_flow": null,
      "grid_auto_rows": null,
      "grid_column": null,
      "grid_gap": null,
      "grid_row": null,
      "grid_template_areas": null,
      "grid_template_columns": null,
      "grid_template_rows": null,
      "height": null,
      "justify_content": null,
      "justify_items": null,
      "left": null,
      "margin": null,
      "max_height": null,
      "max_width": null,
      "min_height": null,
      "min_width": null,
      "object_fit": null,
      "object_position": null,
      "order": null,
      "overflow": null,
      "overflow_x": null,
      "overflow_y": null,
      "padding": null,
      "right": null,
      "top": null,
      "visibility": null,
      "width": null
     }
    },
    "537d452375c54b4db11c46508b367f0e": {
     "model_module": "@jupyter-widgets/controls",
     "model_module_version": "1.5.0",
     "model_name": "HBoxModel",
     "state": {
      "_dom_classes": [],
      "_model_module": "@jupyter-widgets/controls",
      "_model_module_version": "1.5.0",
      "_model_name": "HBoxModel",
      "_view_count": null,
      "_view_module": "@jupyter-widgets/controls",
      "_view_module_version": "1.5.0",
      "_view_name": "HBoxView",
      "box_style": "",
      "children": [
       "IPY_MODEL_85cef1f0647f4a0393b66e02412baa17",
       "IPY_MODEL_c897385a4a324d0c8312752b4e25bdb9",
       "IPY_MODEL_e5f31bfa667a465989002a8cfab5e289"
      ],
      "layout": "IPY_MODEL_4bad418ccafe4ce1b08794c955fef58a"
     }
    },
    "54d9947db0214144ab6b4b57161b383e": {
     "model_module": "@jupyter-widgets/controls",
     "model_module_version": "1.5.0",
     "model_name": "HTMLModel",
     "state": {
      "_dom_classes": [],
      "_model_module": "@jupyter-widgets/controls",
      "_model_module_version": "1.5.0",
      "_model_name": "HTMLModel",
      "_view_count": null,
      "_view_module": "@jupyter-widgets/controls",
      "_view_module_version": "1.5.0",
      "_view_name": "HTMLView",
      "description": "",
      "description_tooltip": null,
      "layout": "IPY_MODEL_f94dc9a9ee894ef69f88eb74a0292d09",
      "placeholder": "​",
      "style": "IPY_MODEL_6285c31fa1fb47e29406031686ce87ab",
      "value": " 1.04M/1.04M [00:00&lt;00:00, 13.4MB/s]"
     }
    },
    "56459220320f42e1b7d997e4d4d21a93": {
     "model_module": "@jupyter-widgets/base",
     "model_module_version": "1.2.0",
     "model_name": "LayoutModel",
     "state": {
      "_model_module": "@jupyter-widgets/base",
      "_model_module_version": "1.2.0",
      "_model_name": "LayoutModel",
      "_view_count": null,
      "_view_module": "@jupyter-widgets/base",
      "_view_module_version": "1.2.0",
      "_view_name": "LayoutView",
      "align_content": null,
      "align_items": null,
      "align_self": null,
      "border": null,
      "bottom": null,
      "display": null,
      "flex": null,
      "flex_flow": null,
      "grid_area": null,
      "grid_auto_columns": null,
      "grid_auto_flow": null,
      "grid_auto_rows": null,
      "grid_column": null,
      "grid_gap": null,
      "grid_row": null,
      "grid_template_areas": null,
      "grid_template_columns": null,
      "grid_template_rows": null,
      "height": null,
      "justify_content": null,
      "justify_items": null,
      "left": null,
      "margin": null,
      "max_height": null,
      "max_width": null,
      "min_height": null,
      "min_width": null,
      "object_fit": null,
      "object_position": null,
      "order": null,
      "overflow": null,
      "overflow_x": null,
      "overflow_y": null,
      "padding": null,
      "right": null,
      "top": null,
      "visibility": null,
      "width": null
     }
    },
    "58b0854117b54adab7bc558dc39020bd": {
     "model_module": "@jupyter-widgets/controls",
     "model_module_version": "1.5.0",
     "model_name": "DescriptionStyleModel",
     "state": {
      "_model_module": "@jupyter-widgets/controls",
      "_model_module_version": "1.5.0",
      "_model_name": "DescriptionStyleModel",
      "_view_count": null,
      "_view_module": "@jupyter-widgets/base",
      "_view_module_version": "1.2.0",
      "_view_name": "StyleView",
      "description_width": ""
     }
    },
    "5d2b74472bae4b8d95db94b79ec4dd97": {
     "model_module": "@jupyter-widgets/controls",
     "model_module_version": "1.5.0",
     "model_name": "DescriptionStyleModel",
     "state": {
      "_model_module": "@jupyter-widgets/controls",
      "_model_module_version": "1.5.0",
      "_model_name": "DescriptionStyleModel",
      "_view_count": null,
      "_view_module": "@jupyter-widgets/base",
      "_view_module_version": "1.2.0",
      "_view_name": "StyleView",
      "description_width": ""
     }
    },
    "61a6b4032cd1461f94d3ea303b112c56": {
     "model_module": "@jupyter-widgets/base",
     "model_module_version": "1.2.0",
     "model_name": "LayoutModel",
     "state": {
      "_model_module": "@jupyter-widgets/base",
      "_model_module_version": "1.2.0",
      "_model_name": "LayoutModel",
      "_view_count": null,
      "_view_module": "@jupyter-widgets/base",
      "_view_module_version": "1.2.0",
      "_view_name": "LayoutView",
      "align_content": null,
      "align_items": null,
      "align_self": null,
      "border": null,
      "bottom": null,
      "display": null,
      "flex": null,
      "flex_flow": null,
      "grid_area": null,
      "grid_auto_columns": null,
      "grid_auto_flow": null,
      "grid_auto_rows": null,
      "grid_column": null,
      "grid_gap": null,
      "grid_row": null,
      "grid_template_areas": null,
      "grid_template_columns": null,
      "grid_template_rows": null,
      "height": null,
      "justify_content": null,
      "justify_items": null,
      "left": null,
      "margin": null,
      "max_height": null,
      "max_width": null,
      "min_height": null,
      "min_width": null,
      "object_fit": null,
      "object_position": null,
      "order": null,
      "overflow": null,
      "overflow_x": null,
      "overflow_y": null,
      "padding": null,
      "right": null,
      "top": null,
      "visibility": null,
      "width": null
     }
    },
    "623589189c414a34a276e9e3c8e1d838": {
     "model_module": "@jupyter-widgets/controls",
     "model_module_version": "1.5.0",
     "model_name": "HTMLModel",
     "state": {
      "_dom_classes": [],
      "_model_module": "@jupyter-widgets/controls",
      "_model_module_version": "1.5.0",
      "_model_name": "HTMLModel",
      "_view_count": null,
      "_view_module": "@jupyter-widgets/controls",
      "_view_module_version": "1.5.0",
      "_view_name": "HTMLView",
      "description": "",
      "description_tooltip": null,
      "layout": "IPY_MODEL_daf166b740704839af65fc5e5a21b68a",
      "placeholder": "​",
      "style": "IPY_MODEL_baf20c73b81f4ba2bcaa7d66e2afb01e",
      "value": " 1.36M/1.36M [00:00&lt;00:00, 35.7MB/s]"
     }
    },
    "6285c31fa1fb47e29406031686ce87ab": {
     "model_module": "@jupyter-widgets/controls",
     "model_module_version": "1.5.0",
     "model_name": "DescriptionStyleModel",
     "state": {
      "_model_module": "@jupyter-widgets/controls",
      "_model_module_version": "1.5.0",
      "_model_name": "DescriptionStyleModel",
      "_view_count": null,
      "_view_module": "@jupyter-widgets/base",
      "_view_module_version": "1.2.0",
      "_view_name": "StyleView",
      "description_width": ""
     }
    },
    "63c54665950d47a79c2c79270ca8d09c": {
     "model_module": "@jupyter-widgets/controls",
     "model_module_version": "1.5.0",
     "model_name": "HBoxModel",
     "state": {
      "_dom_classes": [],
      "_model_module": "@jupyter-widgets/controls",
      "_model_module_version": "1.5.0",
      "_model_name": "HBoxModel",
      "_view_count": null,
      "_view_module": "@jupyter-widgets/controls",
      "_view_module_version": "1.5.0",
      "_view_name": "HBoxView",
      "box_style": "",
      "children": [
       "IPY_MODEL_468e8b55f35642138e7b470d10b3cf44",
       "IPY_MODEL_ec95d7d2b64a4f349cb4a797df44e00d",
       "IPY_MODEL_38e04de231ee491dab99a7ffb707c0b7"
      ],
      "layout": "IPY_MODEL_1ef74353615649c0979af95e55af2964"
     }
    },
    "63dc52b0f33e4c1a9bde32e738f5407f": {
     "model_module": "@jupyter-widgets/base",
     "model_module_version": "1.2.0",
     "model_name": "LayoutModel",
     "state": {
      "_model_module": "@jupyter-widgets/base",
      "_model_module_version": "1.2.0",
      "_model_name": "LayoutModel",
      "_view_count": null,
      "_view_module": "@jupyter-widgets/base",
      "_view_module_version": "1.2.0",
      "_view_name": "LayoutView",
      "align_content": null,
      "align_items": null,
      "align_self": null,
      "border": null,
      "bottom": null,
      "display": null,
      "flex": null,
      "flex_flow": null,
      "grid_area": null,
      "grid_auto_columns": null,
      "grid_auto_flow": null,
      "grid_auto_rows": null,
      "grid_column": null,
      "grid_gap": null,
      "grid_row": null,
      "grid_template_areas": null,
      "grid_template_columns": null,
      "grid_template_rows": null,
      "height": null,
      "justify_content": null,
      "justify_items": null,
      "left": null,
      "margin": null,
      "max_height": null,
      "max_width": null,
      "min_height": null,
      "min_width": null,
      "object_fit": null,
      "object_position": null,
      "order": null,
      "overflow": null,
      "overflow_x": null,
      "overflow_y": null,
      "padding": null,
      "right": null,
      "top": null,
      "visibility": null,
      "width": null
     }
    },
    "64188b8ceeec4e63b2f344ef94eaa43e": {
     "model_module": "@jupyter-widgets/base",
     "model_module_version": "1.2.0",
     "model_name": "LayoutModel",
     "state": {
      "_model_module": "@jupyter-widgets/base",
      "_model_module_version": "1.2.0",
      "_model_name": "LayoutModel",
      "_view_count": null,
      "_view_module": "@jupyter-widgets/base",
      "_view_module_version": "1.2.0",
      "_view_name": "LayoutView",
      "align_content": null,
      "align_items": null,
      "align_self": null,
      "border": null,
      "bottom": null,
      "display": null,
      "flex": null,
      "flex_flow": null,
      "grid_area": null,
      "grid_auto_columns": null,
      "grid_auto_flow": null,
      "grid_auto_rows": null,
      "grid_column": null,
      "grid_gap": null,
      "grid_row": null,
      "grid_template_areas": null,
      "grid_template_columns": null,
      "grid_template_rows": null,
      "height": null,
      "justify_content": null,
      "justify_items": null,
      "left": null,
      "margin": null,
      "max_height": null,
      "max_width": null,
      "min_height": null,
      "min_width": null,
      "object_fit": null,
      "object_position": null,
      "order": null,
      "overflow": null,
      "overflow_x": null,
      "overflow_y": null,
      "padding": null,
      "right": null,
      "top": null,
      "visibility": null,
      "width": null
     }
    },
    "65526d7d910c42daaa8d52ccc379903a": {
     "model_module": "@jupyter-widgets/controls",
     "model_module_version": "1.5.0",
     "model_name": "DescriptionStyleModel",
     "state": {
      "_model_module": "@jupyter-widgets/controls",
      "_model_module_version": "1.5.0",
      "_model_name": "DescriptionStyleModel",
      "_view_count": null,
      "_view_module": "@jupyter-widgets/base",
      "_view_module_version": "1.2.0",
      "_view_name": "StyleView",
      "description_width": ""
     }
    },
    "676b25038ac147789addb6c09f295241": {
     "model_module": "@jupyter-widgets/controls",
     "model_module_version": "1.5.0",
     "model_name": "HTMLModel",
     "state": {
      "_dom_classes": [],
      "_model_module": "@jupyter-widgets/controls",
      "_model_module_version": "1.5.0",
      "_model_name": "HTMLModel",
      "_view_count": null,
      "_view_module": "@jupyter-widgets/controls",
      "_view_module_version": "1.5.0",
      "_view_name": "HTMLView",
      "description": "",
      "description_tooltip": null,
      "layout": "IPY_MODEL_c17ad08ae92a47ed81bd61f93259e344",
      "placeholder": "​",
      "style": "IPY_MODEL_2c463cabeacd4ae7b749d02ed3985097",
      "value": " 26.0/26.0 [00:00&lt;00:00, 2.45kB/s]"
     }
    },
    "67bce39c72b64423a67ab4ea5b227fdf": {
     "model_module": "@jupyter-widgets/controls",
     "model_module_version": "1.5.0",
     "model_name": "HTMLModel",
     "state": {
      "_dom_classes": [],
      "_model_module": "@jupyter-widgets/controls",
      "_model_module_version": "1.5.0",
      "_model_name": "HTMLModel",
      "_view_count": null,
      "_view_module": "@jupyter-widgets/controls",
      "_view_module_version": "1.5.0",
      "_view_name": "HTMLView",
      "description": "",
      "description_tooltip": null,
      "layout": "IPY_MODEL_e627382e6a7a41a7b28d7f1f23673262",
      "placeholder": "​",
      "style": "IPY_MODEL_58b0854117b54adab7bc558dc39020bd",
      "value": "tokenizer.json: 100%"
     }
    },
    "6d2ff805ebb44672b73383eeb9139608": {
     "model_module": "@jupyter-widgets/controls",
     "model_module_version": "1.5.0",
     "model_name": "HTMLModel",
     "state": {
      "_dom_classes": [],
      "_model_module": "@jupyter-widgets/controls",
      "_model_module_version": "1.5.0",
      "_model_name": "HTMLModel",
      "_view_count": null,
      "_view_module": "@jupyter-widgets/controls",
      "_view_module_version": "1.5.0",
      "_view_name": "HTMLView",
      "description": "",
      "description_tooltip": null,
      "layout": "IPY_MODEL_176a3faf01c94e61b492747bbafc92e4",
      "placeholder": "​",
      "style": "IPY_MODEL_5d2b74472bae4b8d95db94b79ec4dd97",
      "value": "model.safetensors: 100%"
     }
    },
    "7395701355354fc886b715eb57e73a6f": {
     "model_module": "@jupyter-widgets/base",
     "model_module_version": "1.2.0",
     "model_name": "LayoutModel",
     "state": {
      "_model_module": "@jupyter-widgets/base",
      "_model_module_version": "1.2.0",
      "_model_name": "LayoutModel",
      "_view_count": null,
      "_view_module": "@jupyter-widgets/base",
      "_view_module_version": "1.2.0",
      "_view_name": "LayoutView",
      "align_content": null,
      "align_items": null,
      "align_self": null,
      "border": null,
      "bottom": null,
      "display": null,
      "flex": null,
      "flex_flow": null,
      "grid_area": null,
      "grid_auto_columns": null,
      "grid_auto_flow": null,
      "grid_auto_rows": null,
      "grid_column": null,
      "grid_gap": null,
      "grid_row": null,
      "grid_template_areas": null,
      "grid_template_columns": null,
      "grid_template_rows": null,
      "height": null,
      "justify_content": null,
      "justify_items": null,
      "left": null,
      "margin": null,
      "max_height": null,
      "max_width": null,
      "min_height": null,
      "min_width": null,
      "object_fit": null,
      "object_position": null,
      "order": null,
      "overflow": null,
      "overflow_x": null,
      "overflow_y": null,
      "padding": null,
      "right": null,
      "top": null,
      "visibility": null,
      "width": null
     }
    },
    "7a7849d27712451eb2a39ab9ea80843f": {
     "model_module": "@jupyter-widgets/base",
     "model_module_version": "1.2.0",
     "model_name": "LayoutModel",
     "state": {
      "_model_module": "@jupyter-widgets/base",
      "_model_module_version": "1.2.0",
      "_model_name": "LayoutModel",
      "_view_count": null,
      "_view_module": "@jupyter-widgets/base",
      "_view_module_version": "1.2.0",
      "_view_name": "LayoutView",
      "align_content": null,
      "align_items": null,
      "align_self": null,
      "border": null,
      "bottom": null,
      "display": null,
      "flex": null,
      "flex_flow": null,
      "grid_area": null,
      "grid_auto_columns": null,
      "grid_auto_flow": null,
      "grid_auto_rows": null,
      "grid_column": null,
      "grid_gap": null,
      "grid_row": null,
      "grid_template_areas": null,
      "grid_template_columns": null,
      "grid_template_rows": null,
      "height": null,
      "justify_content": null,
      "justify_items": null,
      "left": null,
      "margin": null,
      "max_height": null,
      "max_width": null,
      "min_height": null,
      "min_width": null,
      "object_fit": null,
      "object_position": null,
      "order": null,
      "overflow": null,
      "overflow_x": null,
      "overflow_y": null,
      "padding": null,
      "right": null,
      "top": null,
      "visibility": null,
      "width": null
     }
    },
    "8083e68580744b0f97f488eb4160517c": {
     "model_module": "@jupyter-widgets/controls",
     "model_module_version": "1.5.0",
     "model_name": "HBoxModel",
     "state": {
      "_dom_classes": [],
      "_model_module": "@jupyter-widgets/controls",
      "_model_module_version": "1.5.0",
      "_model_name": "HBoxModel",
      "_view_count": null,
      "_view_module": "@jupyter-widgets/controls",
      "_view_module_version": "1.5.0",
      "_view_name": "HBoxView",
      "box_style": "",
      "children": [
       "IPY_MODEL_3007493427ce4aa6b42e19e763edb2ba",
       "IPY_MODEL_ad1c83b17dab4d718aedfc391884a012",
       "IPY_MODEL_10063740858b4a3a91484208a867ab37"
      ],
      "layout": "IPY_MODEL_63dc52b0f33e4c1a9bde32e738f5407f"
     }
    },
    "85cef1f0647f4a0393b66e02412baa17": {
     "model_module": "@jupyter-widgets/controls",
     "model_module_version": "1.5.0",
     "model_name": "HTMLModel",
     "state": {
      "_dom_classes": [],
      "_model_module": "@jupyter-widgets/controls",
      "_model_module_version": "1.5.0",
      "_model_name": "HTMLModel",
      "_view_count": null,
      "_view_module": "@jupyter-widgets/controls",
      "_view_module_version": "1.5.0",
      "_view_name": "HTMLView",
      "description": "",
      "description_tooltip": null,
      "layout": "IPY_MODEL_d8ce9fc88161455bafc9057eec459cac",
      "placeholder": "​",
      "style": "IPY_MODEL_c772eae3295343eca299894fd873b169",
      "value": "generation_config.json: 100%"
     }
    },
    "886a2cecdbd14b4593bc7707d5a7402a": {
     "model_module": "@jupyter-widgets/base",
     "model_module_version": "1.2.0",
     "model_name": "LayoutModel",
     "state": {
      "_model_module": "@jupyter-widgets/base",
      "_model_module_version": "1.2.0",
      "_model_name": "LayoutModel",
      "_view_count": null,
      "_view_module": "@jupyter-widgets/base",
      "_view_module_version": "1.2.0",
      "_view_name": "LayoutView",
      "align_content": null,
      "align_items": null,
      "align_self": null,
      "border": null,
      "bottom": null,
      "display": null,
      "flex": null,
      "flex_flow": null,
      "grid_area": null,
      "grid_auto_columns": null,
      "grid_auto_flow": null,
      "grid_auto_rows": null,
      "grid_column": null,
      "grid_gap": null,
      "grid_row": null,
      "grid_template_areas": null,
      "grid_template_columns": null,
      "grid_template_rows": null,
      "height": null,
      "justify_content": null,
      "justify_items": null,
      "left": null,
      "margin": null,
      "max_height": null,
      "max_width": null,
      "min_height": null,
      "min_width": null,
      "object_fit": null,
      "object_position": null,
      "order": null,
      "overflow": null,
      "overflow_x": null,
      "overflow_y": null,
      "padding": null,
      "right": null,
      "top": null,
      "visibility": null,
      "width": null
     }
    },
    "8bd3f5aeb6d249a79ccd53a3fd7fb7b1": {
     "model_module": "@jupyter-widgets/controls",
     "model_module_version": "1.5.0",
     "model_name": "HTMLModel",
     "state": {
      "_dom_classes": [],
      "_model_module": "@jupyter-widgets/controls",
      "_model_module_version": "1.5.0",
      "_model_name": "HTMLModel",
      "_view_count": null,
      "_view_module": "@jupyter-widgets/controls",
      "_view_module_version": "1.5.0",
      "_view_name": "HTMLView",
      "description": "",
      "description_tooltip": null,
      "layout": "IPY_MODEL_3353feb347224ca8bc1923131fee5e00",
      "placeholder": "​",
      "style": "IPY_MODEL_c21ec159d51f4557bd55b483127c23d0",
      "value": "vocab.json: 100%"
     }
    },
    "8c23574922b2444892088fcd043edbb7": {
     "model_module": "@jupyter-widgets/controls",
     "model_module_version": "1.5.0",
     "model_name": "HBoxModel",
     "state": {
      "_dom_classes": [],
      "_model_module": "@jupyter-widgets/controls",
      "_model_module_version": "1.5.0",
      "_model_name": "HBoxModel",
      "_view_count": null,
      "_view_module": "@jupyter-widgets/controls",
      "_view_module_version": "1.5.0",
      "_view_name": "HBoxView",
      "box_style": "",
      "children": [
       "IPY_MODEL_6d2ff805ebb44672b73383eeb9139608",
       "IPY_MODEL_2b3ae6859ec34957b28166a346ee7271",
       "IPY_MODEL_1fa57f9d1655455ebed030e7a9baf4e8"
      ],
      "layout": "IPY_MODEL_7395701355354fc886b715eb57e73a6f"
     }
    },
    "8cf2147f36aa416588ed81dc9918a51a": {
     "model_module": "@jupyter-widgets/controls",
     "model_module_version": "1.5.0",
     "model_name": "HBoxModel",
     "state": {
      "_dom_classes": [],
      "_model_module": "@jupyter-widgets/controls",
      "_model_module_version": "1.5.0",
      "_model_name": "HBoxModel",
      "_view_count": null,
      "_view_module": "@jupyter-widgets/controls",
      "_view_module_version": "1.5.0",
      "_view_name": "HBoxView",
      "box_style": "",
      "children": [
       "IPY_MODEL_67bce39c72b64423a67ab4ea5b227fdf",
       "IPY_MODEL_0724c9596ff8435aa3f63b73c8bc94d4",
       "IPY_MODEL_623589189c414a34a276e9e3c8e1d838"
      ],
      "layout": "IPY_MODEL_ff87916e29a24865b57c8ad4d60811e6"
     }
    },
    "94e92f3dc373434a991da1d5b621a5f5": {
     "model_module": "@jupyter-widgets/base",
     "model_module_version": "1.2.0",
     "model_name": "LayoutModel",
     "state": {
      "_model_module": "@jupyter-widgets/base",
      "_model_module_version": "1.2.0",
      "_model_name": "LayoutModel",
      "_view_count": null,
      "_view_module": "@jupyter-widgets/base",
      "_view_module_version": "1.2.0",
      "_view_name": "LayoutView",
      "align_content": null,
      "align_items": null,
      "align_self": null,
      "border": null,
      "bottom": null,
      "display": null,
      "flex": null,
      "flex_flow": null,
      "grid_area": null,
      "grid_auto_columns": null,
      "grid_auto_flow": null,
      "grid_auto_rows": null,
      "grid_column": null,
      "grid_gap": null,
      "grid_row": null,
      "grid_template_areas": null,
      "grid_template_columns": null,
      "grid_template_rows": null,
      "height": null,
      "justify_content": null,
      "justify_items": null,
      "left": null,
      "margin": null,
      "max_height": null,
      "max_width": null,
      "min_height": null,
      "min_width": null,
      "object_fit": null,
      "object_position": null,
      "order": null,
      "overflow": null,
      "overflow_x": null,
      "overflow_y": null,
      "padding": null,
      "right": null,
      "top": null,
      "visibility": null,
      "width": null
     }
    },
    "97fb544562aa441681963c6c8c5d7bb3": {
     "model_module": "@jupyter-widgets/base",
     "model_module_version": "1.2.0",
     "model_name": "LayoutModel",
     "state": {
      "_model_module": "@jupyter-widgets/base",
      "_model_module_version": "1.2.0",
      "_model_name": "LayoutModel",
      "_view_count": null,
      "_view_module": "@jupyter-widgets/base",
      "_view_module_version": "1.2.0",
      "_view_name": "LayoutView",
      "align_content": null,
      "align_items": null,
      "align_self": null,
      "border": null,
      "bottom": null,
      "display": null,
      "flex": null,
      "flex_flow": null,
      "grid_area": null,
      "grid_auto_columns": null,
      "grid_auto_flow": null,
      "grid_auto_rows": null,
      "grid_column": null,
      "grid_gap": null,
      "grid_row": null,
      "grid_template_areas": null,
      "grid_template_columns": null,
      "grid_template_rows": null,
      "height": null,
      "justify_content": null,
      "justify_items": null,
      "left": null,
      "margin": null,
      "max_height": null,
      "max_width": null,
      "min_height": null,
      "min_width": null,
      "object_fit": null,
      "object_position": null,
      "order": null,
      "overflow": null,
      "overflow_x": null,
      "overflow_y": null,
      "padding": null,
      "right": null,
      "top": null,
      "visibility": null,
      "width": null
     }
    },
    "99c585ed291e458bb767b160f0380238": {
     "model_module": "@jupyter-widgets/controls",
     "model_module_version": "1.5.0",
     "model_name": "HTMLModel",
     "state": {
      "_dom_classes": [],
      "_model_module": "@jupyter-widgets/controls",
      "_model_module_version": "1.5.0",
      "_model_name": "HTMLModel",
      "_view_count": null,
      "_view_module": "@jupyter-widgets/controls",
      "_view_module_version": "1.5.0",
      "_view_name": "HTMLView",
      "description": "",
      "description_tooltip": null,
      "layout": "IPY_MODEL_61a6b4032cd1461f94d3ea303b112c56",
      "placeholder": "​",
      "style": "IPY_MODEL_3f0e5387a45d4539abd0645ca45298d0",
      "value": "tokenizer_config.json: 100%"
     }
    },
    "9c5d23bf320145c5b84d078039032345": {
     "model_module": "@jupyter-widgets/controls",
     "model_module_version": "1.5.0",
     "model_name": "DescriptionStyleModel",
     "state": {
      "_model_module": "@jupyter-widgets/controls",
      "_model_module_version": "1.5.0",
      "_model_name": "DescriptionStyleModel",
      "_view_count": null,
      "_view_module": "@jupyter-widgets/base",
      "_view_module_version": "1.2.0",
      "_view_name": "StyleView",
      "description_width": ""
     }
    },
    "a7e27c0ff06e43eea7bd4799c9ec1394": {
     "model_module": "@jupyter-widgets/base",
     "model_module_version": "1.2.0",
     "model_name": "LayoutModel",
     "state": {
      "_model_module": "@jupyter-widgets/base",
      "_model_module_version": "1.2.0",
      "_model_name": "LayoutModel",
      "_view_count": null,
      "_view_module": "@jupyter-widgets/base",
      "_view_module_version": "1.2.0",
      "_view_name": "LayoutView",
      "align_content": null,
      "align_items": null,
      "align_self": null,
      "border": null,
      "bottom": null,
      "display": null,
      "flex": null,
      "flex_flow": null,
      "grid_area": null,
      "grid_auto_columns": null,
      "grid_auto_flow": null,
      "grid_auto_rows": null,
      "grid_column": null,
      "grid_gap": null,
      "grid_row": null,
      "grid_template_areas": null,
      "grid_template_columns": null,
      "grid_template_rows": null,
      "height": null,
      "justify_content": null,
      "justify_items": null,
      "left": null,
      "margin": null,
      "max_height": null,
      "max_width": null,
      "min_height": null,
      "min_width": null,
      "object_fit": null,
      "object_position": null,
      "order": null,
      "overflow": null,
      "overflow_x": null,
      "overflow_y": null,
      "padding": null,
      "right": null,
      "top": null,
      "visibility": null,
      "width": null
     }
    },
    "ac6f37065aeb481f8c7f56abed679453": {
     "model_module": "@jupyter-widgets/controls",
     "model_module_version": "1.5.0",
     "model_name": "ProgressStyleModel",
     "state": {
      "_model_module": "@jupyter-widgets/controls",
      "_model_module_version": "1.5.0",
      "_model_name": "ProgressStyleModel",
      "_view_count": null,
      "_view_module": "@jupyter-widgets/base",
      "_view_module_version": "1.2.0",
      "_view_name": "StyleView",
      "bar_color": null,
      "description_width": ""
     }
    },
    "ad1c83b17dab4d718aedfc391884a012": {
     "model_module": "@jupyter-widgets/controls",
     "model_module_version": "1.5.0",
     "model_name": "FloatProgressModel",
     "state": {
      "_dom_classes": [],
      "_model_module": "@jupyter-widgets/controls",
      "_model_module_version": "1.5.0",
      "_model_name": "FloatProgressModel",
      "_view_count": null,
      "_view_module": "@jupyter-widgets/controls",
      "_view_module_version": "1.5.0",
      "_view_name": "ProgressView",
      "bar_style": "success",
      "description": "",
      "description_tooltip": null,
      "layout": "IPY_MODEL_3ca65a792c714b51af689a88341fcbf3",
      "max": 665,
      "min": 0,
      "orientation": "horizontal",
      "style": "IPY_MODEL_b8d389c8573243fb95a190ed24a219e4",
      "value": 665
     }
    },
    "b8d389c8573243fb95a190ed24a219e4": {
     "model_module": "@jupyter-widgets/controls",
     "model_module_version": "1.5.0",
     "model_name": "ProgressStyleModel",
     "state": {
      "_model_module": "@jupyter-widgets/controls",
      "_model_module_version": "1.5.0",
      "_model_name": "ProgressStyleModel",
      "_view_count": null,
      "_view_module": "@jupyter-widgets/base",
      "_view_module_version": "1.2.0",
      "_view_name": "StyleView",
      "bar_color": null,
      "description_width": ""
     }
    },
    "ba8c816612de476c90e06ac25c335310": {
     "model_module": "@jupyter-widgets/controls",
     "model_module_version": "1.5.0",
     "model_name": "FloatProgressModel",
     "state": {
      "_dom_classes": [],
      "_model_module": "@jupyter-widgets/controls",
      "_model_module_version": "1.5.0",
      "_model_name": "FloatProgressModel",
      "_view_count": null,
      "_view_module": "@jupyter-widgets/controls",
      "_view_module_version": "1.5.0",
      "_view_name": "ProgressView",
      "bar_style": "success",
      "description": "",
      "description_tooltip": null,
      "layout": "IPY_MODEL_56459220320f42e1b7d997e4d4d21a93",
      "max": 1042301,
      "min": 0,
      "orientation": "horizontal",
      "style": "IPY_MODEL_ac6f37065aeb481f8c7f56abed679453",
      "value": 1042301
     }
    },
    "baf20c73b81f4ba2bcaa7d66e2afb01e": {
     "model_module": "@jupyter-widgets/controls",
     "model_module_version": "1.5.0",
     "model_name": "DescriptionStyleModel",
     "state": {
      "_model_module": "@jupyter-widgets/controls",
      "_model_module_version": "1.5.0",
      "_model_name": "DescriptionStyleModel",
      "_view_count": null,
      "_view_module": "@jupyter-widgets/base",
      "_view_module_version": "1.2.0",
      "_view_name": "StyleView",
      "description_width": ""
     }
    },
    "bc621da9bb974296871b3f1dd899ce23": {
     "model_module": "@jupyter-widgets/base",
     "model_module_version": "1.2.0",
     "model_name": "LayoutModel",
     "state": {
      "_model_module": "@jupyter-widgets/base",
      "_model_module_version": "1.2.0",
      "_model_name": "LayoutModel",
      "_view_count": null,
      "_view_module": "@jupyter-widgets/base",
      "_view_module_version": "1.2.0",
      "_view_name": "LayoutView",
      "align_content": null,
      "align_items": null,
      "align_self": null,
      "border": null,
      "bottom": null,
      "display": null,
      "flex": null,
      "flex_flow": null,
      "grid_area": null,
      "grid_auto_columns": null,
      "grid_auto_flow": null,
      "grid_auto_rows": null,
      "grid_column": null,
      "grid_gap": null,
      "grid_row": null,
      "grid_template_areas": null,
      "grid_template_columns": null,
      "grid_template_rows": null,
      "height": null,
      "justify_content": null,
      "justify_items": null,
      "left": null,
      "margin": null,
      "max_height": null,
      "max_width": null,
      "min_height": null,
      "min_width": null,
      "object_fit": null,
      "object_position": null,
      "order": null,
      "overflow": null,
      "overflow_x": null,
      "overflow_y": null,
      "padding": null,
      "right": null,
      "top": null,
      "visibility": null,
      "width": null
     }
    },
    "bec64f0ccb094388876b5fe0ef3ea35a": {
     "model_module": "@jupyter-widgets/controls",
     "model_module_version": "1.5.0",
     "model_name": "HBoxModel",
     "state": {
      "_dom_classes": [],
      "_model_module": "@jupyter-widgets/controls",
      "_model_module_version": "1.5.0",
      "_model_name": "HBoxModel",
      "_view_count": null,
      "_view_module": "@jupyter-widgets/controls",
      "_view_module_version": "1.5.0",
      "_view_name": "HBoxView",
      "box_style": "",
      "children": [
       "IPY_MODEL_99c585ed291e458bb767b160f0380238",
       "IPY_MODEL_e9d61aaaef48497783106c62b185465a",
       "IPY_MODEL_676b25038ac147789addb6c09f295241"
      ],
      "layout": "IPY_MODEL_d2bb8b65218e433c8b9fdc95413d5e00"
     }
    },
    "bf403f71a5c4480c83847064fd04c15b": {
     "model_module": "@jupyter-widgets/base",
     "model_module_version": "1.2.0",
     "model_name": "LayoutModel",
     "state": {
      "_model_module": "@jupyter-widgets/base",
      "_model_module_version": "1.2.0",
      "_model_name": "LayoutModel",
      "_view_count": null,
      "_view_module": "@jupyter-widgets/base",
      "_view_module_version": "1.2.0",
      "_view_name": "LayoutView",
      "align_content": null,
      "align_items": null,
      "align_self": null,
      "border": null,
      "bottom": null,
      "display": null,
      "flex": null,
      "flex_flow": null,
      "grid_area": null,
      "grid_auto_columns": null,
      "grid_auto_flow": null,
      "grid_auto_rows": null,
      "grid_column": null,
      "grid_gap": null,
      "grid_row": null,
      "grid_template_areas": null,
      "grid_template_columns": null,
      "grid_template_rows": null,
      "height": null,
      "justify_content": null,
      "justify_items": null,
      "left": null,
      "margin": null,
      "max_height": null,
      "max_width": null,
      "min_height": null,
      "min_width": null,
      "object_fit": null,
      "object_position": null,
      "order": null,
      "overflow": null,
      "overflow_x": null,
      "overflow_y": null,
      "padding": null,
      "right": null,
      "top": null,
      "visibility": null,
      "width": null
     }
    },
    "bfa306fc673c474aafc2b4a06aaabf61": {
     "model_module": "@jupyter-widgets/controls",
     "model_module_version": "1.5.0",
     "model_name": "ProgressStyleModel",
     "state": {
      "_model_module": "@jupyter-widgets/controls",
      "_model_module_version": "1.5.0",
      "_model_name": "ProgressStyleModel",
      "_view_count": null,
      "_view_module": "@jupyter-widgets/base",
      "_view_module_version": "1.2.0",
      "_view_name": "StyleView",
      "bar_color": null,
      "description_width": ""
     }
    },
    "c17ad08ae92a47ed81bd61f93259e344": {
     "model_module": "@jupyter-widgets/base",
     "model_module_version": "1.2.0",
     "model_name": "LayoutModel",
     "state": {
      "_model_module": "@jupyter-widgets/base",
      "_model_module_version": "1.2.0",
      "_model_name": "LayoutModel",
      "_view_count": null,
      "_view_module": "@jupyter-widgets/base",
      "_view_module_version": "1.2.0",
      "_view_name": "LayoutView",
      "align_content": null,
      "align_items": null,
      "align_self": null,
      "border": null,
      "bottom": null,
      "display": null,
      "flex": null,
      "flex_flow": null,
      "grid_area": null,
      "grid_auto_columns": null,
      "grid_auto_flow": null,
      "grid_auto_rows": null,
      "grid_column": null,
      "grid_gap": null,
      "grid_row": null,
      "grid_template_areas": null,
      "grid_template_columns": null,
      "grid_template_rows": null,
      "height": null,
      "justify_content": null,
      "justify_items": null,
      "left": null,
      "margin": null,
      "max_height": null,
      "max_width": null,
      "min_height": null,
      "min_width": null,
      "object_fit": null,
      "object_position": null,
      "order": null,
      "overflow": null,
      "overflow_x": null,
      "overflow_y": null,
      "padding": null,
      "right": null,
      "top": null,
      "visibility": null,
      "width": null
     }
    },
    "c21ec159d51f4557bd55b483127c23d0": {
     "model_module": "@jupyter-widgets/controls",
     "model_module_version": "1.5.0",
     "model_name": "DescriptionStyleModel",
     "state": {
      "_model_module": "@jupyter-widgets/controls",
      "_model_module_version": "1.5.0",
      "_model_name": "DescriptionStyleModel",
      "_view_count": null,
      "_view_module": "@jupyter-widgets/base",
      "_view_module_version": "1.2.0",
      "_view_name": "StyleView",
      "description_width": ""
     }
    },
    "c772eae3295343eca299894fd873b169": {
     "model_module": "@jupyter-widgets/controls",
     "model_module_version": "1.5.0",
     "model_name": "DescriptionStyleModel",
     "state": {
      "_model_module": "@jupyter-widgets/controls",
      "_model_module_version": "1.5.0",
      "_model_name": "DescriptionStyleModel",
      "_view_count": null,
      "_view_module": "@jupyter-widgets/base",
      "_view_module_version": "1.2.0",
      "_view_name": "StyleView",
      "description_width": ""
     }
    },
    "c897385a4a324d0c8312752b4e25bdb9": {
     "model_module": "@jupyter-widgets/controls",
     "model_module_version": "1.5.0",
     "model_name": "FloatProgressModel",
     "state": {
      "_dom_classes": [],
      "_model_module": "@jupyter-widgets/controls",
      "_model_module_version": "1.5.0",
      "_model_name": "FloatProgressModel",
      "_view_count": null,
      "_view_module": "@jupyter-widgets/controls",
      "_view_module_version": "1.5.0",
      "_view_name": "ProgressView",
      "bar_style": "success",
      "description": "",
      "description_tooltip": null,
      "layout": "IPY_MODEL_a7e27c0ff06e43eea7bd4799c9ec1394",
      "max": 124,
      "min": 0,
      "orientation": "horizontal",
      "style": "IPY_MODEL_2604e396b9f44bbfafcfb4b2cafcc09d",
      "value": 124
     }
    },
    "d2bb8b65218e433c8b9fdc95413d5e00": {
     "model_module": "@jupyter-widgets/base",
     "model_module_version": "1.2.0",
     "model_name": "LayoutModel",
     "state": {
      "_model_module": "@jupyter-widgets/base",
      "_model_module_version": "1.2.0",
      "_model_name": "LayoutModel",
      "_view_count": null,
      "_view_module": "@jupyter-widgets/base",
      "_view_module_version": "1.2.0",
      "_view_name": "LayoutView",
      "align_content": null,
      "align_items": null,
      "align_self": null,
      "border": null,
      "bottom": null,
      "display": null,
      "flex": null,
      "flex_flow": null,
      "grid_area": null,
      "grid_auto_columns": null,
      "grid_auto_flow": null,
      "grid_auto_rows": null,
      "grid_column": null,
      "grid_gap": null,
      "grid_row": null,
      "grid_template_areas": null,
      "grid_template_columns": null,
      "grid_template_rows": null,
      "height": null,
      "justify_content": null,
      "justify_items": null,
      "left": null,
      "margin": null,
      "max_height": null,
      "max_width": null,
      "min_height": null,
      "min_width": null,
      "object_fit": null,
      "object_position": null,
      "order": null,
      "overflow": null,
      "overflow_x": null,
      "overflow_y": null,
      "padding": null,
      "right": null,
      "top": null,
      "visibility": null,
      "width": null
     }
    },
    "d8ce9fc88161455bafc9057eec459cac": {
     "model_module": "@jupyter-widgets/base",
     "model_module_version": "1.2.0",
     "model_name": "LayoutModel",
     "state": {
      "_model_module": "@jupyter-widgets/base",
      "_model_module_version": "1.2.0",
      "_model_name": "LayoutModel",
      "_view_count": null,
      "_view_module": "@jupyter-widgets/base",
      "_view_module_version": "1.2.0",
      "_view_name": "LayoutView",
      "align_content": null,
      "align_items": null,
      "align_self": null,
      "border": null,
      "bottom": null,
      "display": null,
      "flex": null,
      "flex_flow": null,
      "grid_area": null,
      "grid_auto_columns": null,
      "grid_auto_flow": null,
      "grid_auto_rows": null,
      "grid_column": null,
      "grid_gap": null,
      "grid_row": null,
      "grid_template_areas": null,
      "grid_template_columns": null,
      "grid_template_rows": null,
      "height": null,
      "justify_content": null,
      "justify_items": null,
      "left": null,
      "margin": null,
      "max_height": null,
      "max_width": null,
      "min_height": null,
      "min_width": null,
      "object_fit": null,
      "object_position": null,
      "order": null,
      "overflow": null,
      "overflow_x": null,
      "overflow_y": null,
      "padding": null,
      "right": null,
      "top": null,
      "visibility": null,
      "width": null
     }
    },
    "daf166b740704839af65fc5e5a21b68a": {
     "model_module": "@jupyter-widgets/base",
     "model_module_version": "1.2.0",
     "model_name": "LayoutModel",
     "state": {
      "_model_module": "@jupyter-widgets/base",
      "_model_module_version": "1.2.0",
      "_model_name": "LayoutModel",
      "_view_count": null,
      "_view_module": "@jupyter-widgets/base",
      "_view_module_version": "1.2.0",
      "_view_name": "LayoutView",
      "align_content": null,
      "align_items": null,
      "align_self": null,
      "border": null,
      "bottom": null,
      "display": null,
      "flex": null,
      "flex_flow": null,
      "grid_area": null,
      "grid_auto_columns": null,
      "grid_auto_flow": null,
      "grid_auto_rows": null,
      "grid_column": null,
      "grid_gap": null,
      "grid_row": null,
      "grid_template_areas": null,
      "grid_template_columns": null,
      "grid_template_rows": null,
      "height": null,
      "justify_content": null,
      "justify_items": null,
      "left": null,
      "margin": null,
      "max_height": null,
      "max_width": null,
      "min_height": null,
      "min_width": null,
      "object_fit": null,
      "object_position": null,
      "order": null,
      "overflow": null,
      "overflow_x": null,
      "overflow_y": null,
      "padding": null,
      "right": null,
      "top": null,
      "visibility": null,
      "width": null
     }
    },
    "dca8115f5b224982841e75dfad260a13": {
     "model_module": "@jupyter-widgets/controls",
     "model_module_version": "1.5.0",
     "model_name": "HBoxModel",
     "state": {
      "_dom_classes": [],
      "_model_module": "@jupyter-widgets/controls",
      "_model_module_version": "1.5.0",
      "_model_name": "HBoxModel",
      "_view_count": null,
      "_view_module": "@jupyter-widgets/controls",
      "_view_module_version": "1.5.0",
      "_view_name": "HBoxView",
      "box_style": "",
      "children": [
       "IPY_MODEL_8bd3f5aeb6d249a79ccd53a3fd7fb7b1",
       "IPY_MODEL_ba8c816612de476c90e06ac25c335310",
       "IPY_MODEL_54d9947db0214144ab6b4b57161b383e"
      ],
      "layout": "IPY_MODEL_1cdfde1b17094d48991809e2f94160c5"
     }
    },
    "e5f31bfa667a465989002a8cfab5e289": {
     "model_module": "@jupyter-widgets/controls",
     "model_module_version": "1.5.0",
     "model_name": "HTMLModel",
     "state": {
      "_dom_classes": [],
      "_model_module": "@jupyter-widgets/controls",
      "_model_module_version": "1.5.0",
      "_model_name": "HTMLModel",
      "_view_count": null,
      "_view_module": "@jupyter-widgets/controls",
      "_view_module_version": "1.5.0",
      "_view_name": "HTMLView",
      "description": "",
      "description_tooltip": null,
      "layout": "IPY_MODEL_bc621da9bb974296871b3f1dd899ce23",
      "placeholder": "​",
      "style": "IPY_MODEL_111f86e025a44567bb82ab1cab5816e5",
      "value": " 124/124 [00:00&lt;00:00, 2.65kB/s]"
     }
    },
    "e627382e6a7a41a7b28d7f1f23673262": {
     "model_module": "@jupyter-widgets/base",
     "model_module_version": "1.2.0",
     "model_name": "LayoutModel",
     "state": {
      "_model_module": "@jupyter-widgets/base",
      "_model_module_version": "1.2.0",
      "_model_name": "LayoutModel",
      "_view_count": null,
      "_view_module": "@jupyter-widgets/base",
      "_view_module_version": "1.2.0",
      "_view_name": "LayoutView",
      "align_content": null,
      "align_items": null,
      "align_self": null,
      "border": null,
      "bottom": null,
      "display": null,
      "flex": null,
      "flex_flow": null,
      "grid_area": null,
      "grid_auto_columns": null,
      "grid_auto_flow": null,
      "grid_auto_rows": null,
      "grid_column": null,
      "grid_gap": null,
      "grid_row": null,
      "grid_template_areas": null,
      "grid_template_columns": null,
      "grid_template_rows": null,
      "height": null,
      "justify_content": null,
      "justify_items": null,
      "left": null,
      "margin": null,
      "max_height": null,
      "max_width": null,
      "min_height": null,
      "min_width": null,
      "object_fit": null,
      "object_position": null,
      "order": null,
      "overflow": null,
      "overflow_x": null,
      "overflow_y": null,
      "padding": null,
      "right": null,
      "top": null,
      "visibility": null,
      "width": null
     }
    },
    "e9d61aaaef48497783106c62b185465a": {
     "model_module": "@jupyter-widgets/controls",
     "model_module_version": "1.5.0",
     "model_name": "FloatProgressModel",
     "state": {
      "_dom_classes": [],
      "_model_module": "@jupyter-widgets/controls",
      "_model_module_version": "1.5.0",
      "_model_name": "FloatProgressModel",
      "_view_count": null,
      "_view_module": "@jupyter-widgets/controls",
      "_view_module_version": "1.5.0",
      "_view_name": "ProgressView",
      "bar_style": "success",
      "description": "",
      "description_tooltip": null,
      "layout": "IPY_MODEL_bf403f71a5c4480c83847064fd04c15b",
      "max": 26,
      "min": 0,
      "orientation": "horizontal",
      "style": "IPY_MODEL_50c261a1a87842349973b508930818c4",
      "value": 26
     }
    },
    "ec95d7d2b64a4f349cb4a797df44e00d": {
     "model_module": "@jupyter-widgets/controls",
     "model_module_version": "1.5.0",
     "model_name": "FloatProgressModel",
     "state": {
      "_dom_classes": [],
      "_model_module": "@jupyter-widgets/controls",
      "_model_module_version": "1.5.0",
      "_model_name": "FloatProgressModel",
      "_view_count": null,
      "_view_module": "@jupyter-widgets/controls",
      "_view_module_version": "1.5.0",
      "_view_name": "ProgressView",
      "bar_style": "success",
      "description": "",
      "description_tooltip": null,
      "layout": "IPY_MODEL_97fb544562aa441681963c6c8c5d7bb3",
      "max": 456318,
      "min": 0,
      "orientation": "horizontal",
      "style": "IPY_MODEL_18f979ec0080426d838e3db8311ccaf7",
      "value": 456318
     }
    },
    "f94dc9a9ee894ef69f88eb74a0292d09": {
     "model_module": "@jupyter-widgets/base",
     "model_module_version": "1.2.0",
     "model_name": "LayoutModel",
     "state": {
      "_model_module": "@jupyter-widgets/base",
      "_model_module_version": "1.2.0",
      "_model_name": "LayoutModel",
      "_view_count": null,
      "_view_module": "@jupyter-widgets/base",
      "_view_module_version": "1.2.0",
      "_view_name": "LayoutView",
      "align_content": null,
      "align_items": null,
      "align_self": null,
      "border": null,
      "bottom": null,
      "display": null,
      "flex": null,
      "flex_flow": null,
      "grid_area": null,
      "grid_auto_columns": null,
      "grid_auto_flow": null,
      "grid_auto_rows": null,
      "grid_column": null,
      "grid_gap": null,
      "grid_row": null,
      "grid_template_areas": null,
      "grid_template_columns": null,
      "grid_template_rows": null,
      "height": null,
      "justify_content": null,
      "justify_items": null,
      "left": null,
      "margin": null,
      "max_height": null,
      "max_width": null,
      "min_height": null,
      "min_width": null,
      "object_fit": null,
      "object_position": null,
      "order": null,
      "overflow": null,
      "overflow_x": null,
      "overflow_y": null,
      "padding": null,
      "right": null,
      "top": null,
      "visibility": null,
      "width": null
     }
    },
    "fc1ced43ad554f039d19526bb3150285": {
     "model_module": "@jupyter-widgets/controls",
     "model_module_version": "1.5.0",
     "model_name": "DescriptionStyleModel",
     "state": {
      "_model_module": "@jupyter-widgets/controls",
      "_model_module_version": "1.5.0",
      "_model_name": "DescriptionStyleModel",
      "_view_count": null,
      "_view_module": "@jupyter-widgets/base",
      "_view_module_version": "1.2.0",
      "_view_name": "StyleView",
      "description_width": ""
     }
    },
    "ff87916e29a24865b57c8ad4d60811e6": {
     "model_module": "@jupyter-widgets/base",
     "model_module_version": "1.2.0",
     "model_name": "LayoutModel",
     "state": {
      "_model_module": "@jupyter-widgets/base",
      "_model_module_version": "1.2.0",
      "_model_name": "LayoutModel",
      "_view_count": null,
      "_view_module": "@jupyter-widgets/base",
      "_view_module_version": "1.2.0",
      "_view_name": "LayoutView",
      "align_content": null,
      "align_items": null,
      "align_self": null,
      "border": null,
      "bottom": null,
      "display": null,
      "flex": null,
      "flex_flow": null,
      "grid_area": null,
      "grid_auto_columns": null,
      "grid_auto_flow": null,
      "grid_auto_rows": null,
      "grid_column": null,
      "grid_gap": null,
      "grid_row": null,
      "grid_template_areas": null,
      "grid_template_columns": null,
      "grid_template_rows": null,
      "height": null,
      "justify_content": null,
      "justify_items": null,
      "left": null,
      "margin": null,
      "max_height": null,
      "max_width": null,
      "min_height": null,
      "min_width": null,
      "object_fit": null,
      "object_position": null,
      "order": null,
      "overflow": null,
      "overflow_x": null,
      "overflow_y": null,
      "padding": null,
      "right": null,
      "top": null,
      "visibility": null,
      "width": null
     }
    }
   }
  }
 },
 "nbformat": 4,
 "nbformat_minor": 0
}
